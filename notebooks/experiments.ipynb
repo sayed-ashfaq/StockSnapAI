{
 "cells": [
  {
   "metadata": {},
   "cell_type": "code",
   "source": [
    "from dotenv import load_dotenv\n",
    "load_dotenv()"
   ],
   "id": "8d7690926521ffc",
   "outputs": [],
   "execution_count": null
  },
  {
   "metadata": {},
   "cell_type": "code",
   "source": [
    "from langchain_openai.chat_models import ChatOpenAI\n",
    "llm= ChatOpenAI(model= \"gpt-4o\")"
   ],
   "id": "d697036c254fce6",
   "outputs": [],
   "execution_count": null
  },
  {
   "metadata": {},
   "cell_type": "code",
   "source": "llm.invoke(\"Hey\").content",
   "id": "768a2c29f0e0808c",
   "outputs": [],
   "execution_count": null
  },
  {
   "metadata": {},
   "cell_type": "markdown",
   "source": "## Testing chat module",
   "id": "90685f22099c9500"
  },
  {
   "metadata": {
    "ExecuteTime": {
     "end_time": "2025-08-14T15:43:19.758969Z",
     "start_time": "2025-08-14T15:43:19.744504Z"
    }
   },
   "cell_type": "code",
   "source": [
    "docs= [\n",
    "        \"C:\\\\Users\\\\302sy\\\\Desktop\\\\Generative AI\\\\StockSnapAI\\\\data\\\\AI-Driven Market Rally August 2025.txt\",\n",
    "        \"C:\\\\Users\\\\302sy\\\\Desktop\\\\Generative AI\\\\StockSnapAI\\\\data\\\\Stock Market Overview August 2025.txt\",\n",
    "        \"C:\\\\Users\\\\302sy\\\\Desktop\\\\Generative AI\\\\StockSnapAI\\\\data\\\\Tariff Impacts on Markets August 20.txt\"\n",
    "    ]"
   ],
   "id": "d67c469661068e99",
   "outputs": [],
   "execution_count": 1
  },
  {
   "metadata": {
    "ExecuteTime": {
     "end_time": "2025-08-14T15:43:22.846908Z",
     "start_time": "2025-08-14T15:43:19.759981Z"
    }
   },
   "cell_type": "code",
   "source": [
    "from src.news_summarizer.data_ingestion import NewsIngestor\n",
    "from src.news_summarizer.chat_module import ConversationalRAG"
   ],
   "id": "94836c745df502d0",
   "outputs": [],
   "execution_count": 2
  },
  {
   "metadata": {
    "ExecuteTime": {
     "end_time": "2025-08-14T15:43:24.265226Z",
     "start_time": "2025-08-14T15:43:22.853569Z"
    }
   },
   "cell_type": "code",
   "source": [
    "ingestor = NewsIngestor().ingest_files(docs)\n",
    "ingestor"
   ],
   "id": "ccce91eccb7a2504",
   "outputs": [
    {
     "name": "stderr",
     "output_type": "stream",
     "text": [
      "{\"temp_base\": \"data\\\\new_ingestor\", \"faiss_dir\": \"faiss_index\", \"timestamp\": \"2025-08-14T15:43:22.863763Z\", \"level\": \"info\", \"event\": \"Document Ingestion initiated\"}\n",
      "{\"filename\": \"C:\\\\Users\\\\302sy\\\\Desktop\\\\Generative AI\\\\StockSnapAI\\\\data\\\\AI-Driven Market Rally August 2025.txt\", \"saved_as\": \"data\\\\new_ingestor\\\\b2443ab2.txt\", \"timestamp\": \"2025-08-14T15:43:22.863763Z\", \"level\": \"info\", \"event\": \"File saved for ingestion\"}\n",
      "{\"filename\": \"C:\\\\Users\\\\302sy\\\\Desktop\\\\Generative AI\\\\StockSnapAI\\\\data\\\\Stock Market Overview August 2025.txt\", \"saved_as\": \"data\\\\new_ingestor\\\\cbf23802.txt\", \"timestamp\": \"2025-08-14T15:43:22.869068Z\", \"level\": \"info\", \"event\": \"File saved for ingestion\"}\n",
      "{\"filename\": \"C:\\\\Users\\\\302sy\\\\Desktop\\\\Generative AI\\\\StockSnapAI\\\\data\\\\Tariff Impacts on Markets August 20.txt\", \"saved_as\": \"data\\\\new_ingestor\\\\8b9348c4.txt\", \"timestamp\": \"2025-08-14T15:43:22.873082Z\", \"level\": \"info\", \"event\": \"File saved for ingestion\"}\n",
      "{\"timestamp\": \"2025-08-14T15:43:22.873082Z\", \"level\": \"info\", \"event\": \"Paragraph has been loaded\"}\n",
      "{\"total_chunks\": 3, \"timestamp\": \"2025-08-14T15:43:22.873082Z\", \"level\": \"info\", \"event\": \"Documents split into chunks\"}\n",
      "Loading faiss with AVX512 support.\n",
      "Could not load library with AVX512 support due to:\n",
      "ModuleNotFoundError(\"No module named 'faiss.swigfaiss_avx512'\")\n",
      "Loading faiss with AVX2 support.\n",
      "Successfully loaded faiss with AVX2 support.\n",
      "{\"path\": \"faiss_index\", \"timestamp\": \"2025-08-14T15:43:24.240163Z\", \"level\": \"info\", \"event\": \"FAISS index saved to disk\"}\n",
      "{\"timestamp\": \"2025-08-14T15:43:24.253885Z\", \"level\": \"info\", \"event\": \"Retriever has been created and ready to use\"}\n"
     ]
    },
    {
     "data": {
      "text/plain": [
       "VectorStoreRetriever(tags=['FAISS', 'GoogleGenerativeAIEmbeddings'], vectorstore=<langchain_community.vectorstores.faiss.FAISS object at 0x0000018AF79A72C0>, search_kwargs={'k': 5})"
      ]
     },
     "execution_count": 3,
     "metadata": {},
     "output_type": "execute_result"
    }
   ],
   "execution_count": 3
  },
  {
   "metadata": {
    "ExecuteTime": {
     "end_time": "2025-08-14T15:43:24.330586Z",
     "start_time": "2025-08-14T15:43:24.287687Z"
    }
   },
   "cell_type": "code",
   "source": [
    "print(\"initiated RAG chatbot\")\n",
    "chat= ConversationalRAG(retriever=ingestor, session_id=\"resting1234\")\n",
    "chat"
   ],
   "id": "3d70a414829e9e7c",
   "outputs": [
    {
     "name": "stdout",
     "output_type": "stream",
     "text": [
      "initiated RAG chatbot\n"
     ]
    },
    {
     "name": "stderr",
     "output_type": "stream",
     "text": [
      "{\"class_name\": \"ChatGoogleGenerativeAI\", \"timestamp\": \"2025-08-14T15:43:24.310551Z\", \"level\": \"info\", \"event\": \"Loaded LLM successfully\"}\n",
      "{\"session_id\": \"resting1234\", \"timestamp\": \"2025-08-14T15:43:24.323327Z\", \"level\": \"info\", \"event\": \"Chain has been built successfully\"}\n",
      "{\"session_id\": \"resting1234\", \"timestamp\": \"2025-08-14T15:43:24.325196Z\", \"level\": \"info\", \"event\": \"Conversational RAG initialized\"}\n"
     ]
    },
    {
     "data": {
      "text/plain": [
       "<src.news_summarizer.chat_module.ConversationalRAG at 0x18af4fef1a0>"
      ]
     },
     "execution_count": 4,
     "metadata": {},
     "output_type": "execute_result"
    }
   ],
   "execution_count": 4
  },
  {
   "metadata": {
    "ExecuteTime": {
     "end_time": "2025-08-14T15:43:28.037840Z",
     "start_time": "2025-08-14T15:43:24.538036Z"
    }
   },
   "cell_type": "code",
   "source": "chat.invoke(\"Hey, summarize news for me\")",
   "id": "86b4b9b6acbc9458",
   "outputs": [
    {
     "name": "stderr",
     "output_type": "stream",
     "text": [
      "Error in RootListenersTracer.on_chain_end callback: KeyError('answer')\n",
      "{\"session_id\": \"resting1234\", \"user_input\": \"Hey, summarize news for me\", \"answer_preview\": \"In August 2025, the U.S. stock market is showing mixed performance. The Nasdaq is up, driven by tech\", \"timestamp\": \"2025-08-14T15:43:28.031096Z\", \"level\": \"info\", \"event\": \"Chain invoke successfully\"}\n"
     ]
    },
    {
     "data": {
      "text/plain": [
       "'In August 2025, the U.S. stock market is showing mixed performance. The Nasdaq is up, driven by tech and AI, while the Dow Jones fell 1.4% due to concerns over proposed tariffs that could raise factory costs by 4.5%. Investors are awaiting Federal Reserve decisions and monitoring U.S.-China trade talks.\\n\\nDisclaimer: The above is for informational purposes only. News may be favorable, but trades are at your own risk.'"
      ]
     },
     "execution_count": 5,
     "metadata": {},
     "output_type": "execute_result"
    }
   ],
   "execution_count": 5
  },
  {
   "metadata": {
    "ExecuteTime": {
     "end_time": "2025-08-14T15:43:34.264876Z",
     "start_time": "2025-08-14T15:43:31.418266Z"
    }
   },
   "cell_type": "code",
   "source": "chat.invoke(\"Any thing about tesla\")",
   "id": "8aedf6838d3833bb",
   "outputs": [
    {
     "name": "stderr",
     "output_type": "stream",
     "text": [
      "Error in RootListenersTracer.on_chain_end callback: KeyError('answer')\n",
      "{\"session_id\": \"resting1234\", \"user_input\": \"Any thing about tesla\", \"answer_preview\": \"I'm sorry, but based on the provided context, there is no specific information available about Tesla\", \"timestamp\": \"2025-08-14T15:43:34.256866Z\", \"level\": \"info\", \"event\": \"Chain invoke successfully\"}\n"
     ]
    },
    {
     "data": {
      "text/plain": [
       "\"I'm sorry, but based on the provided context, there is no specific information available about Tesla (TSLA). Therefore, I cannot provide any insights on how these market events might affect Tesla.\\nDisclaimer: The above is for informational purposes only. News may be favorable, but trades are at your own risk.\""
      ]
     },
     "execution_count": 6,
     "metadata": {},
     "output_type": "execute_result"
    }
   ],
   "execution_count": 6
  },
  {
   "metadata": {
    "ExecuteTime": {
     "end_time": "2025-08-14T15:43:43.033303Z",
     "start_time": "2025-08-14T15:43:39.900153Z"
    }
   },
   "cell_type": "code",
   "source": "chat.invoke(\"test memory\")",
   "id": "ee3714cbfb3159d1",
   "outputs": [
    {
     "name": "stderr",
     "output_type": "stream",
     "text": [
      "Error in RootListenersTracer.on_chain_end callback: KeyError('answer')\n",
      "{\"session_id\": \"resting1234\", \"user_input\": \"test memory\", \"answer_preview\": \"The S&P 500 has remained relatively stable, with minimal daily movements exceeding 1%, and the Nasda\", \"timestamp\": \"2025-08-14T15:43:43.022282Z\", \"level\": \"info\", \"event\": \"Chain invoke successfully\"}\n"
     ]
    },
    {
     "data": {
      "text/plain": [
       "'The S&P 500 has remained relatively stable, with minimal daily movements exceeding 1%, and the Nasdaq 100 has shown resilience, driven by AI optimism. The Dow Jones Industrial Average experienced a slight dip, dropping 1.4% to one-month lows.\\n\\nDisclaimer: The above is for informational purposes only. News may be favorable, but trades are at your own risk.'"
      ]
     },
     "execution_count": 7,
     "metadata": {},
     "output_type": "execute_result"
    }
   ],
   "execution_count": 7
  },
  {
   "metadata": {
    "ExecuteTime": {
     "end_time": "2025-08-14T15:43:56.090686Z",
     "start_time": "2025-08-14T15:43:52.592170Z"
    }
   },
   "cell_type": "code",
   "source": "chat.invoke(\"What things did i asked you till now\")",
   "id": "229a873dbfd85055",
   "outputs": [
    {
     "name": "stderr",
     "output_type": "stream",
     "text": [
      "Error in RootListenersTracer.on_chain_end callback: KeyError('answer')\n",
      "{\"session_id\": \"resting1234\", \"user_input\": \"What things did i asked you till now\", \"answer_preview\": \"I have no memory of past conversations. I am a new instance with each interaction.\", \"timestamp\": \"2025-08-14T15:43:56.079024Z\", \"level\": \"info\", \"event\": \"Chain invoke successfully\"}\n"
     ]
    },
    {
     "data": {
      "text/plain": [
       "'I have no memory of past conversations. I am a new instance with each interaction.'"
      ]
     },
     "execution_count": 8,
     "metadata": {},
     "output_type": "execute_result"
    }
   ],
   "execution_count": 8
  },
  {
   "metadata": {},
   "cell_type": "code",
   "source": "",
   "id": "37afb9109bf1445a",
   "outputs": [],
   "execution_count": null
  }
 ],
 "metadata": {
  "kernelspec": {
   "name": "python3",
   "language": "python",
   "display_name": "Python 3 (ipykernel)"
  }
 },
 "nbformat": 4,
 "nbformat_minor": 5
}
