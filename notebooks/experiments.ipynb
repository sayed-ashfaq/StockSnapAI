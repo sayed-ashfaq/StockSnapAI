{
 "cells": [
  {
   "metadata": {},
   "cell_type": "code",
   "source": [
    "from dotenv import load_dotenv\n",
    "load_dotenv()"
   ],
   "id": "8d7690926521ffc",
   "outputs": [],
   "execution_count": null
  },
  {
   "metadata": {},
   "cell_type": "code",
   "source": [
    "from langchain_openai.chat_models import ChatOpenAI\n",
    "llm= ChatOpenAI(model= \"gpt-4o\")"
   ],
   "id": "d697036c254fce6",
   "outputs": [],
   "execution_count": null
  },
  {
   "metadata": {},
   "cell_type": "code",
   "source": "llm.invoke(\"Hey\").content",
   "id": "768a2c29f0e0808c",
   "outputs": [],
   "execution_count": null
  },
  {
   "metadata": {},
   "cell_type": "markdown",
   "source": "## Testing chat module",
   "id": "90685f22099c9500"
  },
  {
   "metadata": {
    "ExecuteTime": {
     "end_time": "2025-08-14T14:56:42.634781Z",
     "start_time": "2025-08-14T14:56:42.626359Z"
    }
   },
   "cell_type": "code",
   "source": [
    "docs= [\n",
    "        \"C:\\\\Users\\\\302sy\\\\Desktop\\\\Generative AI\\\\StockSnapAI\\\\data\\\\AI-Driven Market Rally August 2025.txt\",\n",
    "        \"C:\\\\Users\\\\302sy\\\\Desktop\\\\Generative AI\\\\StockSnapAI\\\\data\\\\Stock Market Overview August 2025.txt\",\n",
    "        \"C:\\\\Users\\\\302sy\\\\Desktop\\\\Generative AI\\\\StockSnapAI\\\\data\\\\Tariff Impacts on Markets August 20.txt\"\n",
    "    ]"
   ],
   "id": "d67c469661068e99",
   "outputs": [],
   "execution_count": 1
  },
  {
   "metadata": {
    "ExecuteTime": {
     "end_time": "2025-08-14T14:56:46.040690Z",
     "start_time": "2025-08-14T14:56:43.499848Z"
    }
   },
   "cell_type": "code",
   "source": [
    "from src.news_summarizer.data_ingestion import NewsIngestor\n",
    "from src.news_summarizer.chat_module import ConversationalRAG"
   ],
   "id": "94836c745df502d0",
   "outputs": [],
   "execution_count": 2
  },
  {
   "metadata": {
    "ExecuteTime": {
     "end_time": "2025-08-14T14:56:47.178357Z",
     "start_time": "2025-08-14T14:56:46.044210Z"
    }
   },
   "cell_type": "code",
   "source": [
    "ingestor = NewsIngestor().ingest_files(docs)\n",
    "ingestor"
   ],
   "id": "ccce91eccb7a2504",
   "outputs": [
    {
     "name": "stderr",
     "output_type": "stream",
     "text": [
      "{\"temp_base\": \"data\\\\new_ingestor\", \"faiss_dir\": \"faiss_index\", \"timestamp\": \"2025-08-14T14:56:46.049417Z\", \"level\": \"info\", \"event\": \"Document Ingestion initiated\"}\n",
      "{\"filename\": \"C:\\\\Users\\\\302sy\\\\Desktop\\\\Generative AI\\\\StockSnapAI\\\\data\\\\AI-Driven Market Rally August 2025.txt\", \"saved_as\": \"data\\\\new_ingestor\\\\6546d628.txt\", \"timestamp\": \"2025-08-14T14:56:46.057324Z\", \"level\": \"info\", \"event\": \"File saved for ingestion\"}\n",
      "{\"filename\": \"C:\\\\Users\\\\302sy\\\\Desktop\\\\Generative AI\\\\StockSnapAI\\\\data\\\\Stock Market Overview August 2025.txt\", \"saved_as\": \"data\\\\new_ingestor\\\\4e566cd4.txt\", \"timestamp\": \"2025-08-14T14:56:46.061904Z\", \"level\": \"info\", \"event\": \"File saved for ingestion\"}\n",
      "{\"filename\": \"C:\\\\Users\\\\302sy\\\\Desktop\\\\Generative AI\\\\StockSnapAI\\\\data\\\\Tariff Impacts on Markets August 20.txt\", \"saved_as\": \"data\\\\new_ingestor\\\\16b39e5a.txt\", \"timestamp\": \"2025-08-14T14:56:46.061904Z\", \"level\": \"info\", \"event\": \"File saved for ingestion\"}\n",
      "{\"timestamp\": \"2025-08-14T14:56:46.061904Z\", \"level\": \"info\", \"event\": \"Paragraph has been loaded\"}\n",
      "{\"total_chunks\": 3, \"timestamp\": \"2025-08-14T14:56:46.061904Z\", \"level\": \"info\", \"event\": \"Documents split into chunks\"}\n",
      "Loading faiss with AVX512 support.\n",
      "Could not load library with AVX512 support due to:\n",
      "ModuleNotFoundError(\"No module named 'faiss.swigfaiss_avx512'\")\n",
      "Loading faiss with AVX2 support.\n",
      "Successfully loaded faiss with AVX2 support.\n",
      "{\"path\": \"faiss_index\", \"timestamp\": \"2025-08-14T14:56:47.160059Z\", \"level\": \"info\", \"event\": \"FAISS index saved to disk\"}\n",
      "{\"timestamp\": \"2025-08-14T14:56:47.172101Z\", \"level\": \"info\", \"event\": \"Retriever has been created and ready to use\"}\n"
     ]
    },
    {
     "data": {
      "text/plain": [
       "VectorStoreRetriever(tags=['FAISS', 'GoogleGenerativeAIEmbeddings'], vectorstore=<langchain_community.vectorstores.faiss.FAISS object at 0x000002CC64197230>, search_kwargs={'k': 5})"
      ]
     },
     "execution_count": 3,
     "metadata": {},
     "output_type": "execute_result"
    }
   ],
   "execution_count": 3
  },
  {
   "metadata": {
    "ExecuteTime": {
     "end_time": "2025-08-14T14:56:47.202802Z",
     "start_time": "2025-08-14T14:56:47.185178Z"
    }
   },
   "cell_type": "code",
   "source": [
    "print(\"initiated RAG chatbot\")\n",
    "chat= ConversationalRAG(retriever=ingestor, session_id=\"resting1234\")\n",
    "chat"
   ],
   "id": "3d70a414829e9e7c",
   "outputs": [
    {
     "name": "stdout",
     "output_type": "stream",
     "text": [
      "initiated RAG chatbot\n"
     ]
    },
    {
     "name": "stderr",
     "output_type": "stream",
     "text": [
      "{\"class_name\": \"ChatGoogleGenerativeAI\", \"timestamp\": \"2025-08-14T14:56:47.196647Z\", \"level\": \"info\", \"event\": \"Loaded LLM successfully\"}\n",
      "{\"session_id\": \"resting1234\", \"timestamp\": \"2025-08-14T14:56:47.196647Z\", \"level\": \"info\", \"event\": \"Chain has been built successfully\"}\n",
      "{\"session_id\": \"resting1234\", \"timestamp\": \"2025-08-14T14:56:47.199561Z\", \"level\": \"info\", \"event\": \"Conversational RAG initialized\"}\n"
     ]
    },
    {
     "data": {
      "text/plain": [
       "<src.news_summarizer.chat_module.ConversationalRAG at 0x2cc50b8d460>"
      ]
     },
     "execution_count": 4,
     "metadata": {},
     "output_type": "execute_result"
    }
   ],
   "execution_count": 4
  },
  {
   "metadata": {
    "ExecuteTime": {
     "end_time": "2025-08-14T14:56:50.038319Z",
     "start_time": "2025-08-14T14:56:48.041709Z"
    }
   },
   "cell_type": "code",
   "source": "chat.invoke(\"Hey, summarize news for me\")",
   "id": "86b4b9b6acbc9458",
   "outputs": [
    {
     "name": "stderr",
     "output_type": "stream",
     "text": [
      "{\"error\": \"\\\"Input to ChatPromptTemplate is missing variables {'context'}.  Expected: ['chat_history', 'context', 'input'] Received: ['input', 'chat_history']\\\\nNote: if you intended {context} to be part of the string and not a variable, please escape it with double curly braces like: '{{context}}'.\\\\nFor troubleshooting, visit: https://python.langchain.com/docs/troubleshooting/errors/INVALID_PROMPT_INPUT \\\"\", \"timestamp\": \"2025-08-14T14:56:48.064799Z\", \"level\": \"error\", \"event\": \"Failed to invoke conversational RAG\"}\n"
     ]
    },
    {
     "ename": "CustomException",
     "evalue": "\n        Error in [C:\\Users\\302sy\\Desktop\\Generative AI\\StockSnapAI\\src\\news_summarizer\\chat_module.py]at line [57]\n        Message: [Failed to invoke conversational RAG]\n        Traceback:\n        Traceback (most recent call last):\n  File \"C:\\Users\\302sy\\Desktop\\Generative AI\\StockSnapAI\\src\\news_summarizer\\chat_module.py\", line 57, in invoke\n    answer = self.chain.invoke(payload)\n             ^^^^^^^^^^^^^^^^^^^^^^^^^^\n  File \"C:\\Users\\302sy\\anaconda3\\envs\\StockSnapAI\\Lib\\site-packages\\langchain_core\\runnables\\base.py\", line 3047, in invoke\n    input_ = context.run(step.invoke, input_, config, **kwargs)\n             ^^^^^^^^^^^^^^^^^^^^^^^^^^^^^^^^^^^^^^^^^^^^^^^^^^\n  File \"C:\\Users\\302sy\\anaconda3\\envs\\StockSnapAI\\Lib\\site-packages\\langchain_core\\runnables\\base.py\", line 3777, in invoke\n    output = {key: future.result() for key, future in zip(steps, futures)}\n                   ^^^^^^^^^^^^^^^\n  File \"C:\\Users\\302sy\\anaconda3\\envs\\StockSnapAI\\Lib\\concurrent\\futures\\_base.py\", line 456, in result\n    return self.__get_result()\n           ^^^^^^^^^^^^^^^^^^^\n  File \"C:\\Users\\302sy\\anaconda3\\envs\\StockSnapAI\\Lib\\concurrent\\futures\\_base.py\", line 401, in __get_result\n    raise self._exception\n  File \"C:\\Users\\302sy\\anaconda3\\envs\\StockSnapAI\\Lib\\concurrent\\futures\\thread.py\", line 59, in run\n    result = self.fn(*self.args, **self.kwargs)\n             ^^^^^^^^^^^^^^^^^^^^^^^^^^^^^^^^^^\n  File \"C:\\Users\\302sy\\anaconda3\\envs\\StockSnapAI\\Lib\\site-packages\\langchain_core\\runnables\\base.py\", line 3761, in _invoke_step\n    return context.run(\n           ^^^^^^^^^^^^\n  File \"C:\\Users\\302sy\\anaconda3\\envs\\StockSnapAI\\Lib\\site-packages\\langchain_core\\runnables\\base.py\", line 3049, in invoke\n    input_ = context.run(step.invoke, input_, config)\n             ^^^^^^^^^^^^^^^^^^^^^^^^^^^^^^^^^^^^^^^^\n  File \"C:\\Users\\302sy\\anaconda3\\envs\\StockSnapAI\\Lib\\site-packages\\langchain_core\\prompts\\base.py\", line 216, in invoke\n    return self._call_with_config(\n           ^^^^^^^^^^^^^^^^^^^^^^^\n  File \"C:\\Users\\302sy\\anaconda3\\envs\\StockSnapAI\\Lib\\site-packages\\langchain_core\\runnables\\base.py\", line 1938, in _call_with_config\n    context.run(\n  File \"C:\\Users\\302sy\\anaconda3\\envs\\StockSnapAI\\Lib\\site-packages\\langchain_core\\runnables\\config.py\", line 429, in call_func_with_variable_args\n    return func(input, **kwargs)  # type: ignore[call-arg]\n           ^^^^^^^^^^^^^^^^^^^^^\n  File \"C:\\Users\\302sy\\anaconda3\\envs\\StockSnapAI\\Lib\\site-packages\\langchain_core\\prompts\\base.py\", line 189, in _format_prompt_with_error_handling\n    inner_input_ = self._validate_input(inner_input)\n                   ^^^^^^^^^^^^^^^^^^^^^^^^^^^^^^^^^\n  File \"C:\\Users\\302sy\\anaconda3\\envs\\StockSnapAI\\Lib\\site-packages\\langchain_core\\prompts\\base.py\", line 183, in _validate_input\n    raise KeyError(\nKeyError: \"Input to ChatPromptTemplate is missing variables {'context'}.  Expected: ['chat_history', 'context', 'input'] Received: ['input', 'chat_history']\\nNote: if you intended {context} to be part of the string and not a variable, please escape it with double curly braces like: '{{context}}'.\\nFor troubleshooting, visit: https://python.langchain.com/docs/troubleshooting/errors/INVALID_PROMPT_INPUT \"\n        \n        ",
     "output_type": "error",
     "traceback": [
      "\u001B[31m---------------------------------------------------------------------------\u001B[39m",
      "\u001B[31mKeyError\u001B[39m                                  Traceback (most recent call last)",
      "\u001B[36mFile \u001B[39m\u001B[32m~\\Desktop\\Generative AI\\StockSnapAI\\src\\news_summarizer\\chat_module.py:57\u001B[39m, in \u001B[36mConversationalRAG.invoke\u001B[39m\u001B[34m(self, user_input, chat_history)\u001B[39m\n\u001B[32m     56\u001B[39m payload = {\u001B[33m\"\u001B[39m\u001B[33minput\u001B[39m\u001B[33m\"\u001B[39m: user_input, \u001B[33m\"\u001B[39m\u001B[33mdocuments\u001B[39m\u001B[33m\"\u001B[39m: \u001B[38;5;28mself\u001B[39m.retriever,\u001B[33m\"\u001B[39m\u001B[33mchat_history\u001B[39m\u001B[33m\"\u001B[39m: chat_history \u001B[38;5;129;01mor\u001B[39;00m []}\n\u001B[32m---> \u001B[39m\u001B[32m57\u001B[39m answer = \u001B[38;5;28mself\u001B[39m.chain.invoke(payload)\n\u001B[32m     58\u001B[39m \u001B[38;5;28;01mif\u001B[39;00m \u001B[38;5;129;01mnot\u001B[39;00m answer:\n",
      "\u001B[36mFile \u001B[39m\u001B[32m~\\anaconda3\\envs\\StockSnapAI\\Lib\\site-packages\\langchain_core\\runnables\\base.py:3047\u001B[39m, in \u001B[36mRunnableSequence.invoke\u001B[39m\u001B[34m(self, input, config, **kwargs)\u001B[39m\n\u001B[32m   3046\u001B[39m \u001B[38;5;28;01mif\u001B[39;00m i == \u001B[32m0\u001B[39m:\n\u001B[32m-> \u001B[39m\u001B[32m3047\u001B[39m     input_ = context.run(step.invoke, input_, config, **kwargs)\n\u001B[32m   3048\u001B[39m \u001B[38;5;28;01melse\u001B[39;00m:\n",
      "\u001B[36mFile \u001B[39m\u001B[32m~\\anaconda3\\envs\\StockSnapAI\\Lib\\site-packages\\langchain_core\\runnables\\base.py:3777\u001B[39m, in \u001B[36mRunnableParallel.invoke\u001B[39m\u001B[34m(self, input, config, **kwargs)\u001B[39m\n\u001B[32m   3773\u001B[39m         futures = [\n\u001B[32m   3774\u001B[39m             executor.submit(_invoke_step, step, \u001B[38;5;28minput\u001B[39m, config, key)\n\u001B[32m   3775\u001B[39m             \u001B[38;5;28;01mfor\u001B[39;00m key, step \u001B[38;5;129;01min\u001B[39;00m steps.items()\n\u001B[32m   3776\u001B[39m         ]\n\u001B[32m-> \u001B[39m\u001B[32m3777\u001B[39m         output = {key: future.result() \u001B[38;5;28;01mfor\u001B[39;00m key, future \u001B[38;5;129;01min\u001B[39;00m \u001B[38;5;28mzip\u001B[39m(steps, futures)}\n\u001B[32m   3778\u001B[39m \u001B[38;5;66;03m# finish the root run\u001B[39;00m\n",
      "\u001B[36mFile \u001B[39m\u001B[32m~\\anaconda3\\envs\\StockSnapAI\\Lib\\concurrent\\futures\\_base.py:456\u001B[39m, in \u001B[36mFuture.result\u001B[39m\u001B[34m(self, timeout)\u001B[39m\n\u001B[32m    455\u001B[39m \u001B[38;5;28;01melif\u001B[39;00m \u001B[38;5;28mself\u001B[39m._state == FINISHED:\n\u001B[32m--> \u001B[39m\u001B[32m456\u001B[39m     \u001B[38;5;28;01mreturn\u001B[39;00m \u001B[38;5;28mself\u001B[39m.__get_result()\n\u001B[32m    457\u001B[39m \u001B[38;5;28;01melse\u001B[39;00m:\n",
      "\u001B[36mFile \u001B[39m\u001B[32m~\\anaconda3\\envs\\StockSnapAI\\Lib\\concurrent\\futures\\_base.py:401\u001B[39m, in \u001B[36mFuture.__get_result\u001B[39m\u001B[34m(self)\u001B[39m\n\u001B[32m    400\u001B[39m \u001B[38;5;28;01mtry\u001B[39;00m:\n\u001B[32m--> \u001B[39m\u001B[32m401\u001B[39m     \u001B[38;5;28;01mraise\u001B[39;00m \u001B[38;5;28mself\u001B[39m._exception\n\u001B[32m    402\u001B[39m \u001B[38;5;28;01mfinally\u001B[39;00m:\n\u001B[32m    403\u001B[39m     \u001B[38;5;66;03m# Break a reference cycle with the exception in self._exception\u001B[39;00m\n",
      "\u001B[36mFile \u001B[39m\u001B[32m~\\anaconda3\\envs\\StockSnapAI\\Lib\\concurrent\\futures\\thread.py:59\u001B[39m, in \u001B[36m_WorkItem.run\u001B[39m\u001B[34m(self)\u001B[39m\n\u001B[32m     58\u001B[39m \u001B[38;5;28;01mtry\u001B[39;00m:\n\u001B[32m---> \u001B[39m\u001B[32m59\u001B[39m     result = \u001B[38;5;28mself\u001B[39m.fn(*\u001B[38;5;28mself\u001B[39m.args, **\u001B[38;5;28mself\u001B[39m.kwargs)\n\u001B[32m     60\u001B[39m \u001B[38;5;28;01mexcept\u001B[39;00m \u001B[38;5;167;01mBaseException\u001B[39;00m \u001B[38;5;28;01mas\u001B[39;00m exc:\n",
      "\u001B[36mFile \u001B[39m\u001B[32m~\\anaconda3\\envs\\StockSnapAI\\Lib\\site-packages\\langchain_core\\runnables\\base.py:3761\u001B[39m, in \u001B[36mRunnableParallel.invoke.<locals>._invoke_step\u001B[39m\u001B[34m(step, input_, config, key)\u001B[39m\n\u001B[32m   3760\u001B[39m \u001B[38;5;28;01mwith\u001B[39;00m set_config_context(child_config) \u001B[38;5;28;01mas\u001B[39;00m context:\n\u001B[32m-> \u001B[39m\u001B[32m3761\u001B[39m     \u001B[38;5;28;01mreturn\u001B[39;00m context.run(\n\u001B[32m   3762\u001B[39m         step.invoke,\n\u001B[32m   3763\u001B[39m         input_,\n\u001B[32m   3764\u001B[39m         child_config,\n\u001B[32m   3765\u001B[39m     )\n",
      "\u001B[36mFile \u001B[39m\u001B[32m~\\anaconda3\\envs\\StockSnapAI\\Lib\\site-packages\\langchain_core\\runnables\\base.py:3049\u001B[39m, in \u001B[36mRunnableSequence.invoke\u001B[39m\u001B[34m(self, input, config, **kwargs)\u001B[39m\n\u001B[32m   3048\u001B[39m             \u001B[38;5;28;01melse\u001B[39;00m:\n\u001B[32m-> \u001B[39m\u001B[32m3049\u001B[39m                 input_ = context.run(step.invoke, input_, config)\n\u001B[32m   3050\u001B[39m \u001B[38;5;66;03m# finish the root run\u001B[39;00m\n",
      "\u001B[36mFile \u001B[39m\u001B[32m~\\anaconda3\\envs\\StockSnapAI\\Lib\\site-packages\\langchain_core\\prompts\\base.py:216\u001B[39m, in \u001B[36mBasePromptTemplate.invoke\u001B[39m\u001B[34m(self, input, config, **kwargs)\u001B[39m\n\u001B[32m    215\u001B[39m     config[\u001B[33m\"\u001B[39m\u001B[33mtags\u001B[39m\u001B[33m\"\u001B[39m] = config[\u001B[33m\"\u001B[39m\u001B[33mtags\u001B[39m\u001B[33m\"\u001B[39m] + \u001B[38;5;28mself\u001B[39m.tags\n\u001B[32m--> \u001B[39m\u001B[32m216\u001B[39m \u001B[38;5;28;01mreturn\u001B[39;00m \u001B[38;5;28mself\u001B[39m._call_with_config(\n\u001B[32m    217\u001B[39m     \u001B[38;5;28mself\u001B[39m._format_prompt_with_error_handling,\n\u001B[32m    218\u001B[39m     \u001B[38;5;28minput\u001B[39m,\n\u001B[32m    219\u001B[39m     config,\n\u001B[32m    220\u001B[39m     run_type=\u001B[33m\"\u001B[39m\u001B[33mprompt\u001B[39m\u001B[33m\"\u001B[39m,\n\u001B[32m    221\u001B[39m     serialized=\u001B[38;5;28mself\u001B[39m._serialized,\n\u001B[32m    222\u001B[39m )\n",
      "\u001B[36mFile \u001B[39m\u001B[32m~\\anaconda3\\envs\\StockSnapAI\\Lib\\site-packages\\langchain_core\\runnables\\base.py:1938\u001B[39m, in \u001B[36mRunnable._call_with_config\u001B[39m\u001B[34m(self, func, input_, config, run_type, serialized, **kwargs)\u001B[39m\n\u001B[32m   1935\u001B[39m     \u001B[38;5;28;01mwith\u001B[39;00m set_config_context(child_config) \u001B[38;5;28;01mas\u001B[39;00m context:\n\u001B[32m   1936\u001B[39m         output = cast(\n\u001B[32m   1937\u001B[39m             \u001B[33m\"\u001B[39m\u001B[33mOutput\u001B[39m\u001B[33m\"\u001B[39m,\n\u001B[32m-> \u001B[39m\u001B[32m1938\u001B[39m             context.run(\n\u001B[32m   1939\u001B[39m                 call_func_with_variable_args,  \u001B[38;5;66;03m# type: ignore[arg-type]\u001B[39;00m\n\u001B[32m   1940\u001B[39m                 func,\n\u001B[32m   1941\u001B[39m                 input_,\n\u001B[32m   1942\u001B[39m                 config,\n\u001B[32m   1943\u001B[39m                 run_manager,\n\u001B[32m   1944\u001B[39m                 **kwargs,\n\u001B[32m   1945\u001B[39m             ),\n\u001B[32m   1946\u001B[39m         )\n\u001B[32m   1947\u001B[39m \u001B[38;5;28;01mexcept\u001B[39;00m \u001B[38;5;167;01mBaseException\u001B[39;00m \u001B[38;5;28;01mas\u001B[39;00m e:\n",
      "\u001B[36mFile \u001B[39m\u001B[32m~\\anaconda3\\envs\\StockSnapAI\\Lib\\site-packages\\langchain_core\\runnables\\config.py:429\u001B[39m, in \u001B[36mcall_func_with_variable_args\u001B[39m\u001B[34m(func, input, config, run_manager, **kwargs)\u001B[39m\n\u001B[32m    428\u001B[39m     kwargs[\u001B[33m\"\u001B[39m\u001B[33mrun_manager\u001B[39m\u001B[33m\"\u001B[39m] = run_manager\n\u001B[32m--> \u001B[39m\u001B[32m429\u001B[39m \u001B[38;5;28;01mreturn\u001B[39;00m func(\u001B[38;5;28minput\u001B[39m, **kwargs)\n",
      "\u001B[36mFile \u001B[39m\u001B[32m~\\anaconda3\\envs\\StockSnapAI\\Lib\\site-packages\\langchain_core\\prompts\\base.py:189\u001B[39m, in \u001B[36mBasePromptTemplate._format_prompt_with_error_handling\u001B[39m\u001B[34m(self, inner_input)\u001B[39m\n\u001B[32m    188\u001B[39m \u001B[38;5;28;01mdef\u001B[39;00m\u001B[38;5;250m \u001B[39m\u001B[34m_format_prompt_with_error_handling\u001B[39m(\u001B[38;5;28mself\u001B[39m, inner_input: \u001B[38;5;28mdict\u001B[39m) -> PromptValue:\n\u001B[32m--> \u001B[39m\u001B[32m189\u001B[39m     inner_input_ = \u001B[38;5;28mself\u001B[39m._validate_input(inner_input)\n\u001B[32m    190\u001B[39m     \u001B[38;5;28;01mreturn\u001B[39;00m \u001B[38;5;28mself\u001B[39m.format_prompt(**inner_input_)\n",
      "\u001B[36mFile \u001B[39m\u001B[32m~\\anaconda3\\envs\\StockSnapAI\\Lib\\site-packages\\langchain_core\\prompts\\base.py:183\u001B[39m, in \u001B[36mBasePromptTemplate._validate_input\u001B[39m\u001B[34m(self, inner_input)\u001B[39m\n\u001B[32m    178\u001B[39m     msg += (\n\u001B[32m    179\u001B[39m         \u001B[33mf\u001B[39m\u001B[33m\"\u001B[39m\u001B[38;5;130;01m\\n\u001B[39;00m\u001B[33mNote: if you intended \u001B[39m\u001B[38;5;130;01m{{\u001B[39;00m\u001B[38;5;132;01m{\u001B[39;00mexample_key\u001B[38;5;132;01m}\u001B[39;00m\u001B[38;5;130;01m}}\u001B[39;00m\u001B[33m to be part of the string\u001B[39m\u001B[33m\"\u001B[39m\n\u001B[32m    180\u001B[39m         \u001B[33m\"\u001B[39m\u001B[33m and not a variable, please escape it with double curly braces like: \u001B[39m\u001B[33m\"\u001B[39m\n\u001B[32m    181\u001B[39m         \u001B[33mf\u001B[39m\u001B[33m\"\u001B[39m\u001B[33m'\u001B[39m\u001B[38;5;130;01m{{\u001B[39;00m\u001B[38;5;130;01m{{\u001B[39;00m\u001B[38;5;132;01m{\u001B[39;00mexample_key\u001B[38;5;132;01m}\u001B[39;00m\u001B[38;5;130;01m}}\u001B[39;00m\u001B[38;5;130;01m}}\u001B[39;00m\u001B[33m'\u001B[39m\u001B[33m.\u001B[39m\u001B[33m\"\u001B[39m\n\u001B[32m    182\u001B[39m     )\n\u001B[32m--> \u001B[39m\u001B[32m183\u001B[39m     \u001B[38;5;28;01mraise\u001B[39;00m \u001B[38;5;167;01mKeyError\u001B[39;00m(\n\u001B[32m    184\u001B[39m         create_message(message=msg, error_code=ErrorCode.INVALID_PROMPT_INPUT)\n\u001B[32m    185\u001B[39m     )\n\u001B[32m    186\u001B[39m \u001B[38;5;28;01mreturn\u001B[39;00m inner_input\n",
      "\u001B[31mKeyError\u001B[39m: \"Input to ChatPromptTemplate is missing variables {'context'}.  Expected: ['chat_history', 'context', 'input'] Received: ['input', 'chat_history']\\nNote: if you intended {context} to be part of the string and not a variable, please escape it with double curly braces like: '{{context}}'.\\nFor troubleshooting, visit: https://python.langchain.com/docs/troubleshooting/errors/INVALID_PROMPT_INPUT \"",
      "\nDuring handling of the above exception, another exception occurred:\n",
      "\u001B[31mCustomException\u001B[39m                           Traceback (most recent call last)",
      "\u001B[36mCell\u001B[39m\u001B[36m \u001B[39m\u001B[32mIn[5]\u001B[39m\u001B[32m, line 1\u001B[39m\n\u001B[32m----> \u001B[39m\u001B[32m1\u001B[39m chat.invoke(\u001B[33m\"\u001B[39m\u001B[33mHey, summarize news for me\u001B[39m\u001B[33m\"\u001B[39m)\n",
      "\u001B[36mFile \u001B[39m\u001B[32m~\\Desktop\\Generative AI\\StockSnapAI\\src\\news_summarizer\\chat_module.py:82\u001B[39m, in \u001B[36mConversationalRAG.invoke\u001B[39m\u001B[34m(self, user_input, chat_history)\u001B[39m\n\u001B[32m     80\u001B[39m \u001B[38;5;28;01mexcept\u001B[39;00m \u001B[38;5;167;01mException\u001B[39;00m \u001B[38;5;28;01mas\u001B[39;00m e:\n\u001B[32m     81\u001B[39m     \u001B[38;5;28mself\u001B[39m.log.error(\u001B[33m\"\u001B[39m\u001B[33mFailed to invoke conversational RAG\u001B[39m\u001B[33m\"\u001B[39m, error=\u001B[38;5;28mstr\u001B[39m(e))\n\u001B[32m---> \u001B[39m\u001B[32m82\u001B[39m     \u001B[38;5;28;01mraise\u001B[39;00m CustomException(\u001B[33m\"\u001B[39m\u001B[33mFailed to invoke conversational RAG\u001B[39m\u001B[33m\"\u001B[39m, sys)\n",
      "\u001B[31mCustomException\u001B[39m: \n        Error in [C:\\Users\\302sy\\Desktop\\Generative AI\\StockSnapAI\\src\\news_summarizer\\chat_module.py]at line [57]\n        Message: [Failed to invoke conversational RAG]\n        Traceback:\n        Traceback (most recent call last):\n  File \"C:\\Users\\302sy\\Desktop\\Generative AI\\StockSnapAI\\src\\news_summarizer\\chat_module.py\", line 57, in invoke\n    answer = self.chain.invoke(payload)\n             ^^^^^^^^^^^^^^^^^^^^^^^^^^\n  File \"C:\\Users\\302sy\\anaconda3\\envs\\StockSnapAI\\Lib\\site-packages\\langchain_core\\runnables\\base.py\", line 3047, in invoke\n    input_ = context.run(step.invoke, input_, config, **kwargs)\n             ^^^^^^^^^^^^^^^^^^^^^^^^^^^^^^^^^^^^^^^^^^^^^^^^^^\n  File \"C:\\Users\\302sy\\anaconda3\\envs\\StockSnapAI\\Lib\\site-packages\\langchain_core\\runnables\\base.py\", line 3777, in invoke\n    output = {key: future.result() for key, future in zip(steps, futures)}\n                   ^^^^^^^^^^^^^^^\n  File \"C:\\Users\\302sy\\anaconda3\\envs\\StockSnapAI\\Lib\\concurrent\\futures\\_base.py\", line 456, in result\n    return self.__get_result()\n           ^^^^^^^^^^^^^^^^^^^\n  File \"C:\\Users\\302sy\\anaconda3\\envs\\StockSnapAI\\Lib\\concurrent\\futures\\_base.py\", line 401, in __get_result\n    raise self._exception\n  File \"C:\\Users\\302sy\\anaconda3\\envs\\StockSnapAI\\Lib\\concurrent\\futures\\thread.py\", line 59, in run\n    result = self.fn(*self.args, **self.kwargs)\n             ^^^^^^^^^^^^^^^^^^^^^^^^^^^^^^^^^^\n  File \"C:\\Users\\302sy\\anaconda3\\envs\\StockSnapAI\\Lib\\site-packages\\langchain_core\\runnables\\base.py\", line 3761, in _invoke_step\n    return context.run(\n           ^^^^^^^^^^^^\n  File \"C:\\Users\\302sy\\anaconda3\\envs\\StockSnapAI\\Lib\\site-packages\\langchain_core\\runnables\\base.py\", line 3049, in invoke\n    input_ = context.run(step.invoke, input_, config)\n             ^^^^^^^^^^^^^^^^^^^^^^^^^^^^^^^^^^^^^^^^\n  File \"C:\\Users\\302sy\\anaconda3\\envs\\StockSnapAI\\Lib\\site-packages\\langchain_core\\prompts\\base.py\", line 216, in invoke\n    return self._call_with_config(\n           ^^^^^^^^^^^^^^^^^^^^^^^\n  File \"C:\\Users\\302sy\\anaconda3\\envs\\StockSnapAI\\Lib\\site-packages\\langchain_core\\runnables\\base.py\", line 1938, in _call_with_config\n    context.run(\n  File \"C:\\Users\\302sy\\anaconda3\\envs\\StockSnapAI\\Lib\\site-packages\\langchain_core\\runnables\\config.py\", line 429, in call_func_with_variable_args\n    return func(input, **kwargs)  # type: ignore[call-arg]\n           ^^^^^^^^^^^^^^^^^^^^^\n  File \"C:\\Users\\302sy\\anaconda3\\envs\\StockSnapAI\\Lib\\site-packages\\langchain_core\\prompts\\base.py\", line 189, in _format_prompt_with_error_handling\n    inner_input_ = self._validate_input(inner_input)\n                   ^^^^^^^^^^^^^^^^^^^^^^^^^^^^^^^^^\n  File \"C:\\Users\\302sy\\anaconda3\\envs\\StockSnapAI\\Lib\\site-packages\\langchain_core\\prompts\\base.py\", line 183, in _validate_input\n    raise KeyError(\nKeyError: \"Input to ChatPromptTemplate is missing variables {'context'}.  Expected: ['chat_history', 'context', 'input'] Received: ['input', 'chat_history']\\nNote: if you intended {context} to be part of the string and not a variable, please escape it with double curly braces like: '{{context}}'.\\nFor troubleshooting, visit: https://python.langchain.com/docs/troubleshooting/errors/INVALID_PROMPT_INPUT \"\n        \n        "
     ]
    }
   ],
   "execution_count": 5
  },
  {
   "metadata": {},
   "cell_type": "code",
   "source": "",
   "id": "8aedf6838d3833bb",
   "outputs": [],
   "execution_count": null
  }
 ],
 "metadata": {
  "kernelspec": {
   "name": "python3",
   "language": "python",
   "display_name": "Python 3 (ipykernel)"
  }
 },
 "nbformat": 4,
 "nbformat_minor": 5
}
