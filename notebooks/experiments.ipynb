{
 "cells": [
  {
   "metadata": {
    "ExecuteTime": {
     "end_time": "2025-08-10T14:25:48.729731Z",
     "start_time": "2025-08-10T14:25:48.676528Z"
    }
   },
   "cell_type": "code",
   "source": [
    "from dotenv import load_dotenv\n",
    "load_dotenv()"
   ],
   "id": "8d7690926521ffc",
   "outputs": [
    {
     "data": {
      "text/plain": [
       "True"
      ]
     },
     "execution_count": 33,
     "metadata": {},
     "output_type": "execute_result"
    }
   ],
   "execution_count": 33
  },
  {
   "metadata": {
    "ExecuteTime": {
     "end_time": "2025-08-10T14:25:52.125880Z",
     "start_time": "2025-08-10T14:25:50.245581Z"
    }
   },
   "cell_type": "code",
   "source": [
    "from langchain_openai.chat_models import ChatOpenAI\n",
    "llm= ChatOpenAI(model= \"gpt-4o\")"
   ],
   "id": "d697036c254fce6",
   "outputs": [],
   "execution_count": 34
  },
  {
   "metadata": {
    "ExecuteTime": {
     "end_time": "2025-08-10T12:43:51.899726Z",
     "start_time": "2025-08-10T12:43:50.183697Z"
    }
   },
   "cell_type": "code",
   "source": "llm.invoke(\"Hey\").content",
   "id": "768a2c29f0e0808c",
   "outputs": [
    {
     "data": {
      "text/plain": [
       "'Hello! How can I assist you today?'"
      ]
     },
     "execution_count": 27,
     "metadata": {},
     "output_type": "execute_result"
    }
   ],
   "execution_count": 27
  },
  {
   "metadata": {},
   "cell_type": "markdown",
   "source": "## Testing chat module",
   "id": "90685f22099c9500"
  },
  {
   "metadata": {
    "ExecuteTime": {
     "end_time": "2025-08-14T14:04:05.159121Z",
     "start_time": "2025-08-14T14:04:05.140479Z"
    }
   },
   "cell_type": "code",
   "source": [
    "docs= [\n",
    "        \"C:\\\\Users\\\\302sy\\\\Desktop\\\\Generative AI\\\\StockSnapAI\\\\data\\\\AI-Driven Market Rally August 2025.txt\",\n",
    "        \"C:\\\\Users\\\\302sy\\\\Desktop\\\\Generative AI\\\\StockSnapAI\\\\data\\\\Stock Market Overview August 2025.txt\",\n",
    "        \"C:\\\\Users\\\\302sy\\\\Desktop\\\\Generative AI\\\\StockSnapAI\\\\data\\\\Tariff Impacts on Markets August 20.txt\"\n",
    "    ]"
   ],
   "id": "d67c469661068e99",
   "outputs": [],
   "execution_count": 1
  },
  {
   "metadata": {
    "ExecuteTime": {
     "end_time": "2025-08-14T14:04:07.870537Z",
     "start_time": "2025-08-14T14:04:05.552276Z"
    }
   },
   "cell_type": "code",
   "source": [
    "from src.news_summarizer.data_ingestion import NewsIngestor\n",
    "from src.news_summarizer.chat_module import ConversationalRAG"
   ],
   "id": "94836c745df502d0",
   "outputs": [],
   "execution_count": 2
  },
  {
   "metadata": {
    "ExecuteTime": {
     "end_time": "2025-08-14T14:04:09.053087Z",
     "start_time": "2025-08-14T14:04:07.878809Z"
    }
   },
   "cell_type": "code",
   "source": [
    "ingestor = NewsIngestor().ingest_files(docs)\n",
    "ingestor"
   ],
   "id": "ccce91eccb7a2504",
   "outputs": [
    {
     "name": "stderr",
     "output_type": "stream",
     "text": [
      "{\"temp_base\": \"data\\\\new_ingestor\", \"faiss_dir\": \"faiss_index\", \"timestamp\": \"2025-08-14T14:04:07.885075Z\", \"level\": \"info\", \"event\": \"Document Ingestion initiated\"}\n",
      "{\"filename\": \"C:\\\\Users\\\\302sy\\\\Desktop\\\\Generative AI\\\\StockSnapAI\\\\data\\\\AI-Driven Market Rally August 2025.txt\", \"saved_as\": \"data\\\\new_ingestor\\\\96e19f91.txt\", \"timestamp\": \"2025-08-14T14:04:07.885075Z\", \"level\": \"info\", \"event\": \"File saved for ingestion\"}\n",
      "{\"filename\": \"C:\\\\Users\\\\302sy\\\\Desktop\\\\Generative AI\\\\StockSnapAI\\\\data\\\\Stock Market Overview August 2025.txt\", \"saved_as\": \"data\\\\new_ingestor\\\\2e8b18e1.txt\", \"timestamp\": \"2025-08-14T14:04:07.885075Z\", \"level\": \"info\", \"event\": \"File saved for ingestion\"}\n",
      "{\"filename\": \"C:\\\\Users\\\\302sy\\\\Desktop\\\\Generative AI\\\\StockSnapAI\\\\data\\\\Tariff Impacts on Markets August 20.txt\", \"saved_as\": \"data\\\\new_ingestor\\\\254fbc01.txt\", \"timestamp\": \"2025-08-14T14:04:07.895252Z\", \"level\": \"info\", \"event\": \"File saved for ingestion\"}\n",
      "{\"timestamp\": \"2025-08-14T14:04:07.895252Z\", \"level\": \"info\", \"event\": \"Paragraph has been loaded\"}\n",
      "{\"total_chunks\": 3, \"timestamp\": \"2025-08-14T14:04:07.895252Z\", \"level\": \"info\", \"event\": \"Documents split into chunks\"}\n",
      "Loading faiss with AVX512 support.\n",
      "Could not load library with AVX512 support due to:\n",
      "ModuleNotFoundError(\"No module named 'faiss.swigfaiss_avx512'\")\n",
      "Loading faiss with AVX2 support.\n",
      "Successfully loaded faiss with AVX2 support.\n",
      "{\"path\": \"faiss_index\", \"timestamp\": \"2025-08-14T14:04:09.039892Z\", \"level\": \"info\", \"event\": \"FAISS index saved to disk\"}\n",
      "{\"timestamp\": \"2025-08-14T14:04:09.039892Z\", \"level\": \"info\", \"event\": \"Retriever has been created and ready to use\"}\n"
     ]
    },
    {
     "data": {
      "text/plain": [
       "VectorStoreRetriever(tags=['FAISS', 'GoogleGenerativeAIEmbeddings'], vectorstore=<langchain_community.vectorstores.faiss.FAISS object at 0x000001CD05FB76E0>, search_kwargs={'k': 5})"
      ]
     },
     "execution_count": 3,
     "metadata": {},
     "output_type": "execute_result"
    }
   ],
   "execution_count": 3
  },
  {
   "metadata": {
    "ExecuteTime": {
     "end_time": "2025-08-14T14:04:09.067126Z",
     "start_time": "2025-08-14T14:04:09.059582Z"
    }
   },
   "cell_type": "code",
   "source": "print(\"initiated RAG chatbot\")",
   "id": "3d70a414829e9e7c",
   "outputs": [
    {
     "name": "stdout",
     "output_type": "stream",
     "text": [
      "initiated RAG chatbot\n"
     ]
    }
   ],
   "execution_count": 4
  },
  {
   "metadata": {
    "ExecuteTime": {
     "end_time": "2025-08-14T14:04:09.105062Z",
     "start_time": "2025-08-14T14:04:09.081680Z"
    }
   },
   "cell_type": "code",
   "source": [
    "chat= ConversationalRAG(retriever=ingestor, session_id=\"resting1234\")\n",
    "chat"
   ],
   "id": "86b4b9b6acbc9458",
   "outputs": [
    {
     "name": "stderr",
     "output_type": "stream",
     "text": [
      "{\"class_name\": \"ChatGoogleGenerativeAI\", \"timestamp\": \"2025-08-14T14:04:09.081680Z\", \"level\": \"info\", \"event\": \"Loaded LLM successfully\"}\n",
      "{\"timestamp\": \"2025-08-14T14:04:09.081680Z\", \"level\": \"info\", \"event\": \"Created history-aware retriever\"}\n",
      "{\"timestamp\": \"2025-08-14T14:04:09.081680Z\", \"level\": \"info\", \"event\": \"Created stuff-documents chain\"}\n",
      "{\"timestamp\": \"2025-08-14T14:04:09.081680Z\", \"level\": \"info\", \"event\": \"Created RAG Chain\"}\n",
      "{\"session_id\": \"resting1234\", \"timestamp\": \"2025-08-14T14:04:09.097589Z\", \"level\": \"info\", \"event\": \"Wrapped chain with message history\"}\n"
     ]
    },
    {
     "data": {
      "text/plain": [
       "<src.news_summarizer.chat_module.ConversationalRAG at 0x1cd729aa120>"
      ]
     },
     "execution_count": 5,
     "metadata": {},
     "output_type": "execute_result"
    }
   ],
   "execution_count": 5
  },
  {
   "metadata": {
    "ExecuteTime": {
     "end_time": "2025-08-14T14:04:12.733997Z",
     "start_time": "2025-08-14T14:04:09.281485Z"
    }
   },
   "cell_type": "code",
   "source": "chat.invoke(\"Hey\")",
   "id": "654ab58f314ac8d3",
   "outputs": [
    {
     "name": "stderr",
     "output_type": "stream",
     "text": [
      "2025-08-14 19:34:09.281 WARNING streamlit.runtime.scriptrunner_utils.script_run_context: Thread 'MainThread': missing ScriptRunContext! This warning can be ignored when running in bare mode.\n",
      "2025-08-14 19:34:09.281 WARNING streamlit.runtime.state.session_state_proxy: Session state does not function when running a script without `streamlit run`\n",
      "2025-08-14 19:34:09.287 WARNING streamlit.runtime.scriptrunner_utils.script_run_context: Thread 'MainThread': missing ScriptRunContext! This warning can be ignored when running in bare mode.\n",
      "2025-08-14 19:34:09.287 WARNING streamlit.runtime.scriptrunner_utils.script_run_context: Thread 'MainThread': missing ScriptRunContext! This warning can be ignored when running in bare mode.\n",
      "2025-08-14 19:34:09.287 WARNING streamlit.runtime.scriptrunner_utils.script_run_context: Thread 'MainThread': missing ScriptRunContext! This warning can be ignored when running in bare mode.\n",
      "2025-08-14 19:34:09.287 WARNING streamlit.runtime.scriptrunner_utils.script_run_context: Thread 'MainThread': missing ScriptRunContext! This warning can be ignored when running in bare mode.\n",
      "{\"session_id\": \"resting1234\", \"timestamp\": \"2025-08-14T14:04:09.287925Z\", \"level\": \"info\", \"event\": \"New Chat session history created\"}\n",
      "2025-08-14 19:34:09.287 WARNING streamlit.runtime.scriptrunner_utils.script_run_context: Thread 'MainThread': missing ScriptRunContext! This warning can be ignored when running in bare mode.\n",
      "{\"error\": \"'documents'\", \"timestamp\": \"2025-08-14T14:04:10.165381Z\", \"level\": \"error\", \"event\": \"Failed to invoke conversational RAG\"}\n"
     ]
    },
    {
     "ename": "CustomException",
     "evalue": "\n        Error in [C:\\Users\\302sy\\Desktop\\Generative AI\\StockSnapAI\\src\\news_summarizer\\chat_module.py]at line [62]\n        Message: [Failed to invoke conversational RAG]\n        Traceback:\n        Traceback (most recent call last):\n  File \"C:\\Users\\302sy\\Desktop\\Generative AI\\StockSnapAI\\src\\news_summarizer\\chat_module.py\", line 62, in invoke\n    response= self.chain.invoke(\n              ^^^^^^^^^^^^^^^^^^\n  File \"C:\\Users\\302sy\\anaconda3\\envs\\StockSnapAI\\Lib\\site-packages\\langchain_core\\runnables\\base.py\", line 5441, in invoke\n    return self.bound.invoke(\n           ^^^^^^^^^^^^^^^^^^\n  File \"C:\\Users\\302sy\\anaconda3\\envs\\StockSnapAI\\Lib\\site-packages\\langchain_core\\runnables\\base.py\", line 5441, in invoke\n    return self.bound.invoke(\n           ^^^^^^^^^^^^^^^^^^\n  File \"C:\\Users\\302sy\\anaconda3\\envs\\StockSnapAI\\Lib\\site-packages\\langchain_core\\runnables\\base.py\", line 3049, in invoke\n    input_ = context.run(step.invoke, input_, config)\n             ^^^^^^^^^^^^^^^^^^^^^^^^^^^^^^^^^^^^^^^^\n  File \"C:\\Users\\302sy\\anaconda3\\envs\\StockSnapAI\\Lib\\site-packages\\langchain_core\\runnables\\base.py\", line 5441, in invoke\n    return self.bound.invoke(\n           ^^^^^^^^^^^^^^^^^^\n  File \"C:\\Users\\302sy\\anaconda3\\envs\\StockSnapAI\\Lib\\site-packages\\langchain_core\\runnables\\base.py\", line 4781, in invoke\n    return self._call_with_config(\n           ^^^^^^^^^^^^^^^^^^^^^^^\n  File \"C:\\Users\\302sy\\anaconda3\\envs\\StockSnapAI\\Lib\\site-packages\\langchain_core\\runnables\\base.py\", line 1938, in _call_with_config\n    context.run(\n  File \"C:\\Users\\302sy\\anaconda3\\envs\\StockSnapAI\\Lib\\site-packages\\langchain_core\\runnables\\config.py\", line 429, in call_func_with_variable_args\n    return func(input, **kwargs)  # type: ignore[call-arg]\n           ^^^^^^^^^^^^^^^^^^^^^\n  File \"C:\\Users\\302sy\\anaconda3\\envs\\StockSnapAI\\Lib\\site-packages\\langchain_core\\runnables\\base.py\", line 4650, in _invoke\n    output = output.invoke(\n             ^^^^^^^^^^^^^^\n  File \"C:\\Users\\302sy\\anaconda3\\envs\\StockSnapAI\\Lib\\site-packages\\langchain_core\\runnables\\base.py\", line 5441, in invoke\n    return self.bound.invoke(\n           ^^^^^^^^^^^^^^^^^^\n  File \"C:\\Users\\302sy\\anaconda3\\envs\\StockSnapAI\\Lib\\site-packages\\langchain_core\\runnables\\base.py\", line 3049, in invoke\n    input_ = context.run(step.invoke, input_, config)\n             ^^^^^^^^^^^^^^^^^^^^^^^^^^^^^^^^^^^^^^^^\n  File \"C:\\Users\\302sy\\anaconda3\\envs\\StockSnapAI\\Lib\\site-packages\\langchain_core\\runnables\\passthrough.py\", line 513, in invoke\n    return self._call_with_config(self._invoke, input, config, **kwargs)\n           ^^^^^^^^^^^^^^^^^^^^^^^^^^^^^^^^^^^^^^^^^^^^^^^^^^^^^^^^^^^^^\n  File \"C:\\Users\\302sy\\anaconda3\\envs\\StockSnapAI\\Lib\\site-packages\\langchain_core\\runnables\\base.py\", line 1938, in _call_with_config\n    context.run(\n  File \"C:\\Users\\302sy\\anaconda3\\envs\\StockSnapAI\\Lib\\site-packages\\langchain_core\\runnables\\config.py\", line 429, in call_func_with_variable_args\n    return func(input, **kwargs)  # type: ignore[call-arg]\n           ^^^^^^^^^^^^^^^^^^^^^\n  File \"C:\\Users\\302sy\\anaconda3\\envs\\StockSnapAI\\Lib\\site-packages\\langchain_core\\runnables\\passthrough.py\", line 499, in _invoke\n    **self.mapper.invoke(\n      ^^^^^^^^^^^^^^^^^^^\n  File \"C:\\Users\\302sy\\anaconda3\\envs\\StockSnapAI\\Lib\\site-packages\\langchain_core\\runnables\\base.py\", line 3777, in invoke\n    output = {key: future.result() for key, future in zip(steps, futures)}\n                   ^^^^^^^^^^^^^^^\n  File \"C:\\Users\\302sy\\anaconda3\\envs\\StockSnapAI\\Lib\\concurrent\\futures\\_base.py\", line 456, in result\n    return self.__get_result()\n           ^^^^^^^^^^^^^^^^^^^\n  File \"C:\\Users\\302sy\\anaconda3\\envs\\StockSnapAI\\Lib\\concurrent\\futures\\_base.py\", line 401, in __get_result\n    raise self._exception\n  File \"C:\\Users\\302sy\\anaconda3\\envs\\StockSnapAI\\Lib\\concurrent\\futures\\thread.py\", line 59, in run\n    result = self.fn(*self.args, **self.kwargs)\n             ^^^^^^^^^^^^^^^^^^^^^^^^^^^^^^^^^^\n  File \"C:\\Users\\302sy\\anaconda3\\envs\\StockSnapAI\\Lib\\site-packages\\langchain_core\\runnables\\base.py\", line 3761, in _invoke_step\n    return context.run(\n           ^^^^^^^^^^^^\n  File \"C:\\Users\\302sy\\anaconda3\\envs\\StockSnapAI\\Lib\\site-packages\\langchain_core\\runnables\\base.py\", line 5441, in invoke\n    return self.bound.invoke(\n           ^^^^^^^^^^^^^^^^^^\n  File \"C:\\Users\\302sy\\anaconda3\\envs\\StockSnapAI\\Lib\\site-packages\\langchain_core\\runnables\\base.py\", line 3047, in invoke\n    input_ = context.run(step.invoke, input_, config, **kwargs)\n             ^^^^^^^^^^^^^^^^^^^^^^^^^^^^^^^^^^^^^^^^^^^^^^^^^^\n  File \"C:\\Users\\302sy\\anaconda3\\envs\\StockSnapAI\\Lib\\site-packages\\langchain_core\\runnables\\base.py\", line 5441, in invoke\n    return self.bound.invoke(\n           ^^^^^^^^^^^^^^^^^^\n  File \"C:\\Users\\302sy\\anaconda3\\envs\\StockSnapAI\\Lib\\site-packages\\langchain_core\\runnables\\passthrough.py\", line 513, in invoke\n    return self._call_with_config(self._invoke, input, config, **kwargs)\n           ^^^^^^^^^^^^^^^^^^^^^^^^^^^^^^^^^^^^^^^^^^^^^^^^^^^^^^^^^^^^^\n  File \"C:\\Users\\302sy\\anaconda3\\envs\\StockSnapAI\\Lib\\site-packages\\langchain_core\\runnables\\base.py\", line 1938, in _call_with_config\n    context.run(\n  File \"C:\\Users\\302sy\\anaconda3\\envs\\StockSnapAI\\Lib\\site-packages\\langchain_core\\runnables\\config.py\", line 429, in call_func_with_variable_args\n    return func(input, **kwargs)  # type: ignore[call-arg]\n           ^^^^^^^^^^^^^^^^^^^^^\n  File \"C:\\Users\\302sy\\anaconda3\\envs\\StockSnapAI\\Lib\\site-packages\\langchain_core\\runnables\\passthrough.py\", line 499, in _invoke\n    **self.mapper.invoke(\n      ^^^^^^^^^^^^^^^^^^^\n  File \"C:\\Users\\302sy\\anaconda3\\envs\\StockSnapAI\\Lib\\site-packages\\langchain_core\\runnables\\base.py\", line 3777, in invoke\n    output = {key: future.result() for key, future in zip(steps, futures)}\n                   ^^^^^^^^^^^^^^^\n  File \"C:\\Users\\302sy\\anaconda3\\envs\\StockSnapAI\\Lib\\concurrent\\futures\\_base.py\", line 456, in result\n    return self.__get_result()\n           ^^^^^^^^^^^^^^^^^^^\n  File \"C:\\Users\\302sy\\anaconda3\\envs\\StockSnapAI\\Lib\\concurrent\\futures\\_base.py\", line 401, in __get_result\n    raise self._exception\n  File \"C:\\Users\\302sy\\anaconda3\\envs\\StockSnapAI\\Lib\\concurrent\\futures\\thread.py\", line 59, in run\n    result = self.fn(*self.args, **self.kwargs)\n             ^^^^^^^^^^^^^^^^^^^^^^^^^^^^^^^^^^\n  File \"C:\\Users\\302sy\\anaconda3\\envs\\StockSnapAI\\Lib\\site-packages\\langchain_core\\runnables\\base.py\", line 3761, in _invoke_step\n    return context.run(\n           ^^^^^^^^^^^^\n  File \"C:\\Users\\302sy\\anaconda3\\envs\\StockSnapAI\\Lib\\site-packages\\langchain_core\\runnables\\base.py\", line 4781, in invoke\n    return self._call_with_config(\n           ^^^^^^^^^^^^^^^^^^^^^^^\n  File \"C:\\Users\\302sy\\anaconda3\\envs\\StockSnapAI\\Lib\\site-packages\\langchain_core\\runnables\\base.py\", line 1938, in _call_with_config\n    context.run(\n  File \"C:\\Users\\302sy\\anaconda3\\envs\\StockSnapAI\\Lib\\site-packages\\langchain_core\\runnables\\config.py\", line 429, in call_func_with_variable_args\n    return func(input, **kwargs)  # type: ignore[call-arg]\n           ^^^^^^^^^^^^^^^^^^^^^\n  File \"C:\\Users\\302sy\\anaconda3\\envs\\StockSnapAI\\Lib\\site-packages\\langchain_core\\runnables\\base.py\", line 4639, in _invoke\n    output = call_func_with_variable_args(\n             ^^^^^^^^^^^^^^^^^^^^^^^^^^^^^\n  File \"C:\\Users\\302sy\\anaconda3\\envs\\StockSnapAI\\Lib\\site-packages\\langchain_core\\runnables\\config.py\", line 429, in call_func_with_variable_args\n    return func(input, **kwargs)  # type: ignore[call-arg]\n           ^^^^^^^^^^^^^^^^^^^^^\n  File \"C:\\Users\\302sy\\anaconda3\\envs\\StockSnapAI\\Lib\\site-packages\\langchain\\chains\\combine_documents\\stuff.py\", line 86, in format_docs\n    for doc in inputs[document_variable_name]\n               ~~~~~~^^^^^^^^^^^^^^^^^^^^^^^^\nKeyError: 'documents'\n        \n        ",
     "output_type": "error",
     "traceback": [
      "\u001B[31m---------------------------------------------------------------------------\u001B[39m",
      "\u001B[31mKeyError\u001B[39m                                  Traceback (most recent call last)",
      "\u001B[36mFile \u001B[39m\u001B[32m~\\Desktop\\Generative AI\\StockSnapAI\\src\\news_summarizer\\chat_module.py:62\u001B[39m, in \u001B[36mConversationalRAG.invoke\u001B[39m\u001B[34m(self, user_input)\u001B[39m\n\u001B[32m     61\u001B[39m \u001B[38;5;28;01mtry\u001B[39;00m:\n\u001B[32m---> \u001B[39m\u001B[32m62\u001B[39m     response= \u001B[38;5;28mself\u001B[39m.chain.invoke(\n\u001B[32m     63\u001B[39m         {\u001B[33m\"\u001B[39m\u001B[33minput\u001B[39m\u001B[33m\"\u001B[39m: user_input},\n\u001B[32m     64\u001B[39m         config= {\u001B[33m\"\u001B[39m\u001B[33mconfigurable\u001B[39m\u001B[33m\"\u001B[39m: {\u001B[33m\"\u001B[39m\u001B[33msession_id\u001B[39m\u001B[33m\"\u001B[39m: \u001B[38;5;28mself\u001B[39m.session_id}}\n\u001B[32m     65\u001B[39m     )\n\u001B[32m     66\u001B[39m     answer= response.get(\u001B[33m\"\u001B[39m\u001B[33manswer\u001B[39m\u001B[33m\"\u001B[39m, \u001B[33m\"\u001B[39m\u001B[33mNo answer\u001B[39m\u001B[33m\"\u001B[39m)\n",
      "\u001B[36mFile \u001B[39m\u001B[32m~\\anaconda3\\envs\\StockSnapAI\\Lib\\site-packages\\langchain_core\\runnables\\base.py:5441\u001B[39m, in \u001B[36mRunnableBindingBase.invoke\u001B[39m\u001B[34m(self, input, config, **kwargs)\u001B[39m\n\u001B[32m   5434\u001B[39m \u001B[38;5;129m@override\u001B[39m\n\u001B[32m   5435\u001B[39m \u001B[38;5;28;01mdef\u001B[39;00m\u001B[38;5;250m \u001B[39m\u001B[34minvoke\u001B[39m(\n\u001B[32m   5436\u001B[39m     \u001B[38;5;28mself\u001B[39m,\n\u001B[32m   (...)\u001B[39m\u001B[32m   5439\u001B[39m     **kwargs: Optional[Any],\n\u001B[32m   5440\u001B[39m ) -> Output:\n\u001B[32m-> \u001B[39m\u001B[32m5441\u001B[39m     \u001B[38;5;28;01mreturn\u001B[39;00m \u001B[38;5;28mself\u001B[39m.bound.invoke(\n\u001B[32m   5442\u001B[39m         \u001B[38;5;28minput\u001B[39m,\n\u001B[32m   5443\u001B[39m         \u001B[38;5;28mself\u001B[39m._merge_configs(config),\n\u001B[32m   5444\u001B[39m         **{**\u001B[38;5;28mself\u001B[39m.kwargs, **kwargs},\n\u001B[32m   5445\u001B[39m     )\n",
      "\u001B[36mFile \u001B[39m\u001B[32m~\\anaconda3\\envs\\StockSnapAI\\Lib\\site-packages\\langchain_core\\runnables\\base.py:5441\u001B[39m, in \u001B[36mRunnableBindingBase.invoke\u001B[39m\u001B[34m(self, input, config, **kwargs)\u001B[39m\n\u001B[32m   5434\u001B[39m \u001B[38;5;129m@override\u001B[39m\n\u001B[32m   5435\u001B[39m \u001B[38;5;28;01mdef\u001B[39;00m\u001B[38;5;250m \u001B[39m\u001B[34minvoke\u001B[39m(\n\u001B[32m   5436\u001B[39m     \u001B[38;5;28mself\u001B[39m,\n\u001B[32m   (...)\u001B[39m\u001B[32m   5439\u001B[39m     **kwargs: Optional[Any],\n\u001B[32m   5440\u001B[39m ) -> Output:\n\u001B[32m-> \u001B[39m\u001B[32m5441\u001B[39m     \u001B[38;5;28;01mreturn\u001B[39;00m \u001B[38;5;28mself\u001B[39m.bound.invoke(\n\u001B[32m   5442\u001B[39m         \u001B[38;5;28minput\u001B[39m,\n\u001B[32m   5443\u001B[39m         \u001B[38;5;28mself\u001B[39m._merge_configs(config),\n\u001B[32m   5444\u001B[39m         **{**\u001B[38;5;28mself\u001B[39m.kwargs, **kwargs},\n\u001B[32m   5445\u001B[39m     )\n",
      "\u001B[36mFile \u001B[39m\u001B[32m~\\anaconda3\\envs\\StockSnapAI\\Lib\\site-packages\\langchain_core\\runnables\\base.py:3049\u001B[39m, in \u001B[36mRunnableSequence.invoke\u001B[39m\u001B[34m(self, input, config, **kwargs)\u001B[39m\n\u001B[32m   3048\u001B[39m             \u001B[38;5;28;01melse\u001B[39;00m:\n\u001B[32m-> \u001B[39m\u001B[32m3049\u001B[39m                 input_ = context.run(step.invoke, input_, config)\n\u001B[32m   3050\u001B[39m \u001B[38;5;66;03m# finish the root run\u001B[39;00m\n",
      "\u001B[36mFile \u001B[39m\u001B[32m~\\anaconda3\\envs\\StockSnapAI\\Lib\\site-packages\\langchain_core\\runnables\\base.py:5441\u001B[39m, in \u001B[36mRunnableBindingBase.invoke\u001B[39m\u001B[34m(self, input, config, **kwargs)\u001B[39m\n\u001B[32m   5434\u001B[39m \u001B[38;5;129m@override\u001B[39m\n\u001B[32m   5435\u001B[39m \u001B[38;5;28;01mdef\u001B[39;00m\u001B[38;5;250m \u001B[39m\u001B[34minvoke\u001B[39m(\n\u001B[32m   5436\u001B[39m     \u001B[38;5;28mself\u001B[39m,\n\u001B[32m   (...)\u001B[39m\u001B[32m   5439\u001B[39m     **kwargs: Optional[Any],\n\u001B[32m   5440\u001B[39m ) -> Output:\n\u001B[32m-> \u001B[39m\u001B[32m5441\u001B[39m     \u001B[38;5;28;01mreturn\u001B[39;00m \u001B[38;5;28mself\u001B[39m.bound.invoke(\n\u001B[32m   5442\u001B[39m         \u001B[38;5;28minput\u001B[39m,\n\u001B[32m   5443\u001B[39m         \u001B[38;5;28mself\u001B[39m._merge_configs(config),\n\u001B[32m   5444\u001B[39m         **{**\u001B[38;5;28mself\u001B[39m.kwargs, **kwargs},\n\u001B[32m   5445\u001B[39m     )\n",
      "\u001B[36mFile \u001B[39m\u001B[32m~\\anaconda3\\envs\\StockSnapAI\\Lib\\site-packages\\langchain_core\\runnables\\base.py:4781\u001B[39m, in \u001B[36mRunnableLambda.invoke\u001B[39m\u001B[34m(self, input, config, **kwargs)\u001B[39m\n\u001B[32m   4780\u001B[39m \u001B[38;5;28;01mif\u001B[39;00m \u001B[38;5;28mhasattr\u001B[39m(\u001B[38;5;28mself\u001B[39m, \u001B[33m\"\u001B[39m\u001B[33mfunc\u001B[39m\u001B[33m\"\u001B[39m):\n\u001B[32m-> \u001B[39m\u001B[32m4781\u001B[39m     \u001B[38;5;28;01mreturn\u001B[39;00m \u001B[38;5;28mself\u001B[39m._call_with_config(\n\u001B[32m   4782\u001B[39m         \u001B[38;5;28mself\u001B[39m._invoke,\n\u001B[32m   4783\u001B[39m         \u001B[38;5;28minput\u001B[39m,\n\u001B[32m   4784\u001B[39m         ensure_config(config),\n\u001B[32m   4785\u001B[39m         **kwargs,\n\u001B[32m   4786\u001B[39m     )\n\u001B[32m   4787\u001B[39m msg = \u001B[33m\"\u001B[39m\u001B[33mCannot invoke a coroutine function synchronously.Use `ainvoke` instead.\u001B[39m\u001B[33m\"\u001B[39m\n",
      "\u001B[36mFile \u001B[39m\u001B[32m~\\anaconda3\\envs\\StockSnapAI\\Lib\\site-packages\\langchain_core\\runnables\\base.py:1938\u001B[39m, in \u001B[36mRunnable._call_with_config\u001B[39m\u001B[34m(self, func, input_, config, run_type, serialized, **kwargs)\u001B[39m\n\u001B[32m   1935\u001B[39m     \u001B[38;5;28;01mwith\u001B[39;00m set_config_context(child_config) \u001B[38;5;28;01mas\u001B[39;00m context:\n\u001B[32m   1936\u001B[39m         output = cast(\n\u001B[32m   1937\u001B[39m             \u001B[33m\"\u001B[39m\u001B[33mOutput\u001B[39m\u001B[33m\"\u001B[39m,\n\u001B[32m-> \u001B[39m\u001B[32m1938\u001B[39m             context.run(\n\u001B[32m   1939\u001B[39m                 call_func_with_variable_args,  \u001B[38;5;66;03m# type: ignore[arg-type]\u001B[39;00m\n\u001B[32m   1940\u001B[39m                 func,\n\u001B[32m   1941\u001B[39m                 input_,\n\u001B[32m   1942\u001B[39m                 config,\n\u001B[32m   1943\u001B[39m                 run_manager,\n\u001B[32m   1944\u001B[39m                 **kwargs,\n\u001B[32m   1945\u001B[39m             ),\n\u001B[32m   1946\u001B[39m         )\n\u001B[32m   1947\u001B[39m \u001B[38;5;28;01mexcept\u001B[39;00m \u001B[38;5;167;01mBaseException\u001B[39;00m \u001B[38;5;28;01mas\u001B[39;00m e:\n",
      "\u001B[36mFile \u001B[39m\u001B[32m~\\anaconda3\\envs\\StockSnapAI\\Lib\\site-packages\\langchain_core\\runnables\\config.py:429\u001B[39m, in \u001B[36mcall_func_with_variable_args\u001B[39m\u001B[34m(func, input, config, run_manager, **kwargs)\u001B[39m\n\u001B[32m    428\u001B[39m     kwargs[\u001B[33m\"\u001B[39m\u001B[33mrun_manager\u001B[39m\u001B[33m\"\u001B[39m] = run_manager\n\u001B[32m--> \u001B[39m\u001B[32m429\u001B[39m \u001B[38;5;28;01mreturn\u001B[39;00m func(\u001B[38;5;28minput\u001B[39m, **kwargs)\n",
      "\u001B[36mFile \u001B[39m\u001B[32m~\\anaconda3\\envs\\StockSnapAI\\Lib\\site-packages\\langchain_core\\runnables\\base.py:4650\u001B[39m, in \u001B[36mRunnableLambda._invoke\u001B[39m\u001B[34m(self, input_, run_manager, config, **kwargs)\u001B[39m\n\u001B[32m   4649\u001B[39m         \u001B[38;5;28;01mraise\u001B[39;00m \u001B[38;5;167;01mRecursionError\u001B[39;00m(msg)\n\u001B[32m-> \u001B[39m\u001B[32m4650\u001B[39m     output = output.invoke(\n\u001B[32m   4651\u001B[39m         input_,\n\u001B[32m   4652\u001B[39m         patch_config(\n\u001B[32m   4653\u001B[39m             config,\n\u001B[32m   4654\u001B[39m             callbacks=run_manager.get_child(),\n\u001B[32m   4655\u001B[39m             recursion_limit=recursion_limit - \u001B[32m1\u001B[39m,\n\u001B[32m   4656\u001B[39m         ),\n\u001B[32m   4657\u001B[39m     )\n\u001B[32m   4658\u001B[39m \u001B[38;5;28;01mreturn\u001B[39;00m cast(\u001B[33m\"\u001B[39m\u001B[33mOutput\u001B[39m\u001B[33m\"\u001B[39m, output)\n",
      "\u001B[36mFile \u001B[39m\u001B[32m~\\anaconda3\\envs\\StockSnapAI\\Lib\\site-packages\\langchain_core\\runnables\\base.py:5441\u001B[39m, in \u001B[36mRunnableBindingBase.invoke\u001B[39m\u001B[34m(self, input, config, **kwargs)\u001B[39m\n\u001B[32m   5434\u001B[39m \u001B[38;5;129m@override\u001B[39m\n\u001B[32m   5435\u001B[39m \u001B[38;5;28;01mdef\u001B[39;00m\u001B[38;5;250m \u001B[39m\u001B[34minvoke\u001B[39m(\n\u001B[32m   5436\u001B[39m     \u001B[38;5;28mself\u001B[39m,\n\u001B[32m   (...)\u001B[39m\u001B[32m   5439\u001B[39m     **kwargs: Optional[Any],\n\u001B[32m   5440\u001B[39m ) -> Output:\n\u001B[32m-> \u001B[39m\u001B[32m5441\u001B[39m     \u001B[38;5;28;01mreturn\u001B[39;00m \u001B[38;5;28mself\u001B[39m.bound.invoke(\n\u001B[32m   5442\u001B[39m         \u001B[38;5;28minput\u001B[39m,\n\u001B[32m   5443\u001B[39m         \u001B[38;5;28mself\u001B[39m._merge_configs(config),\n\u001B[32m   5444\u001B[39m         **{**\u001B[38;5;28mself\u001B[39m.kwargs, **kwargs},\n\u001B[32m   5445\u001B[39m     )\n",
      "\u001B[36mFile \u001B[39m\u001B[32m~\\anaconda3\\envs\\StockSnapAI\\Lib\\site-packages\\langchain_core\\runnables\\base.py:3049\u001B[39m, in \u001B[36mRunnableSequence.invoke\u001B[39m\u001B[34m(self, input, config, **kwargs)\u001B[39m\n\u001B[32m   3048\u001B[39m             \u001B[38;5;28;01melse\u001B[39;00m:\n\u001B[32m-> \u001B[39m\u001B[32m3049\u001B[39m                 input_ = context.run(step.invoke, input_, config)\n\u001B[32m   3050\u001B[39m \u001B[38;5;66;03m# finish the root run\u001B[39;00m\n",
      "\u001B[36mFile \u001B[39m\u001B[32m~\\anaconda3\\envs\\StockSnapAI\\Lib\\site-packages\\langchain_core\\runnables\\passthrough.py:513\u001B[39m, in \u001B[36mRunnableAssign.invoke\u001B[39m\u001B[34m(self, input, config, **kwargs)\u001B[39m\n\u001B[32m    506\u001B[39m \u001B[38;5;129m@override\u001B[39m\n\u001B[32m    507\u001B[39m \u001B[38;5;28;01mdef\u001B[39;00m\u001B[38;5;250m \u001B[39m\u001B[34minvoke\u001B[39m(\n\u001B[32m    508\u001B[39m     \u001B[38;5;28mself\u001B[39m,\n\u001B[32m   (...)\u001B[39m\u001B[32m    511\u001B[39m     **kwargs: Any,\n\u001B[32m    512\u001B[39m ) -> \u001B[38;5;28mdict\u001B[39m[\u001B[38;5;28mstr\u001B[39m, Any]:\n\u001B[32m--> \u001B[39m\u001B[32m513\u001B[39m     \u001B[38;5;28;01mreturn\u001B[39;00m \u001B[38;5;28mself\u001B[39m._call_with_config(\u001B[38;5;28mself\u001B[39m._invoke, \u001B[38;5;28minput\u001B[39m, config, **kwargs)\n",
      "\u001B[36mFile \u001B[39m\u001B[32m~\\anaconda3\\envs\\StockSnapAI\\Lib\\site-packages\\langchain_core\\runnables\\base.py:1938\u001B[39m, in \u001B[36mRunnable._call_with_config\u001B[39m\u001B[34m(self, func, input_, config, run_type, serialized, **kwargs)\u001B[39m\n\u001B[32m   1935\u001B[39m     \u001B[38;5;28;01mwith\u001B[39;00m set_config_context(child_config) \u001B[38;5;28;01mas\u001B[39;00m context:\n\u001B[32m   1936\u001B[39m         output = cast(\n\u001B[32m   1937\u001B[39m             \u001B[33m\"\u001B[39m\u001B[33mOutput\u001B[39m\u001B[33m\"\u001B[39m,\n\u001B[32m-> \u001B[39m\u001B[32m1938\u001B[39m             context.run(\n\u001B[32m   1939\u001B[39m                 call_func_with_variable_args,  \u001B[38;5;66;03m# type: ignore[arg-type]\u001B[39;00m\n\u001B[32m   1940\u001B[39m                 func,\n\u001B[32m   1941\u001B[39m                 input_,\n\u001B[32m   1942\u001B[39m                 config,\n\u001B[32m   1943\u001B[39m                 run_manager,\n\u001B[32m   1944\u001B[39m                 **kwargs,\n\u001B[32m   1945\u001B[39m             ),\n\u001B[32m   1946\u001B[39m         )\n\u001B[32m   1947\u001B[39m \u001B[38;5;28;01mexcept\u001B[39;00m \u001B[38;5;167;01mBaseException\u001B[39;00m \u001B[38;5;28;01mas\u001B[39;00m e:\n",
      "\u001B[36mFile \u001B[39m\u001B[32m~\\anaconda3\\envs\\StockSnapAI\\Lib\\site-packages\\langchain_core\\runnables\\config.py:429\u001B[39m, in \u001B[36mcall_func_with_variable_args\u001B[39m\u001B[34m(func, input, config, run_manager, **kwargs)\u001B[39m\n\u001B[32m    428\u001B[39m     kwargs[\u001B[33m\"\u001B[39m\u001B[33mrun_manager\u001B[39m\u001B[33m\"\u001B[39m] = run_manager\n\u001B[32m--> \u001B[39m\u001B[32m429\u001B[39m \u001B[38;5;28;01mreturn\u001B[39;00m func(\u001B[38;5;28minput\u001B[39m, **kwargs)\n",
      "\u001B[36mFile \u001B[39m\u001B[32m~\\anaconda3\\envs\\StockSnapAI\\Lib\\site-packages\\langchain_core\\runnables\\passthrough.py:499\u001B[39m, in \u001B[36mRunnableAssign._invoke\u001B[39m\u001B[34m(self, value, run_manager, config, **kwargs)\u001B[39m\n\u001B[32m    495\u001B[39m     \u001B[38;5;28;01mraise\u001B[39;00m \u001B[38;5;167;01mValueError\u001B[39;00m(msg)  \u001B[38;5;66;03m# noqa: TRY004\u001B[39;00m\n\u001B[32m    497\u001B[39m \u001B[38;5;28;01mreturn\u001B[39;00m {\n\u001B[32m    498\u001B[39m     **value,\n\u001B[32m--> \u001B[39m\u001B[32m499\u001B[39m     **\u001B[38;5;28mself\u001B[39m.mapper.invoke(\n\u001B[32m    500\u001B[39m         value,\n\u001B[32m    501\u001B[39m         patch_config(config, callbacks=run_manager.get_child()),\n\u001B[32m    502\u001B[39m         **kwargs,\n\u001B[32m    503\u001B[39m     ),\n\u001B[32m    504\u001B[39m }\n",
      "\u001B[36mFile \u001B[39m\u001B[32m~\\anaconda3\\envs\\StockSnapAI\\Lib\\site-packages\\langchain_core\\runnables\\base.py:3777\u001B[39m, in \u001B[36mRunnableParallel.invoke\u001B[39m\u001B[34m(self, input, config, **kwargs)\u001B[39m\n\u001B[32m   3773\u001B[39m         futures = [\n\u001B[32m   3774\u001B[39m             executor.submit(_invoke_step, step, \u001B[38;5;28minput\u001B[39m, config, key)\n\u001B[32m   3775\u001B[39m             \u001B[38;5;28;01mfor\u001B[39;00m key, step \u001B[38;5;129;01min\u001B[39;00m steps.items()\n\u001B[32m   3776\u001B[39m         ]\n\u001B[32m-> \u001B[39m\u001B[32m3777\u001B[39m         output = {key: future.result() \u001B[38;5;28;01mfor\u001B[39;00m key, future \u001B[38;5;129;01min\u001B[39;00m \u001B[38;5;28mzip\u001B[39m(steps, futures)}\n\u001B[32m   3778\u001B[39m \u001B[38;5;66;03m# finish the root run\u001B[39;00m\n",
      "\u001B[36mFile \u001B[39m\u001B[32m~\\anaconda3\\envs\\StockSnapAI\\Lib\\concurrent\\futures\\_base.py:456\u001B[39m, in \u001B[36mFuture.result\u001B[39m\u001B[34m(self, timeout)\u001B[39m\n\u001B[32m    455\u001B[39m \u001B[38;5;28;01melif\u001B[39;00m \u001B[38;5;28mself\u001B[39m._state == FINISHED:\n\u001B[32m--> \u001B[39m\u001B[32m456\u001B[39m     \u001B[38;5;28;01mreturn\u001B[39;00m \u001B[38;5;28mself\u001B[39m.__get_result()\n\u001B[32m    457\u001B[39m \u001B[38;5;28;01melse\u001B[39;00m:\n",
      "\u001B[36mFile \u001B[39m\u001B[32m~\\anaconda3\\envs\\StockSnapAI\\Lib\\concurrent\\futures\\_base.py:401\u001B[39m, in \u001B[36mFuture.__get_result\u001B[39m\u001B[34m(self)\u001B[39m\n\u001B[32m    400\u001B[39m \u001B[38;5;28;01mtry\u001B[39;00m:\n\u001B[32m--> \u001B[39m\u001B[32m401\u001B[39m     \u001B[38;5;28;01mraise\u001B[39;00m \u001B[38;5;28mself\u001B[39m._exception\n\u001B[32m    402\u001B[39m \u001B[38;5;28;01mfinally\u001B[39;00m:\n\u001B[32m    403\u001B[39m     \u001B[38;5;66;03m# Break a reference cycle with the exception in self._exception\u001B[39;00m\n",
      "\u001B[36mFile \u001B[39m\u001B[32m~\\anaconda3\\envs\\StockSnapAI\\Lib\\concurrent\\futures\\thread.py:59\u001B[39m, in \u001B[36m_WorkItem.run\u001B[39m\u001B[34m(self)\u001B[39m\n\u001B[32m     58\u001B[39m \u001B[38;5;28;01mtry\u001B[39;00m:\n\u001B[32m---> \u001B[39m\u001B[32m59\u001B[39m     result = \u001B[38;5;28mself\u001B[39m.fn(*\u001B[38;5;28mself\u001B[39m.args, **\u001B[38;5;28mself\u001B[39m.kwargs)\n\u001B[32m     60\u001B[39m \u001B[38;5;28;01mexcept\u001B[39;00m \u001B[38;5;167;01mBaseException\u001B[39;00m \u001B[38;5;28;01mas\u001B[39;00m exc:\n",
      "\u001B[36mFile \u001B[39m\u001B[32m~\\anaconda3\\envs\\StockSnapAI\\Lib\\site-packages\\langchain_core\\runnables\\base.py:3761\u001B[39m, in \u001B[36mRunnableParallel.invoke.<locals>._invoke_step\u001B[39m\u001B[34m(step, input_, config, key)\u001B[39m\n\u001B[32m   3760\u001B[39m \u001B[38;5;28;01mwith\u001B[39;00m set_config_context(child_config) \u001B[38;5;28;01mas\u001B[39;00m context:\n\u001B[32m-> \u001B[39m\u001B[32m3761\u001B[39m     \u001B[38;5;28;01mreturn\u001B[39;00m context.run(\n\u001B[32m   3762\u001B[39m         step.invoke,\n\u001B[32m   3763\u001B[39m         input_,\n\u001B[32m   3764\u001B[39m         child_config,\n\u001B[32m   3765\u001B[39m     )\n",
      "\u001B[36mFile \u001B[39m\u001B[32m~\\anaconda3\\envs\\StockSnapAI\\Lib\\site-packages\\langchain_core\\runnables\\base.py:5441\u001B[39m, in \u001B[36mRunnableBindingBase.invoke\u001B[39m\u001B[34m(self, input, config, **kwargs)\u001B[39m\n\u001B[32m   5434\u001B[39m \u001B[38;5;129m@override\u001B[39m\n\u001B[32m   5435\u001B[39m \u001B[38;5;28;01mdef\u001B[39;00m\u001B[38;5;250m \u001B[39m\u001B[34minvoke\u001B[39m(\n\u001B[32m   5436\u001B[39m     \u001B[38;5;28mself\u001B[39m,\n\u001B[32m   (...)\u001B[39m\u001B[32m   5439\u001B[39m     **kwargs: Optional[Any],\n\u001B[32m   5440\u001B[39m ) -> Output:\n\u001B[32m-> \u001B[39m\u001B[32m5441\u001B[39m     \u001B[38;5;28;01mreturn\u001B[39;00m \u001B[38;5;28mself\u001B[39m.bound.invoke(\n\u001B[32m   5442\u001B[39m         \u001B[38;5;28minput\u001B[39m,\n\u001B[32m   5443\u001B[39m         \u001B[38;5;28mself\u001B[39m._merge_configs(config),\n\u001B[32m   5444\u001B[39m         **{**\u001B[38;5;28mself\u001B[39m.kwargs, **kwargs},\n\u001B[32m   5445\u001B[39m     )\n",
      "\u001B[36mFile \u001B[39m\u001B[32m~\\anaconda3\\envs\\StockSnapAI\\Lib\\site-packages\\langchain_core\\runnables\\base.py:3047\u001B[39m, in \u001B[36mRunnableSequence.invoke\u001B[39m\u001B[34m(self, input, config, **kwargs)\u001B[39m\n\u001B[32m   3046\u001B[39m \u001B[38;5;28;01mif\u001B[39;00m i == \u001B[32m0\u001B[39m:\n\u001B[32m-> \u001B[39m\u001B[32m3047\u001B[39m     input_ = context.run(step.invoke, input_, config, **kwargs)\n\u001B[32m   3048\u001B[39m \u001B[38;5;28;01melse\u001B[39;00m:\n",
      "\u001B[36mFile \u001B[39m\u001B[32m~\\anaconda3\\envs\\StockSnapAI\\Lib\\site-packages\\langchain_core\\runnables\\base.py:5441\u001B[39m, in \u001B[36mRunnableBindingBase.invoke\u001B[39m\u001B[34m(self, input, config, **kwargs)\u001B[39m\n\u001B[32m   5434\u001B[39m \u001B[38;5;129m@override\u001B[39m\n\u001B[32m   5435\u001B[39m \u001B[38;5;28;01mdef\u001B[39;00m\u001B[38;5;250m \u001B[39m\u001B[34minvoke\u001B[39m(\n\u001B[32m   5436\u001B[39m     \u001B[38;5;28mself\u001B[39m,\n\u001B[32m   (...)\u001B[39m\u001B[32m   5439\u001B[39m     **kwargs: Optional[Any],\n\u001B[32m   5440\u001B[39m ) -> Output:\n\u001B[32m-> \u001B[39m\u001B[32m5441\u001B[39m     \u001B[38;5;28;01mreturn\u001B[39;00m \u001B[38;5;28mself\u001B[39m.bound.invoke(\n\u001B[32m   5442\u001B[39m         \u001B[38;5;28minput\u001B[39m,\n\u001B[32m   5443\u001B[39m         \u001B[38;5;28mself\u001B[39m._merge_configs(config),\n\u001B[32m   5444\u001B[39m         **{**\u001B[38;5;28mself\u001B[39m.kwargs, **kwargs},\n\u001B[32m   5445\u001B[39m     )\n",
      "\u001B[36mFile \u001B[39m\u001B[32m~\\anaconda3\\envs\\StockSnapAI\\Lib\\site-packages\\langchain_core\\runnables\\passthrough.py:513\u001B[39m, in \u001B[36mRunnableAssign.invoke\u001B[39m\u001B[34m(self, input, config, **kwargs)\u001B[39m\n\u001B[32m    506\u001B[39m \u001B[38;5;129m@override\u001B[39m\n\u001B[32m    507\u001B[39m \u001B[38;5;28;01mdef\u001B[39;00m\u001B[38;5;250m \u001B[39m\u001B[34minvoke\u001B[39m(\n\u001B[32m    508\u001B[39m     \u001B[38;5;28mself\u001B[39m,\n\u001B[32m   (...)\u001B[39m\u001B[32m    511\u001B[39m     **kwargs: Any,\n\u001B[32m    512\u001B[39m ) -> \u001B[38;5;28mdict\u001B[39m[\u001B[38;5;28mstr\u001B[39m, Any]:\n\u001B[32m--> \u001B[39m\u001B[32m513\u001B[39m     \u001B[38;5;28;01mreturn\u001B[39;00m \u001B[38;5;28mself\u001B[39m._call_with_config(\u001B[38;5;28mself\u001B[39m._invoke, \u001B[38;5;28minput\u001B[39m, config, **kwargs)\n",
      "\u001B[36mFile \u001B[39m\u001B[32m~\\anaconda3\\envs\\StockSnapAI\\Lib\\site-packages\\langchain_core\\runnables\\base.py:1938\u001B[39m, in \u001B[36mRunnable._call_with_config\u001B[39m\u001B[34m(self, func, input_, config, run_type, serialized, **kwargs)\u001B[39m\n\u001B[32m   1935\u001B[39m     \u001B[38;5;28;01mwith\u001B[39;00m set_config_context(child_config) \u001B[38;5;28;01mas\u001B[39;00m context:\n\u001B[32m   1936\u001B[39m         output = cast(\n\u001B[32m   1937\u001B[39m             \u001B[33m\"\u001B[39m\u001B[33mOutput\u001B[39m\u001B[33m\"\u001B[39m,\n\u001B[32m-> \u001B[39m\u001B[32m1938\u001B[39m             context.run(\n\u001B[32m   1939\u001B[39m                 call_func_with_variable_args,  \u001B[38;5;66;03m# type: ignore[arg-type]\u001B[39;00m\n\u001B[32m   1940\u001B[39m                 func,\n\u001B[32m   1941\u001B[39m                 input_,\n\u001B[32m   1942\u001B[39m                 config,\n\u001B[32m   1943\u001B[39m                 run_manager,\n\u001B[32m   1944\u001B[39m                 **kwargs,\n\u001B[32m   1945\u001B[39m             ),\n\u001B[32m   1946\u001B[39m         )\n\u001B[32m   1947\u001B[39m \u001B[38;5;28;01mexcept\u001B[39;00m \u001B[38;5;167;01mBaseException\u001B[39;00m \u001B[38;5;28;01mas\u001B[39;00m e:\n",
      "\u001B[36mFile \u001B[39m\u001B[32m~\\anaconda3\\envs\\StockSnapAI\\Lib\\site-packages\\langchain_core\\runnables\\config.py:429\u001B[39m, in \u001B[36mcall_func_with_variable_args\u001B[39m\u001B[34m(func, input, config, run_manager, **kwargs)\u001B[39m\n\u001B[32m    428\u001B[39m     kwargs[\u001B[33m\"\u001B[39m\u001B[33mrun_manager\u001B[39m\u001B[33m\"\u001B[39m] = run_manager\n\u001B[32m--> \u001B[39m\u001B[32m429\u001B[39m \u001B[38;5;28;01mreturn\u001B[39;00m func(\u001B[38;5;28minput\u001B[39m, **kwargs)\n",
      "\u001B[36mFile \u001B[39m\u001B[32m~\\anaconda3\\envs\\StockSnapAI\\Lib\\site-packages\\langchain_core\\runnables\\passthrough.py:499\u001B[39m, in \u001B[36mRunnableAssign._invoke\u001B[39m\u001B[34m(self, value, run_manager, config, **kwargs)\u001B[39m\n\u001B[32m    495\u001B[39m     \u001B[38;5;28;01mraise\u001B[39;00m \u001B[38;5;167;01mValueError\u001B[39;00m(msg)  \u001B[38;5;66;03m# noqa: TRY004\u001B[39;00m\n\u001B[32m    497\u001B[39m \u001B[38;5;28;01mreturn\u001B[39;00m {\n\u001B[32m    498\u001B[39m     **value,\n\u001B[32m--> \u001B[39m\u001B[32m499\u001B[39m     **\u001B[38;5;28mself\u001B[39m.mapper.invoke(\n\u001B[32m    500\u001B[39m         value,\n\u001B[32m    501\u001B[39m         patch_config(config, callbacks=run_manager.get_child()),\n\u001B[32m    502\u001B[39m         **kwargs,\n\u001B[32m    503\u001B[39m     ),\n\u001B[32m    504\u001B[39m }\n",
      "\u001B[36mFile \u001B[39m\u001B[32m~\\anaconda3\\envs\\StockSnapAI\\Lib\\site-packages\\langchain_core\\runnables\\base.py:3777\u001B[39m, in \u001B[36mRunnableParallel.invoke\u001B[39m\u001B[34m(self, input, config, **kwargs)\u001B[39m\n\u001B[32m   3773\u001B[39m         futures = [\n\u001B[32m   3774\u001B[39m             executor.submit(_invoke_step, step, \u001B[38;5;28minput\u001B[39m, config, key)\n\u001B[32m   3775\u001B[39m             \u001B[38;5;28;01mfor\u001B[39;00m key, step \u001B[38;5;129;01min\u001B[39;00m steps.items()\n\u001B[32m   3776\u001B[39m         ]\n\u001B[32m-> \u001B[39m\u001B[32m3777\u001B[39m         output = {key: future.result() \u001B[38;5;28;01mfor\u001B[39;00m key, future \u001B[38;5;129;01min\u001B[39;00m \u001B[38;5;28mzip\u001B[39m(steps, futures)}\n\u001B[32m   3778\u001B[39m \u001B[38;5;66;03m# finish the root run\u001B[39;00m\n",
      "\u001B[36mFile \u001B[39m\u001B[32m~\\anaconda3\\envs\\StockSnapAI\\Lib\\concurrent\\futures\\_base.py:456\u001B[39m, in \u001B[36mFuture.result\u001B[39m\u001B[34m(self, timeout)\u001B[39m\n\u001B[32m    455\u001B[39m \u001B[38;5;28;01melif\u001B[39;00m \u001B[38;5;28mself\u001B[39m._state == FINISHED:\n\u001B[32m--> \u001B[39m\u001B[32m456\u001B[39m     \u001B[38;5;28;01mreturn\u001B[39;00m \u001B[38;5;28mself\u001B[39m.__get_result()\n\u001B[32m    457\u001B[39m \u001B[38;5;28;01melse\u001B[39;00m:\n",
      "\u001B[36mFile \u001B[39m\u001B[32m~\\anaconda3\\envs\\StockSnapAI\\Lib\\concurrent\\futures\\_base.py:401\u001B[39m, in \u001B[36mFuture.__get_result\u001B[39m\u001B[34m(self)\u001B[39m\n\u001B[32m    400\u001B[39m \u001B[38;5;28;01mtry\u001B[39;00m:\n\u001B[32m--> \u001B[39m\u001B[32m401\u001B[39m     \u001B[38;5;28;01mraise\u001B[39;00m \u001B[38;5;28mself\u001B[39m._exception\n\u001B[32m    402\u001B[39m \u001B[38;5;28;01mfinally\u001B[39;00m:\n\u001B[32m    403\u001B[39m     \u001B[38;5;66;03m# Break a reference cycle with the exception in self._exception\u001B[39;00m\n",
      "\u001B[36mFile \u001B[39m\u001B[32m~\\anaconda3\\envs\\StockSnapAI\\Lib\\concurrent\\futures\\thread.py:59\u001B[39m, in \u001B[36m_WorkItem.run\u001B[39m\u001B[34m(self)\u001B[39m\n\u001B[32m     58\u001B[39m \u001B[38;5;28;01mtry\u001B[39;00m:\n\u001B[32m---> \u001B[39m\u001B[32m59\u001B[39m     result = \u001B[38;5;28mself\u001B[39m.fn(*\u001B[38;5;28mself\u001B[39m.args, **\u001B[38;5;28mself\u001B[39m.kwargs)\n\u001B[32m     60\u001B[39m \u001B[38;5;28;01mexcept\u001B[39;00m \u001B[38;5;167;01mBaseException\u001B[39;00m \u001B[38;5;28;01mas\u001B[39;00m exc:\n",
      "\u001B[36mFile \u001B[39m\u001B[32m~\\anaconda3\\envs\\StockSnapAI\\Lib\\site-packages\\langchain_core\\runnables\\base.py:3761\u001B[39m, in \u001B[36mRunnableParallel.invoke.<locals>._invoke_step\u001B[39m\u001B[34m(step, input_, config, key)\u001B[39m\n\u001B[32m   3760\u001B[39m \u001B[38;5;28;01mwith\u001B[39;00m set_config_context(child_config) \u001B[38;5;28;01mas\u001B[39;00m context:\n\u001B[32m-> \u001B[39m\u001B[32m3761\u001B[39m     \u001B[38;5;28;01mreturn\u001B[39;00m context.run(\n\u001B[32m   3762\u001B[39m         step.invoke,\n\u001B[32m   3763\u001B[39m         input_,\n\u001B[32m   3764\u001B[39m         child_config,\n\u001B[32m   3765\u001B[39m     )\n",
      "\u001B[36mFile \u001B[39m\u001B[32m~\\anaconda3\\envs\\StockSnapAI\\Lib\\site-packages\\langchain_core\\runnables\\base.py:4781\u001B[39m, in \u001B[36mRunnableLambda.invoke\u001B[39m\u001B[34m(self, input, config, **kwargs)\u001B[39m\n\u001B[32m   4780\u001B[39m \u001B[38;5;28;01mif\u001B[39;00m \u001B[38;5;28mhasattr\u001B[39m(\u001B[38;5;28mself\u001B[39m, \u001B[33m\"\u001B[39m\u001B[33mfunc\u001B[39m\u001B[33m\"\u001B[39m):\n\u001B[32m-> \u001B[39m\u001B[32m4781\u001B[39m     \u001B[38;5;28;01mreturn\u001B[39;00m \u001B[38;5;28mself\u001B[39m._call_with_config(\n\u001B[32m   4782\u001B[39m         \u001B[38;5;28mself\u001B[39m._invoke,\n\u001B[32m   4783\u001B[39m         \u001B[38;5;28minput\u001B[39m,\n\u001B[32m   4784\u001B[39m         ensure_config(config),\n\u001B[32m   4785\u001B[39m         **kwargs,\n\u001B[32m   4786\u001B[39m     )\n\u001B[32m   4787\u001B[39m msg = \u001B[33m\"\u001B[39m\u001B[33mCannot invoke a coroutine function synchronously.Use `ainvoke` instead.\u001B[39m\u001B[33m\"\u001B[39m\n",
      "\u001B[36mFile \u001B[39m\u001B[32m~\\anaconda3\\envs\\StockSnapAI\\Lib\\site-packages\\langchain_core\\runnables\\base.py:1938\u001B[39m, in \u001B[36mRunnable._call_with_config\u001B[39m\u001B[34m(self, func, input_, config, run_type, serialized, **kwargs)\u001B[39m\n\u001B[32m   1935\u001B[39m     \u001B[38;5;28;01mwith\u001B[39;00m set_config_context(child_config) \u001B[38;5;28;01mas\u001B[39;00m context:\n\u001B[32m   1936\u001B[39m         output = cast(\n\u001B[32m   1937\u001B[39m             \u001B[33m\"\u001B[39m\u001B[33mOutput\u001B[39m\u001B[33m\"\u001B[39m,\n\u001B[32m-> \u001B[39m\u001B[32m1938\u001B[39m             context.run(\n\u001B[32m   1939\u001B[39m                 call_func_with_variable_args,  \u001B[38;5;66;03m# type: ignore[arg-type]\u001B[39;00m\n\u001B[32m   1940\u001B[39m                 func,\n\u001B[32m   1941\u001B[39m                 input_,\n\u001B[32m   1942\u001B[39m                 config,\n\u001B[32m   1943\u001B[39m                 run_manager,\n\u001B[32m   1944\u001B[39m                 **kwargs,\n\u001B[32m   1945\u001B[39m             ),\n\u001B[32m   1946\u001B[39m         )\n\u001B[32m   1947\u001B[39m \u001B[38;5;28;01mexcept\u001B[39;00m \u001B[38;5;167;01mBaseException\u001B[39;00m \u001B[38;5;28;01mas\u001B[39;00m e:\n",
      "\u001B[36mFile \u001B[39m\u001B[32m~\\anaconda3\\envs\\StockSnapAI\\Lib\\site-packages\\langchain_core\\runnables\\config.py:429\u001B[39m, in \u001B[36mcall_func_with_variable_args\u001B[39m\u001B[34m(func, input, config, run_manager, **kwargs)\u001B[39m\n\u001B[32m    428\u001B[39m     kwargs[\u001B[33m\"\u001B[39m\u001B[33mrun_manager\u001B[39m\u001B[33m\"\u001B[39m] = run_manager\n\u001B[32m--> \u001B[39m\u001B[32m429\u001B[39m \u001B[38;5;28;01mreturn\u001B[39;00m func(\u001B[38;5;28minput\u001B[39m, **kwargs)\n",
      "\u001B[36mFile \u001B[39m\u001B[32m~\\anaconda3\\envs\\StockSnapAI\\Lib\\site-packages\\langchain_core\\runnables\\base.py:4639\u001B[39m, in \u001B[36mRunnableLambda._invoke\u001B[39m\u001B[34m(self, input_, run_manager, config, **kwargs)\u001B[39m\n\u001B[32m   4638\u001B[39m \u001B[38;5;28;01melse\u001B[39;00m:\n\u001B[32m-> \u001B[39m\u001B[32m4639\u001B[39m     output = call_func_with_variable_args(\n\u001B[32m   4640\u001B[39m         \u001B[38;5;28mself\u001B[39m.func, input_, config, run_manager, **kwargs\n\u001B[32m   4641\u001B[39m     )\n\u001B[32m   4642\u001B[39m \u001B[38;5;66;03m# If the output is a Runnable, invoke it\u001B[39;00m\n",
      "\u001B[36mFile \u001B[39m\u001B[32m~\\anaconda3\\envs\\StockSnapAI\\Lib\\site-packages\\langchain_core\\runnables\\config.py:429\u001B[39m, in \u001B[36mcall_func_with_variable_args\u001B[39m\u001B[34m(func, input, config, run_manager, **kwargs)\u001B[39m\n\u001B[32m    428\u001B[39m     kwargs[\u001B[33m\"\u001B[39m\u001B[33mrun_manager\u001B[39m\u001B[33m\"\u001B[39m] = run_manager\n\u001B[32m--> \u001B[39m\u001B[32m429\u001B[39m \u001B[38;5;28;01mreturn\u001B[39;00m func(\u001B[38;5;28minput\u001B[39m, **kwargs)\n",
      "\u001B[36mFile \u001B[39m\u001B[32m~\\anaconda3\\envs\\StockSnapAI\\Lib\\site-packages\\langchain\\chains\\combine_documents\\stuff.py:86\u001B[39m, in \u001B[36mcreate_stuff_documents_chain.<locals>.format_docs\u001B[39m\u001B[34m(inputs)\u001B[39m\n\u001B[32m     83\u001B[39m \u001B[38;5;28;01mdef\u001B[39;00m\u001B[38;5;250m \u001B[39m\u001B[34mformat_docs\u001B[39m(inputs: \u001B[38;5;28mdict\u001B[39m) -> \u001B[38;5;28mstr\u001B[39m:\n\u001B[32m     84\u001B[39m     \u001B[38;5;28;01mreturn\u001B[39;00m document_separator.join(\n\u001B[32m     85\u001B[39m         format_document(doc, _document_prompt)\n\u001B[32m---> \u001B[39m\u001B[32m86\u001B[39m         \u001B[38;5;28;01mfor\u001B[39;00m doc \u001B[38;5;129;01min\u001B[39;00m inputs[document_variable_name]\n\u001B[32m     87\u001B[39m     )\n",
      "\u001B[31mKeyError\u001B[39m: 'documents'",
      "\nDuring handling of the above exception, another exception occurred:\n",
      "\u001B[31mCustomException\u001B[39m                           Traceback (most recent call last)",
      "\u001B[36mCell\u001B[39m\u001B[36m \u001B[39m\u001B[32mIn[6]\u001B[39m\u001B[32m, line 1\u001B[39m\n\u001B[32m----> \u001B[39m\u001B[32m1\u001B[39m chat.invoke(\u001B[33m\"\u001B[39m\u001B[33mHey\u001B[39m\u001B[33m\"\u001B[39m)\n",
      "\u001B[36mFile \u001B[39m\u001B[32m~\\Desktop\\Generative AI\\StockSnapAI\\src\\news_summarizer\\chat_module.py:76\u001B[39m, in \u001B[36mConversationalRAG.invoke\u001B[39m\u001B[34m(self, user_input)\u001B[39m\n\u001B[32m     74\u001B[39m \u001B[38;5;28;01mexcept\u001B[39;00m \u001B[38;5;167;01mException\u001B[39;00m \u001B[38;5;28;01mas\u001B[39;00m e:\n\u001B[32m     75\u001B[39m     \u001B[38;5;28mself\u001B[39m.log.error(\u001B[33m\"\u001B[39m\u001B[33mFailed to invoke conversational RAG\u001B[39m\u001B[33m\"\u001B[39m, error=\u001B[38;5;28mstr\u001B[39m(e))\n\u001B[32m---> \u001B[39m\u001B[32m76\u001B[39m     \u001B[38;5;28;01mraise\u001B[39;00m CustomException(\u001B[33m\"\u001B[39m\u001B[33mFailed to invoke conversational RAG\u001B[39m\u001B[33m\"\u001B[39m, sys)\n",
      "\u001B[31mCustomException\u001B[39m: \n        Error in [C:\\Users\\302sy\\Desktop\\Generative AI\\StockSnapAI\\src\\news_summarizer\\chat_module.py]at line [62]\n        Message: [Failed to invoke conversational RAG]\n        Traceback:\n        Traceback (most recent call last):\n  File \"C:\\Users\\302sy\\Desktop\\Generative AI\\StockSnapAI\\src\\news_summarizer\\chat_module.py\", line 62, in invoke\n    response= self.chain.invoke(\n              ^^^^^^^^^^^^^^^^^^\n  File \"C:\\Users\\302sy\\anaconda3\\envs\\StockSnapAI\\Lib\\site-packages\\langchain_core\\runnables\\base.py\", line 5441, in invoke\n    return self.bound.invoke(\n           ^^^^^^^^^^^^^^^^^^\n  File \"C:\\Users\\302sy\\anaconda3\\envs\\StockSnapAI\\Lib\\site-packages\\langchain_core\\runnables\\base.py\", line 5441, in invoke\n    return self.bound.invoke(\n           ^^^^^^^^^^^^^^^^^^\n  File \"C:\\Users\\302sy\\anaconda3\\envs\\StockSnapAI\\Lib\\site-packages\\langchain_core\\runnables\\base.py\", line 3049, in invoke\n    input_ = context.run(step.invoke, input_, config)\n             ^^^^^^^^^^^^^^^^^^^^^^^^^^^^^^^^^^^^^^^^\n  File \"C:\\Users\\302sy\\anaconda3\\envs\\StockSnapAI\\Lib\\site-packages\\langchain_core\\runnables\\base.py\", line 5441, in invoke\n    return self.bound.invoke(\n           ^^^^^^^^^^^^^^^^^^\n  File \"C:\\Users\\302sy\\anaconda3\\envs\\StockSnapAI\\Lib\\site-packages\\langchain_core\\runnables\\base.py\", line 4781, in invoke\n    return self._call_with_config(\n           ^^^^^^^^^^^^^^^^^^^^^^^\n  File \"C:\\Users\\302sy\\anaconda3\\envs\\StockSnapAI\\Lib\\site-packages\\langchain_core\\runnables\\base.py\", line 1938, in _call_with_config\n    context.run(\n  File \"C:\\Users\\302sy\\anaconda3\\envs\\StockSnapAI\\Lib\\site-packages\\langchain_core\\runnables\\config.py\", line 429, in call_func_with_variable_args\n    return func(input, **kwargs)  # type: ignore[call-arg]\n           ^^^^^^^^^^^^^^^^^^^^^\n  File \"C:\\Users\\302sy\\anaconda3\\envs\\StockSnapAI\\Lib\\site-packages\\langchain_core\\runnables\\base.py\", line 4650, in _invoke\n    output = output.invoke(\n             ^^^^^^^^^^^^^^\n  File \"C:\\Users\\302sy\\anaconda3\\envs\\StockSnapAI\\Lib\\site-packages\\langchain_core\\runnables\\base.py\", line 5441, in invoke\n    return self.bound.invoke(\n           ^^^^^^^^^^^^^^^^^^\n  File \"C:\\Users\\302sy\\anaconda3\\envs\\StockSnapAI\\Lib\\site-packages\\langchain_core\\runnables\\base.py\", line 3049, in invoke\n    input_ = context.run(step.invoke, input_, config)\n             ^^^^^^^^^^^^^^^^^^^^^^^^^^^^^^^^^^^^^^^^\n  File \"C:\\Users\\302sy\\anaconda3\\envs\\StockSnapAI\\Lib\\site-packages\\langchain_core\\runnables\\passthrough.py\", line 513, in invoke\n    return self._call_with_config(self._invoke, input, config, **kwargs)\n           ^^^^^^^^^^^^^^^^^^^^^^^^^^^^^^^^^^^^^^^^^^^^^^^^^^^^^^^^^^^^^\n  File \"C:\\Users\\302sy\\anaconda3\\envs\\StockSnapAI\\Lib\\site-packages\\langchain_core\\runnables\\base.py\", line 1938, in _call_with_config\n    context.run(\n  File \"C:\\Users\\302sy\\anaconda3\\envs\\StockSnapAI\\Lib\\site-packages\\langchain_core\\runnables\\config.py\", line 429, in call_func_with_variable_args\n    return func(input, **kwargs)  # type: ignore[call-arg]\n           ^^^^^^^^^^^^^^^^^^^^^\n  File \"C:\\Users\\302sy\\anaconda3\\envs\\StockSnapAI\\Lib\\site-packages\\langchain_core\\runnables\\passthrough.py\", line 499, in _invoke\n    **self.mapper.invoke(\n      ^^^^^^^^^^^^^^^^^^^\n  File \"C:\\Users\\302sy\\anaconda3\\envs\\StockSnapAI\\Lib\\site-packages\\langchain_core\\runnables\\base.py\", line 3777, in invoke\n    output = {key: future.result() for key, future in zip(steps, futures)}\n                   ^^^^^^^^^^^^^^^\n  File \"C:\\Users\\302sy\\anaconda3\\envs\\StockSnapAI\\Lib\\concurrent\\futures\\_base.py\", line 456, in result\n    return self.__get_result()\n           ^^^^^^^^^^^^^^^^^^^\n  File \"C:\\Users\\302sy\\anaconda3\\envs\\StockSnapAI\\Lib\\concurrent\\futures\\_base.py\", line 401, in __get_result\n    raise self._exception\n  File \"C:\\Users\\302sy\\anaconda3\\envs\\StockSnapAI\\Lib\\concurrent\\futures\\thread.py\", line 59, in run\n    result = self.fn(*self.args, **self.kwargs)\n             ^^^^^^^^^^^^^^^^^^^^^^^^^^^^^^^^^^\n  File \"C:\\Users\\302sy\\anaconda3\\envs\\StockSnapAI\\Lib\\site-packages\\langchain_core\\runnables\\base.py\", line 3761, in _invoke_step\n    return context.run(\n           ^^^^^^^^^^^^\n  File \"C:\\Users\\302sy\\anaconda3\\envs\\StockSnapAI\\Lib\\site-packages\\langchain_core\\runnables\\base.py\", line 5441, in invoke\n    return self.bound.invoke(\n           ^^^^^^^^^^^^^^^^^^\n  File \"C:\\Users\\302sy\\anaconda3\\envs\\StockSnapAI\\Lib\\site-packages\\langchain_core\\runnables\\base.py\", line 3047, in invoke\n    input_ = context.run(step.invoke, input_, config, **kwargs)\n             ^^^^^^^^^^^^^^^^^^^^^^^^^^^^^^^^^^^^^^^^^^^^^^^^^^\n  File \"C:\\Users\\302sy\\anaconda3\\envs\\StockSnapAI\\Lib\\site-packages\\langchain_core\\runnables\\base.py\", line 5441, in invoke\n    return self.bound.invoke(\n           ^^^^^^^^^^^^^^^^^^\n  File \"C:\\Users\\302sy\\anaconda3\\envs\\StockSnapAI\\Lib\\site-packages\\langchain_core\\runnables\\passthrough.py\", line 513, in invoke\n    return self._call_with_config(self._invoke, input, config, **kwargs)\n           ^^^^^^^^^^^^^^^^^^^^^^^^^^^^^^^^^^^^^^^^^^^^^^^^^^^^^^^^^^^^^\n  File \"C:\\Users\\302sy\\anaconda3\\envs\\StockSnapAI\\Lib\\site-packages\\langchain_core\\runnables\\base.py\", line 1938, in _call_with_config\n    context.run(\n  File \"C:\\Users\\302sy\\anaconda3\\envs\\StockSnapAI\\Lib\\site-packages\\langchain_core\\runnables\\config.py\", line 429, in call_func_with_variable_args\n    return func(input, **kwargs)  # type: ignore[call-arg]\n           ^^^^^^^^^^^^^^^^^^^^^\n  File \"C:\\Users\\302sy\\anaconda3\\envs\\StockSnapAI\\Lib\\site-packages\\langchain_core\\runnables\\passthrough.py\", line 499, in _invoke\n    **self.mapper.invoke(\n      ^^^^^^^^^^^^^^^^^^^\n  File \"C:\\Users\\302sy\\anaconda3\\envs\\StockSnapAI\\Lib\\site-packages\\langchain_core\\runnables\\base.py\", line 3777, in invoke\n    output = {key: future.result() for key, future in zip(steps, futures)}\n                   ^^^^^^^^^^^^^^^\n  File \"C:\\Users\\302sy\\anaconda3\\envs\\StockSnapAI\\Lib\\concurrent\\futures\\_base.py\", line 456, in result\n    return self.__get_result()\n           ^^^^^^^^^^^^^^^^^^^\n  File \"C:\\Users\\302sy\\anaconda3\\envs\\StockSnapAI\\Lib\\concurrent\\futures\\_base.py\", line 401, in __get_result\n    raise self._exception\n  File \"C:\\Users\\302sy\\anaconda3\\envs\\StockSnapAI\\Lib\\concurrent\\futures\\thread.py\", line 59, in run\n    result = self.fn(*self.args, **self.kwargs)\n             ^^^^^^^^^^^^^^^^^^^^^^^^^^^^^^^^^^\n  File \"C:\\Users\\302sy\\anaconda3\\envs\\StockSnapAI\\Lib\\site-packages\\langchain_core\\runnables\\base.py\", line 3761, in _invoke_step\n    return context.run(\n           ^^^^^^^^^^^^\n  File \"C:\\Users\\302sy\\anaconda3\\envs\\StockSnapAI\\Lib\\site-packages\\langchain_core\\runnables\\base.py\", line 4781, in invoke\n    return self._call_with_config(\n           ^^^^^^^^^^^^^^^^^^^^^^^\n  File \"C:\\Users\\302sy\\anaconda3\\envs\\StockSnapAI\\Lib\\site-packages\\langchain_core\\runnables\\base.py\", line 1938, in _call_with_config\n    context.run(\n  File \"C:\\Users\\302sy\\anaconda3\\envs\\StockSnapAI\\Lib\\site-packages\\langchain_core\\runnables\\config.py\", line 429, in call_func_with_variable_args\n    return func(input, **kwargs)  # type: ignore[call-arg]\n           ^^^^^^^^^^^^^^^^^^^^^\n  File \"C:\\Users\\302sy\\anaconda3\\envs\\StockSnapAI\\Lib\\site-packages\\langchain_core\\runnables\\base.py\", line 4639, in _invoke\n    output = call_func_with_variable_args(\n             ^^^^^^^^^^^^^^^^^^^^^^^^^^^^^\n  File \"C:\\Users\\302sy\\anaconda3\\envs\\StockSnapAI\\Lib\\site-packages\\langchain_core\\runnables\\config.py\", line 429, in call_func_with_variable_args\n    return func(input, **kwargs)  # type: ignore[call-arg]\n           ^^^^^^^^^^^^^^^^^^^^^\n  File \"C:\\Users\\302sy\\anaconda3\\envs\\StockSnapAI\\Lib\\site-packages\\langchain\\chains\\combine_documents\\stuff.py\", line 86, in format_docs\n    for doc in inputs[document_variable_name]\n               ~~~~~~^^^^^^^^^^^^^^^^^^^^^^^^\nKeyError: 'documents'\n        \n        "
     ]
    }
   ],
   "execution_count": 6
  },
  {
   "metadata": {},
   "cell_type": "code",
   "outputs": [],
   "execution_count": null,
   "source": "",
   "id": "8aedf6838d3833bb"
  }
 ],
 "metadata": {
  "kernelspec": {
   "name": "python3",
   "language": "python",
   "display_name": "Python 3 (ipykernel)"
  }
 },
 "nbformat": 4,
 "nbformat_minor": 5
}
