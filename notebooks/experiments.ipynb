{
 "cells": [
  {
   "metadata": {},
   "cell_type": "code",
   "source": [
    "from dotenv import load_dotenv\n",
    "load_dotenv()"
   ],
   "id": "8d7690926521ffc",
   "outputs": [],
   "execution_count": null
  },
  {
   "metadata": {},
   "cell_type": "code",
   "source": [
    "from langchain_openai.chat_models import ChatOpenAI\n",
    "llm= ChatOpenAI(model= \"gpt-4o\")"
   ],
   "id": "d697036c254fce6",
   "outputs": [],
   "execution_count": null
  },
  {
   "metadata": {},
   "cell_type": "code",
   "source": "llm.invoke(\"Hey\").content",
   "id": "768a2c29f0e0808c",
   "outputs": [],
   "execution_count": null
  },
  {
   "metadata": {},
   "cell_type": "markdown",
   "source": "## Testing chat module",
   "id": "90685f22099c9500"
  },
  {
   "metadata": {
    "ExecuteTime": {
     "end_time": "2025-08-14T15:08:25.957090Z",
     "start_time": "2025-08-14T15:08:25.952334Z"
    }
   },
   "cell_type": "code",
   "source": [
    "docs= [\n",
    "        \"C:\\\\Users\\\\302sy\\\\Desktop\\\\Generative AI\\\\StockSnapAI\\\\data\\\\AI-Driven Market Rally August 2025.txt\",\n",
    "        \"C:\\\\Users\\\\302sy\\\\Desktop\\\\Generative AI\\\\StockSnapAI\\\\data\\\\Stock Market Overview August 2025.txt\",\n",
    "        \"C:\\\\Users\\\\302sy\\\\Desktop\\\\Generative AI\\\\StockSnapAI\\\\data\\\\Tariff Impacts on Markets August 20.txt\"\n",
    "    ]"
   ],
   "id": "d67c469661068e99",
   "outputs": [],
   "execution_count": 1
  },
  {
   "metadata": {
    "ExecuteTime": {
     "end_time": "2025-08-14T15:08:28.608106Z",
     "start_time": "2025-08-14T15:08:25.963155Z"
    }
   },
   "cell_type": "code",
   "source": [
    "from src.news_summarizer.data_ingestion import NewsIngestor\n",
    "from src.news_summarizer.chat_module import ConversationalRAG"
   ],
   "id": "94836c745df502d0",
   "outputs": [],
   "execution_count": 2
  },
  {
   "metadata": {
    "ExecuteTime": {
     "end_time": "2025-08-14T15:08:36.232308Z",
     "start_time": "2025-08-14T15:08:33.939301Z"
    }
   },
   "cell_type": "code",
   "source": [
    "ingestor = NewsIngestor().ingest_files(docs)\n",
    "ingestor"
   ],
   "id": "ccce91eccb7a2504",
   "outputs": [
    {
     "name": "stderr",
     "output_type": "stream",
     "text": [
      "{\"temp_base\": \"data\\\\new_ingestor\", \"faiss_dir\": \"faiss_index\", \"timestamp\": \"2025-08-14T15:08:33.947312Z\", \"level\": \"info\", \"event\": \"Document Ingestion initiated\"}\n",
      "{\"filename\": \"C:\\\\Users\\\\302sy\\\\Desktop\\\\Generative AI\\\\StockSnapAI\\\\data\\\\AI-Driven Market Rally August 2025.txt\", \"saved_as\": \"data\\\\new_ingestor\\\\73466950.txt\", \"timestamp\": \"2025-08-14T15:08:33.950268Z\", \"level\": \"info\", \"event\": \"File saved for ingestion\"}\n",
      "{\"filename\": \"C:\\\\Users\\\\302sy\\\\Desktop\\\\Generative AI\\\\StockSnapAI\\\\data\\\\Stock Market Overview August 2025.txt\", \"saved_as\": \"data\\\\new_ingestor\\\\f24889df.txt\", \"timestamp\": \"2025-08-14T15:08:33.953509Z\", \"level\": \"info\", \"event\": \"File saved for ingestion\"}\n",
      "{\"filename\": \"C:\\\\Users\\\\302sy\\\\Desktop\\\\Generative AI\\\\StockSnapAI\\\\data\\\\Tariff Impacts on Markets August 20.txt\", \"saved_as\": \"data\\\\new_ingestor\\\\d56a9c78.txt\", \"timestamp\": \"2025-08-14T15:08:33.955495Z\", \"level\": \"info\", \"event\": \"File saved for ingestion\"}\n",
      "{\"timestamp\": \"2025-08-14T15:08:33.956496Z\", \"level\": \"info\", \"event\": \"Paragraph has been loaded\"}\n",
      "{\"total_chunks\": 3, \"timestamp\": \"2025-08-14T15:08:33.958497Z\", \"level\": \"info\", \"event\": \"Documents split into chunks\"}\n",
      "{\"path\": \"faiss_index\", \"timestamp\": \"2025-08-14T15:08:36.225754Z\", \"level\": \"info\", \"event\": \"FAISS index saved to disk\"}\n",
      "{\"timestamp\": \"2025-08-14T15:08:36.228370Z\", \"level\": \"info\", \"event\": \"Retriever has been created and ready to use\"}\n"
     ]
    },
    {
     "data": {
      "text/plain": [
       "VectorStoreRetriever(tags=['FAISS', 'GoogleGenerativeAIEmbeddings'], vectorstore=<langchain_community.vectorstores.faiss.FAISS object at 0x000001D88E09A450>, search_kwargs={'k': 5})"
      ]
     },
     "execution_count": 5,
     "metadata": {},
     "output_type": "execute_result"
    }
   ],
   "execution_count": 5
  },
  {
   "metadata": {
    "ExecuteTime": {
     "end_time": "2025-08-14T15:08:36.257673Z",
     "start_time": "2025-08-14T15:08:36.238777Z"
    }
   },
   "cell_type": "code",
   "source": [
    "print(\"initiated RAG chatbot\")\n",
    "chat= ConversationalRAG(retriever=ingestor, session_id=\"resting1234\")\n",
    "chat"
   ],
   "id": "3d70a414829e9e7c",
   "outputs": [
    {
     "name": "stdout",
     "output_type": "stream",
     "text": [
      "initiated RAG chatbot\n"
     ]
    },
    {
     "name": "stderr",
     "output_type": "stream",
     "text": [
      "{\"class_name\": \"ChatGoogleGenerativeAI\", \"timestamp\": \"2025-08-14T15:08:36.250464Z\", \"level\": \"info\", \"event\": \"Loaded LLM successfully\"}\n",
      "{\"session_id\": \"resting1234\", \"timestamp\": \"2025-08-14T15:08:36.252733Z\", \"level\": \"info\", \"event\": \"Chain has been built successfully\"}\n",
      "{\"session_id\": \"resting1234\", \"timestamp\": \"2025-08-14T15:08:36.253741Z\", \"level\": \"info\", \"event\": \"Conversational RAG initialized\"}\n"
     ]
    },
    {
     "data": {
      "text/plain": [
       "<src.news_summarizer.chat_module.ConversationalRAG at 0x1d88e3476e0>"
      ]
     },
     "execution_count": 6,
     "metadata": {},
     "output_type": "execute_result"
    }
   ],
   "execution_count": 6
  },
  {
   "metadata": {
    "ExecuteTime": {
     "end_time": "2025-08-14T15:08:41.024661Z",
     "start_time": "2025-08-14T15:08:36.274587Z"
    }
   },
   "cell_type": "code",
   "source": "chat.invoke(\"Hey, summarize news for me\")",
   "id": "86b4b9b6acbc9458",
   "outputs": [
    {
     "name": "stderr",
     "output_type": "stream",
     "text": [
      "{\"session_id\": \"resting1234\", \"user_input\": \"Hey, summarize news for me\", \"answer_preview\": \"In August 2025, the U.S. stock market is experiencing mixed performance amid cautious investor senti\", \"timestamp\": \"2025-08-14T15:08:41.021179Z\", \"level\": \"info\", \"event\": \"Chain invoke successfully\"}\n"
     ]
    },
    {
     "data": {
      "text/plain": [
       "'In August 2025, the U.S. stock market is experiencing mixed performance amid cautious investor sentiment. The Nasdaq is benefiting from tech sector strength, particularly in AI, while the Dow Jones has seen a 1.4% dip. Proposed tariffs are raising concerns about inflation and trade disruptions, potentially increasing factory costs by 4.5%. Investors are closely monitoring Federal Reserve rate decisions and global trade dynamics.\\n\\nDisclaimer: The above is for informational purposes only. News may be favorable, but trades are at your own risk.'"
      ]
     },
     "execution_count": 7,
     "metadata": {},
     "output_type": "execute_result"
    }
   ],
   "execution_count": 7
  },
  {
   "metadata": {
    "ExecuteTime": {
     "end_time": "2025-08-14T15:08:58.457895Z",
     "start_time": "2025-08-14T15:08:54.684701Z"
    }
   },
   "cell_type": "code",
   "source": "chat.invoke(\"Any thing about tesla\")",
   "id": "8aedf6838d3833bb",
   "outputs": [
    {
     "name": "stderr",
     "output_type": "stream",
     "text": [
      "{\"session_id\": \"resting1234\", \"user_input\": \"Any thing about tesla\", \"answer_preview\": \"I'm sorry, but based on the provided context, there is no specific information available about Tesla\", \"timestamp\": \"2025-08-14T15:08:58.451049Z\", \"level\": \"info\", \"event\": \"Chain invoke successfully\"}\n"
     ]
    },
    {
     "data": {
      "text/plain": [
       "\"I'm sorry, but based on the provided context, there is no specific information available about Tesla (TSLA). Therefore, I cannot provide any insights on how the current market conditions or proposed tariffs might affect the stock.\\n\\nDisclaimer: The above is for informational purposes only. News may be favorable, but trades are at your own risk.\""
      ]
     },
     "execution_count": 8,
     "metadata": {},
     "output_type": "execute_result"
    }
   ],
   "execution_count": 8
  },
  {
   "metadata": {
    "ExecuteTime": {
     "end_time": "2025-08-14T15:09:11.225052Z",
     "start_time": "2025-08-14T15:09:07.991988Z"
    }
   },
   "cell_type": "code",
   "source": "chat.invoke(\"test memory\")",
   "id": "ee3714cbfb3159d1",
   "outputs": [
    {
     "name": "stderr",
     "output_type": "stream",
     "text": [
      "{\"session_id\": \"resting1234\", \"user_input\": \"test memory\", \"answer_preview\": \"The S&P 500 has remained relatively stable, with minimal daily movements exceeding 1%, while the Nas\", \"timestamp\": \"2025-08-14T15:09:11.220782Z\", \"level\": \"info\", \"event\": \"Chain invoke successfully\"}\n"
     ]
    },
    {
     "data": {
      "text/plain": [
       "'The S&P 500 has remained relatively stable, with minimal daily movements exceeding 1%, while the Nasdaq 100 has shown resilience, driven by AI optimism and a potential $500 billion valuation for OpenAI. The Dow Jones fell 1.4% in response to proposed tariffs.\\n\\nDisclaimer: The above is for informational purposes only. News may be favorable, but trades are at your own risk.'"
      ]
     },
     "execution_count": 9,
     "metadata": {},
     "output_type": "execute_result"
    }
   ],
   "execution_count": 9
  },
  {
   "metadata": {
    "ExecuteTime": {
     "end_time": "2025-08-14T15:09:20.074200Z",
     "start_time": "2025-08-14T15:09:17.772876Z"
    }
   },
   "cell_type": "code",
   "source": "chat.invoke(\"What things did i asked you till now\")",
   "id": "229a873dbfd85055",
   "outputs": [
    {
     "name": "stderr",
     "output_type": "stream",
     "text": [
      "{\"session_id\": \"resting1234\", \"user_input\": \"What things did i asked you till now\", \"answer_preview\": \"I have no memory of past conversations. I can only use the information provided in the current conte\", \"timestamp\": \"2025-08-14T15:09:20.068185Z\", \"level\": \"info\", \"event\": \"Chain invoke successfully\"}\n"
     ]
    },
    {
     "data": {
      "text/plain": [
       "'I have no memory of past conversations. I can only use the information provided in the current context.'"
      ]
     },
     "execution_count": 10,
     "metadata": {},
     "output_type": "execute_result"
    }
   ],
   "execution_count": 10
  },
  {
   "metadata": {},
   "cell_type": "code",
   "source": "",
   "id": "37afb9109bf1445a",
   "outputs": [],
   "execution_count": null
  }
 ],
 "metadata": {
  "kernelspec": {
   "name": "python3",
   "language": "python",
   "display_name": "Python 3 (ipykernel)"
  }
 },
 "nbformat": 4,
 "nbformat_minor": 5
}
