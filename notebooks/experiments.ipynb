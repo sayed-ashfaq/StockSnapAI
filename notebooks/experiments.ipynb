{
 "cells": [
  {
   "metadata": {
    "ExecuteTime": {
     "end_time": "2025-08-10T11:48:48.695198Z",
     "start_time": "2025-08-10T11:48:48.577046Z"
    }
   },
   "cell_type": "code",
   "source": [
    "from dotenv import load_dotenv\n",
    "load_dotenv()"
   ],
   "id": "a7304d3ebb914899",
   "outputs": [
    {
     "data": {
      "text/plain": [
       "True"
      ]
     },
     "execution_count": 9,
     "metadata": {},
     "output_type": "execute_result"
    }
   ],
   "execution_count": 9
  },
  {
   "metadata": {
    "ExecuteTime": {
     "end_time": "2025-08-10T11:48:55.515049Z",
     "start_time": "2025-08-10T11:48:54.387527Z"
    }
   },
   "cell_type": "code",
   "source": [
    "from langchain_openai.chat_models import ChatOpenAI\n",
    "llm= ChatOpenAI(model= \"gpt-4o\")\n"
   ],
   "id": "ded5a9f040ad812",
   "outputs": [],
   "execution_count": 11
  },
  {
   "metadata": {
    "ExecuteTime": {
     "end_time": "2025-08-10T11:49:04.808767Z",
     "start_time": "2025-08-10T11:49:02.521044Z"
    }
   },
   "cell_type": "code",
   "source": "llm.invoke('test')",
   "id": "cdd6cea0893c7aec",
   "outputs": [
    {
     "data": {
      "text/plain": [
       "AIMessage(content=\"Sure, let me know what you would like to test or if there's anything specific you need help with!\", additional_kwargs={'refusal': None}, response_metadata={'token_usage': {'completion_tokens': 21, 'prompt_tokens': 8, 'total_tokens': 29, 'completion_tokens_details': {'accepted_prediction_tokens': 0, 'audio_tokens': 0, 'reasoning_tokens': 0, 'rejected_prediction_tokens': 0}, 'prompt_tokens_details': {'audio_tokens': 0, 'cached_tokens': 0}}, 'model_name': 'gpt-4o-2024-08-06', 'system_fingerprint': 'fp_ff25b2783a', 'id': 'chatcmpl-C2yprPVe1E1eegPGxjzF6JrRMxg9m', 'service_tier': 'default', 'finish_reason': 'stop', 'logprobs': None}, id='run--500f939c-23ee-4ab5-be77-169fe553dc18-0', usage_metadata={'input_tokens': 8, 'output_tokens': 21, 'total_tokens': 29, 'input_token_details': {'audio': 0, 'cache_read': 0}, 'output_token_details': {'audio': 0, 'reasoning': 0}})"
      ]
     },
     "execution_count": 12,
     "metadata": {},
     "output_type": "execute_result"
    }
   ],
   "execution_count": 12
  },
  {
   "metadata": {
    "ExecuteTime": {
     "end_time": "2025-08-10T12:10:31.801010Z",
     "start_time": "2025-08-10T12:10:31.264632Z"
    }
   },
   "cell_type": "code",
   "source": [
    "from utils.config_loader import load_config\n",
    "\n",
    "load_config()"
   ],
   "id": "da2309eb4ff79dbf",
   "outputs": [
    {
     "name": "stderr",
     "output_type": "stream",
     "text": [
      "C:\\Users\\302sy\\Desktop\\Generative AI\\StockSnapAI\\utils\\config_loader.py:4: SyntaxWarning: invalid escape sequence '\\c'\n",
      "  def load_config(config_path: str = \"config\\config.yaml\") -> dict:\n",
      "C:\\Users\\302sy\\Desktop\\Generative AI\\StockSnapAI\\utils\\config_loader.py:4: SyntaxWarning: invalid escape sequence '\\c'\n",
      "  def load_config(config_path: str = \"config\\config.yaml\") -> dict:\n"
     ]
    },
    {
     "ename": "FileNotFoundError",
     "evalue": "[Errno 2] No such file or directory: 'config\\\\config.yaml'",
     "output_type": "error",
     "traceback": [
      "\u001B[31m---------------------------------------------------------------------------\u001B[39m",
      "\u001B[31mFileNotFoundError\u001B[39m                         Traceback (most recent call last)",
      "\u001B[36mCell\u001B[39m\u001B[36m \u001B[39m\u001B[32mIn[13]\u001B[39m\u001B[32m, line 3\u001B[39m\n\u001B[32m      1\u001B[39m \u001B[38;5;28;01mfrom\u001B[39;00m\u001B[38;5;250m \u001B[39m\u001B[34;01mutils\u001B[39;00m\u001B[34;01m.\u001B[39;00m\u001B[34;01mconfig_loader\u001B[39;00m\u001B[38;5;250m \u001B[39m\u001B[38;5;28;01mimport\u001B[39;00m load_config\n\u001B[32m----> \u001B[39m\u001B[32m3\u001B[39m load_config()\n",
      "\u001B[36mFile \u001B[39m\u001B[32m~\\Desktop\\Generative AI\\StockSnapAI\\utils\\config_loader.py:5\u001B[39m, in \u001B[36mload_config\u001B[39m\u001B[34m(config_path)\u001B[39m\n\u001B[32m      4\u001B[39m \u001B[38;5;28;01mdef\u001B[39;00m\u001B[38;5;250m \u001B[39m\u001B[34mload_config\u001B[39m(config_path: \u001B[38;5;28mstr\u001B[39m = \u001B[33m\"\u001B[39m\u001B[33mconfig\u001B[39m\u001B[33m\\\u001B[39m\u001B[33mconfig.yaml\u001B[39m\u001B[33m\"\u001B[39m) -> \u001B[38;5;28mdict\u001B[39m:\n\u001B[32m----> \u001B[39m\u001B[32m5\u001B[39m     \u001B[38;5;28;01mwith\u001B[39;00m \u001B[38;5;28mopen\u001B[39m(config_path, \u001B[33m\"\u001B[39m\u001B[33mr\u001B[39m\u001B[33m\"\u001B[39m) \u001B[38;5;28;01mas\u001B[39;00m file:\n\u001B[32m      6\u001B[39m         config=yaml.safe_load(file)\n\u001B[32m      7\u001B[39m     \u001B[38;5;28;01mreturn\u001B[39;00m config\n",
      "\u001B[31mFileNotFoundError\u001B[39m: [Errno 2] No such file or directory: 'config\\\\config.yaml'"
     ]
    }
   ],
   "execution_count": 13
  },
  {
   "metadata": {
    "ExecuteTime": {
     "end_time": "2025-08-10T12:33:32.116507Z",
     "start_time": "2025-08-10T12:33:32.095258Z"
    }
   },
   "cell_type": "code",
   "source": [
    "from utils.model_loader import ModelLoader\n",
    "from utils.config_loader import load_config"
   ],
   "id": "88b783072cb75881",
   "outputs": [],
   "execution_count": 22
  },
  {
   "metadata": {
    "ExecuteTime": {
     "end_time": "2025-08-10T12:34:56.126528Z",
     "start_time": "2025-08-10T12:34:56.047286Z"
    }
   },
   "cell_type": "code",
   "source": [
    "# extract news from ticker\n",
    "\n",
    "llm= ModelLoader()"
   ],
   "id": "64af0580e994c402",
   "outputs": [
    {
     "ename": "FileNotFoundError",
     "evalue": "[Errno 2] No such file or directory: 'config\\\\config.yaml'",
     "output_type": "error",
     "traceback": [
      "\u001B[31m---------------------------------------------------------------------------\u001B[39m",
      "\u001B[31mFileNotFoundError\u001B[39m                         Traceback (most recent call last)",
      "\u001B[36mCell\u001B[39m\u001B[36m \u001B[39m\u001B[32mIn[24]\u001B[39m\u001B[32m, line 3\u001B[39m\n\u001B[32m      1\u001B[39m \u001B[38;5;66;03m# extract news from ticker\u001B[39;00m\n\u001B[32m----> \u001B[39m\u001B[32m3\u001B[39m llm= ModelLoader()\n",
      "\u001B[36mFile \u001B[39m\u001B[32m~\\Desktop\\Generative AI\\StockSnapAI\\utils\\model_loader.py:20\u001B[39m, in \u001B[36mModelLoader.__init__\u001B[39m\u001B[34m(self)\u001B[39m\n\u001B[32m     18\u001B[39m load_dotenv()\n\u001B[32m     19\u001B[39m \u001B[38;5;28mself\u001B[39m._validate_env()\n\u001B[32m---> \u001B[39m\u001B[32m20\u001B[39m \u001B[38;5;28mself\u001B[39m.config = load_config()\n",
      "\u001B[36mFile \u001B[39m\u001B[32m~\\Desktop\\Generative AI\\StockSnapAI\\utils\\config_loader.py:5\u001B[39m, in \u001B[36mload_config\u001B[39m\u001B[34m(config_path)\u001B[39m\n\u001B[32m      4\u001B[39m \u001B[38;5;28;01mdef\u001B[39;00m\u001B[38;5;250m \u001B[39m\u001B[34mload_config\u001B[39m(config_path: \u001B[38;5;28mstr\u001B[39m = \u001B[33m\"\u001B[39m\u001B[33mconfig\u001B[39m\u001B[33m\\\u001B[39m\u001B[33mconfig.yaml\u001B[39m\u001B[33m\"\u001B[39m) -> \u001B[38;5;28mdict\u001B[39m:\n\u001B[32m----> \u001B[39m\u001B[32m5\u001B[39m     \u001B[38;5;28;01mwith\u001B[39;00m \u001B[38;5;28mopen\u001B[39m(config_path, \u001B[33m\"\u001B[39m\u001B[33mr\u001B[39m\u001B[33m\"\u001B[39m) \u001B[38;5;28;01mas\u001B[39;00m file:\n\u001B[32m      6\u001B[39m         config=yaml.safe_load(file)\n\u001B[32m      7\u001B[39m     \u001B[38;5;28;01mreturn\u001B[39;00m config\n",
      "\u001B[31mFileNotFoundError\u001B[39m: [Errno 2] No such file or directory: 'config\\\\config.yaml'"
     ]
    }
   ],
   "execution_count": 24
  },
  {
   "metadata": {},
   "cell_type": "code",
   "outputs": [],
   "execution_count": null,
   "source": "",
   "id": "a551a7ba99e7d33e"
  }
 ],
 "metadata": {},
 "nbformat": 4,
 "nbformat_minor": 5
}
