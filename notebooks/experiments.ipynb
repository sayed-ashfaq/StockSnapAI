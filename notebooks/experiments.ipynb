{
 "cells": [
  {
   "metadata": {
    "ExecuteTime": {
     "end_time": "2025-08-10T12:42:56.395533Z",
     "start_time": "2025-08-10T12:42:56.306218Z"
    }
   },
   "cell_type": "code",
   "source": [
    "from dotenv import load_dotenv\n",
    "load_dotenv()"
   ],
   "id": "8d7690926521ffc",
   "outputs": [
    {
     "data": {
      "text/plain": [
       "True"
      ]
     },
     "execution_count": 25,
     "metadata": {},
     "output_type": "execute_result"
    }
   ],
   "execution_count": 25
  },
  {
   "metadata": {
    "ExecuteTime": {
     "end_time": "2025-08-10T12:43:38.169063Z",
     "start_time": "2025-08-10T12:43:38.086613Z"
    }
   },
   "cell_type": "code",
   "source": [
    "from langchain_openai.chat_models import ChatOpenAI\n",
    "llm= ChatOpenAI(model= \"gpt-4o\")"
   ],
   "id": "d697036c254fce6",
   "outputs": [],
   "execution_count": 26
  },
  {
   "metadata": {
    "ExecuteTime": {
     "end_time": "2025-08-10T12:43:51.899726Z",
     "start_time": "2025-08-10T12:43:50.183697Z"
    }
   },
   "cell_type": "code",
   "source": "llm.invoke(\"Hey\").content",
   "id": "768a2c29f0e0808c",
   "outputs": [
    {
     "data": {
      "text/plain": [
       "'Hello! How can I assist you today?'"
      ]
     },
     "execution_count": 27,
     "metadata": {},
     "output_type": "execute_result"
    }
   ],
   "execution_count": 27
  },
  {
   "metadata": {
    "ExecuteTime": {
     "end_time": "2025-08-10T12:57:32.049740Z",
     "start_time": "2025-08-10T12:57:31.975235Z"
    }
   },
   "cell_type": "code",
   "source": [
    "from utils.config_loader import load_config\n",
    "from utils.model_loader import ModelLoader"
   ],
   "id": "bed2ad33428060de",
   "outputs": [],
   "execution_count": 28
  },
  {
   "metadata": {
    "ExecuteTime": {
     "end_time": "2025-08-10T13:05:18.397009Z",
     "start_time": "2025-08-10T13:05:18.074148Z"
    }
   },
   "cell_type": "code",
   "source": "config= load_config()",
   "id": "670a9559ed49e6f9",
   "outputs": [
    {
     "ename": "FileNotFoundError",
     "evalue": "[Errno 2] No such file or directory: 'config\\\\config.yaml'",
     "output_type": "error",
     "traceback": [
      "\u001B[31m---------------------------------------------------------------------------\u001B[39m",
      "\u001B[31mFileNotFoundError\u001B[39m                         Traceback (most recent call last)",
      "\u001B[36mCell\u001B[39m\u001B[36m \u001B[39m\u001B[32mIn[34]\u001B[39m\u001B[32m, line 1\u001B[39m\n\u001B[32m----> \u001B[39m\u001B[32m1\u001B[39m config= load_config()\n",
      "\u001B[36mFile \u001B[39m\u001B[32m~\\Desktop\\Generative AI\\StockSnapAI\\utils\\config_loader.py:5\u001B[39m, in \u001B[36mload_config\u001B[39m\u001B[34m(config_path)\u001B[39m\n\u001B[32m      4\u001B[39m \u001B[38;5;28;01mdef\u001B[39;00m\u001B[38;5;250m \u001B[39m\u001B[34mload_config\u001B[39m(config_path: \u001B[38;5;28mstr\u001B[39m = \u001B[33m\"\u001B[39m\u001B[33mconfig\u001B[39m\u001B[33m\\\u001B[39m\u001B[33mconfig.yaml\u001B[39m\u001B[33m\"\u001B[39m) -> \u001B[38;5;28mdict\u001B[39m:\n\u001B[32m----> \u001B[39m\u001B[32m5\u001B[39m     \u001B[38;5;28;01mwith\u001B[39;00m \u001B[38;5;28mopen\u001B[39m(config_path, \u001B[33m\"\u001B[39m\u001B[33mr\u001B[39m\u001B[33m\"\u001B[39m) \u001B[38;5;28;01mas\u001B[39;00m file:\n\u001B[32m      6\u001B[39m         config=yaml.safe_load(file)\n\u001B[32m      7\u001B[39m     \u001B[38;5;28;01mreturn\u001B[39;00m config\n",
      "\u001B[31mFileNotFoundError\u001B[39m: [Errno 2] No such file or directory: 'config\\\\config.yaml'"
     ]
    }
   ],
   "execution_count": 34
  },
  {
   "metadata": {
    "ExecuteTime": {
     "end_time": "2025-08-10T13:05:18.485661400Z",
     "start_time": "2025-08-10T13:01:35.912963Z"
    }
   },
   "cell_type": "code",
   "source": "print(config)",
   "id": "9bc7985948a9d09a",
   "outputs": [
    {
     "name": "stdout",
     "output_type": "stream",
     "text": [
      "{'faiss_db': {'collection_name': 'StockSnapAI'}, 'embedding_model': {'provider': 'google', 'model_name': 'models/text-embedding-004'}, 'retriever': {'top_k': 10}, 'llm': {'groq': {'provider': 'groq', 'model_name': 'deepseek-r1-distill-llama-70b', 'temperature': 0, 'max_output_tokens': 2048}, 'google': {'provider': 'google', 'model_name': 'gemini-2.0-flash', 'temperature': 0, 'max_output_tokens': 2048}, 'openai': {'provider': 'openai', 'model_name': 'o4-mini', 'temperature': 0, 'max_output_tokens': 2048}}}\n"
     ]
    }
   ],
   "execution_count": 33
  },
  {
   "metadata": {},
   "cell_type": "code",
   "outputs": [],
   "execution_count": null,
   "source": "",
   "id": "aeea7fb7d8083f5e"
  }
 ],
 "metadata": {},
 "nbformat": 4,
 "nbformat_minor": 5
}
