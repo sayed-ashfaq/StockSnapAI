{
 "cells": [
  {
   "metadata": {
    "ExecuteTime": {
     "end_time": "2025-08-10T14:25:48.729731Z",
     "start_time": "2025-08-10T14:25:48.676528Z"
    }
   },
   "cell_type": "code",
   "source": [
    "from dotenv import load_dotenv\n",
    "load_dotenv()"
   ],
   "id": "8d7690926521ffc",
   "outputs": [
    {
     "data": {
      "text/plain": [
       "True"
      ]
     },
     "execution_count": 33,
     "metadata": {},
     "output_type": "execute_result"
    }
   ],
   "execution_count": 33
  },
  {
   "metadata": {
    "ExecuteTime": {
     "end_time": "2025-08-10T14:25:52.125880Z",
     "start_time": "2025-08-10T14:25:50.245581Z"
    }
   },
   "cell_type": "code",
   "source": [
    "from langchain_openai.chat_models import ChatOpenAI\n",
    "llm= ChatOpenAI(model= \"gpt-4o\")"
   ],
   "id": "d697036c254fce6",
   "outputs": [],
   "execution_count": 34
  },
  {
   "metadata": {
    "ExecuteTime": {
     "end_time": "2025-08-10T12:43:51.899726Z",
     "start_time": "2025-08-10T12:43:50.183697Z"
    }
   },
   "cell_type": "code",
   "source": "llm.invoke(\"Hey\").content",
   "id": "768a2c29f0e0808c",
   "outputs": [
    {
     "data": {
      "text/plain": [
       "'Hello! How can I assist you today?'"
      ]
     },
     "execution_count": 27,
     "metadata": {},
     "output_type": "execute_result"
    }
   ],
   "execution_count": 27
  },
  {
   "metadata": {},
   "cell_type": "markdown",
   "source": "## Testing model loader and config loader",
   "id": "90685f22099c9500"
  },
  {
   "metadata": {},
   "cell_type": "code",
   "outputs": [],
   "execution_count": null,
   "source": "",
   "id": "d67c469661068e99"
  }
 ],
 "metadata": {},
 "nbformat": 4,
 "nbformat_minor": 5
}
