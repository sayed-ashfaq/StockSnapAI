{
 "cells": [
  {
   "metadata": {
    "ExecuteTime": {
     "end_time": "2025-08-10T12:42:56.395533Z",
     "start_time": "2025-08-10T12:42:56.306218Z"
    }
   },
   "cell_type": "code",
   "source": [
    "from dotenv import load_dotenv\n",
    "load_dotenv()"
   ],
   "id": "8d7690926521ffc",
   "outputs": [
    {
     "data": {
      "text/plain": [
       "True"
      ]
     },
     "execution_count": 25,
     "metadata": {},
     "output_type": "execute_result"
    }
   ],
   "execution_count": 25
  },
  {
   "metadata": {
    "ExecuteTime": {
     "end_time": "2025-08-10T12:43:38.169063Z",
     "start_time": "2025-08-10T12:43:38.086613Z"
    }
   },
   "cell_type": "code",
   "source": [
    "from langchain_openai.chat_models import ChatOpenAI\n",
    "llm= ChatOpenAI(model= \"gpt-4o\")"
   ],
   "id": "d697036c254fce6",
   "outputs": [],
   "execution_count": 26
  },
  {
   "metadata": {
    "ExecuteTime": {
     "end_time": "2025-08-10T12:43:51.899726Z",
     "start_time": "2025-08-10T12:43:50.183697Z"
    }
   },
   "cell_type": "code",
   "source": "llm.invoke(\"Hey\").content",
   "id": "768a2c29f0e0808c",
   "outputs": [
    {
     "data": {
      "text/plain": [
       "'Hello! How can I assist you today?'"
      ]
     },
     "execution_count": 27,
     "metadata": {},
     "output_type": "execute_result"
    }
   ],
   "execution_count": 27
  },
  {
   "metadata": {
    "ExecuteTime": {
     "end_time": "2025-08-10T13:08:08.312925Z",
     "start_time": "2025-08-10T13:08:08.309598Z"
    }
   },
   "cell_type": "code",
   "source": [
    "from utilities.config_loader import load_config\n",
    "from utilities.model_loader import ModelLoader"
   ],
   "id": "bed2ad33428060de",
   "outputs": [],
   "execution_count": 42
  },
  {
   "metadata": {
    "ExecuteTime": {
     "end_time": "2025-08-10T13:08:12.664831Z",
     "start_time": "2025-08-10T13:08:12.631566Z"
    }
   },
   "cell_type": "code",
   "source": "config= load_config()",
   "id": "670a9559ed49e6f9",
   "outputs": [],
   "execution_count": 43
  },
  {
   "metadata": {
    "ExecuteTime": {
     "end_time": "2025-08-10T13:08:15.082195Z",
     "start_time": "2025-08-10T13:08:15.071813Z"
    }
   },
   "cell_type": "code",
   "source": "print(config)",
   "id": "9bc7985948a9d09a",
   "outputs": [
    {
     "name": "stdout",
     "output_type": "stream",
     "text": [
      "{'faiss_db': {'collection_name': 'StockSnapAI'}, 'embedding_model': {'provider': 'google', 'model_name': 'models/text-embedding-004'}, 'retriever': {'top_k': 10}, 'llm': {'groq': {'provider': 'groq', 'model_name': 'deepseek-r1-distill-llama-70b', 'temperature': 0, 'max_output_tokens': 2048}, 'google': {'provider': 'google', 'model_name': 'gemini-2.0-flash', 'temperature': 0, 'max_output_tokens': 2048}, 'openai': {'provider': 'openai', 'model_name': 'o4-mini', 'temperature': 0, 'max_output_tokens': 2048}}}\n"
     ]
    }
   ],
   "execution_count": 44
  },
  {
   "metadata": {},
   "cell_type": "code",
   "outputs": [],
   "execution_count": null,
   "source": "",
   "id": "aeea7fb7d8083f5e"
  }
 ],
 "metadata": {},
 "nbformat": 4,
 "nbformat_minor": 5
}
