{
 "cells": [
  {
   "cell_type": "code",
   "id": "initial_id",
   "metadata": {
    "collapsed": true,
    "ExecuteTime": {
     "end_time": "2025-08-14T07:17:02.460864Z",
     "start_time": "2025-08-14T07:17:02.447701Z"
    }
   },
   "source": "print(\"Hello World\")",
   "outputs": [
    {
     "name": "stdout",
     "output_type": "stream",
     "text": [
      "Hello World\n"
     ]
    }
   ],
   "execution_count": 1
  },
  {
   "metadata": {
    "ExecuteTime": {
     "end_time": "2025-08-14T07:50:35.864404Z",
     "start_time": "2025-08-14T07:50:35.855916Z"
    }
   },
   "cell_type": "code",
   "source": [
    "docs= [\n",
    "        \"C:\\\\Users\\\\302sy\\\\Desktop\\\\Generative AI\\\\StockSnapAI\\\\data\\\\AI-Driven Market Rally August 2025.txt\",\n",
    "        \"C:\\\\Users\\\\302sy\\\\Desktop\\\\Generative AI\\\\StockSnapAI\\\\data\\\\Stock Market Overview August 2025.txt\",\n",
    "        \"C:\\\\Users\\\\302sy\\\\Desktop\\\\Generative AI\\\\StockSnapAI\\\\data\\\\Tariff Impacts on Markets August 20.txt\"\n",
    "    ]"
   ],
   "id": "357c74db96e29312",
   "outputs": [],
   "execution_count": 36
  },
  {
   "metadata": {
    "ExecuteTime": {
     "end_time": "2025-08-14T07:24:09.684541Z",
     "start_time": "2025-08-14T07:24:09.672207Z"
    }
   },
   "cell_type": "code",
   "source": [
    "import uuid\n",
    "import os\n",
    "os.getcwd()"
   ],
   "id": "e389af969228398a",
   "outputs": [
    {
     "data": {
      "text/plain": [
       "'C:\\\\Users\\\\302sy\\\\Desktop\\\\Generative AI\\\\StockSnapAI\\\\notebooks'"
      ]
     },
     "execution_count": 10,
     "metadata": {},
     "output_type": "execute_result"
    }
   ],
   "execution_count": 10
  },
  {
   "metadata": {
    "ExecuteTime": {
     "end_time": "2025-08-14T07:25:24.735458Z",
     "start_time": "2025-08-14T07:25:24.726611Z"
    }
   },
   "cell_type": "code",
   "source": [
    "path= \"C:\\\\Users\\\\302sy\\\\Desktop\\\\Generative AI\\\\StockSnapAI\\\\notebooks\"\n",
    "uni= 'test.txt'\n",
    "os.path.join(path, uni)"
   ],
   "id": "dff25076c78f05ca",
   "outputs": [
    {
     "data": {
      "text/plain": [
       "'C:\\\\Users\\\\302sy\\\\Desktop\\\\Generative AI\\\\StockSnapAI\\\\notebooks\\\\test.txt'"
      ]
     },
     "execution_count": 12,
     "metadata": {},
     "output_type": "execute_result"
    }
   ],
   "execution_count": 12
  },
  {
   "metadata": {
    "ExecuteTime": {
     "end_time": "2025-08-14T07:50:44.957151Z",
     "start_time": "2025-08-14T07:50:44.938582Z"
    }
   },
   "cell_type": "code",
   "source": [
    "unique_para_name= f\"{uuid.uuid4().hex[:8]}.txt\"\n",
    "print(unique_para_name)"
   ],
   "id": "a18bbde60e51f896",
   "outputs": [
    {
     "name": "stdout",
     "output_type": "stream",
     "text": [
      "0b966d0f.txt\n"
     ]
    }
   ],
   "execution_count": 40
  },
  {
   "metadata": {
    "ExecuteTime": {
     "end_time": "2025-08-14T08:00:21.057967Z",
     "start_time": "2025-08-14T08:00:21.034046Z"
    }
   },
   "cell_type": "code",
   "source": [
    "path= \"C:\\\\Users\\\\302sy\\\\Desktop\\\\Generative AI\\\\StockSnapAI\\\\notebooks\"\n",
    "for doc in docs:\n",
    "    unique_name= f\"{uuid.uuid4().hex[:8]}.txt\"\n",
    "    temp_path= os.path.join(path, unique_name)\n",
    "    print(\"Old files form old path\")\n",
    "    print(\"-\"*50)\n",
    "    with open(doc) as f:\n",
    "        print(f.read())\n",
    "\n",
    "    with open(f\"{path}\\\\{unique_name}\", \"wb\") as f:\n",
    "        f.write(doc.encode('utf-8'))\n",
    "        print(\"Files saved\")\n",
    "    print(\"New files form new path\")\n",
    "    print(\"-\"*50)\n",
    "    with open(doc) as f:\n",
    "        print(f.read())\n",
    "\n"
   ],
   "id": "4295207753460873",
   "outputs": [
    {
     "name": "stdout",
     "output_type": "stream",
     "text": [
      "Old files form old path\n",
      "--------------------------------------------------\n",
      "\n",
      "Files saved\n",
      "New files form new path\n",
      "--------------------------------------------------\n",
      "\n",
      "Old files form old path\n",
      "--------------------------------------------------\n",
      "Stock Market Overview: August 2025\n",
      "\n",
      "Summary\n",
      "\n",
      "The U.S. stock market in August 2025 has been navigating a complex landscape shaped by macroeconomic factors and policy shifts. The S&P 500 has remained relatively stable, with minimal daily movements exceeding 1%, reflecting cautious investor sentiment amid expectations of Federal Reserve rate decisions. The Dow Jones Industrial Average experienced a slight dip, dropping 1.4% to one-month lows, while the Nasdaq 100 has shown resilience, driven by AI optimism and a potential $500 billion valuation for OpenAI. Investors are closely monitoring upcoming inflation data and the impact of proposed tariffs, which could increase costs by up to 4.5% for U.S. factories, according to recent analyses.\n",
      "\n",
      "Key Points\n",
      "\n",
      "\n",
      "\n",
      "\n",
      "\n",
      "Market Performance: The S&P 500 and Nasdaq have shown mixed performance, with the Nasdaq benefiting from tech sector strength, particularly in AI-related stocks.\n",
      "\n",
      "\n",
      "\n",
      "Policy Impact: President Trump's proposed tariffs on countries like South Korea and Brazil are raising concerns about inflation and trade disruptions.\n",
      "\n",
      "\n",
      "\n",
      "Investor Sentiment: A cautious approach prevails as investors await clarity on Federal Reserve rate policies and global trade dynamics.\n",
      "Files saved\n",
      "New files form new path\n",
      "--------------------------------------------------\n",
      "Stock Market Overview: August 2025\n",
      "\n",
      "Summary\n",
      "\n",
      "The U.S. stock market in August 2025 has been navigating a complex landscape shaped by macroeconomic factors and policy shifts. The S&P 500 has remained relatively stable, with minimal daily movements exceeding 1%, reflecting cautious investor sentiment amid expectations of Federal Reserve rate decisions. The Dow Jones Industrial Average experienced a slight dip, dropping 1.4% to one-month lows, while the Nasdaq 100 has shown resilience, driven by AI optimism and a potential $500 billion valuation for OpenAI. Investors are closely monitoring upcoming inflation data and the impact of proposed tariffs, which could increase costs by up to 4.5% for U.S. factories, according to recent analyses.\n",
      "\n",
      "Key Points\n",
      "\n",
      "\n",
      "\n",
      "\n",
      "\n",
      "Market Performance: The S&P 500 and Nasdaq have shown mixed performance, with the Nasdaq benefiting from tech sector strength, particularly in AI-related stocks.\n",
      "\n",
      "\n",
      "\n",
      "Policy Impact: President Trump's proposed tariffs on countries like South Korea and Brazil are raising concerns about inflation and trade disruptions.\n",
      "\n",
      "\n",
      "\n",
      "Investor Sentiment: A cautious approach prevails as investors await clarity on Federal Reserve rate policies and global trade dynamics.\n",
      "Old files form old path\n",
      "--------------------------------------------------\n",
      "Tariff Impacts on Markets: August 2025\n",
      "\n",
      "Summary\n",
      "\n",
      "Recent proposals for steep tariffs on dozens of countries, announced by President Trump, are reshaping the U.S. trade landscape and impacting stock markets. Markets are assessing the potential for increased costs, with estimates suggesting a 4.5% rise in factory costs due to tariffs. The Dow Jones fell 1.4% in response to these developments, while the S&P 500 has remained relatively flat. Investors are concerned about inflationary pressures and potential retaliatory trade measures, particularly affecting sectors like retail and manufacturing.\n",
      "\n",
      "Key Points\n",
      "\n",
      "\n",
      "\n",
      "\n",
      "\n",
      "Tariff Effects: Proposed tariffs could increase costs, squeezing margins for U.S. manufacturers and retailers.\n",
      "\n",
      "\n",
      "\n",
      "Market Reaction: The Dow Jones has seen sharper declines compared to the broader S&P 500, reflecting sector-specific vulnerabilities.\n",
      "\n",
      "\n",
      "\n",
      "Global Trade: Ongoing U.S.-China trade talks in Stockholm may provide clues on future market stability.\n",
      "Files saved\n",
      "New files form new path\n",
      "--------------------------------------------------\n",
      "Tariff Impacts on Markets: August 2025\n",
      "\n",
      "Summary\n",
      "\n",
      "Recent proposals for steep tariffs on dozens of countries, announced by President Trump, are reshaping the U.S. trade landscape and impacting stock markets. Markets are assessing the potential for increased costs, with estimates suggesting a 4.5% rise in factory costs due to tariffs. The Dow Jones fell 1.4% in response to these developments, while the S&P 500 has remained relatively flat. Investors are concerned about inflationary pressures and potential retaliatory trade measures, particularly affecting sectors like retail and manufacturing.\n",
      "\n",
      "Key Points\n",
      "\n",
      "\n",
      "\n",
      "\n",
      "\n",
      "Tariff Effects: Proposed tariffs could increase costs, squeezing margins for U.S. manufacturers and retailers.\n",
      "\n",
      "\n",
      "\n",
      "Market Reaction: The Dow Jones has seen sharper declines compared to the broader S&P 500, reflecting sector-specific vulnerabilities.\n",
      "\n",
      "\n",
      "\n",
      "Global Trade: Ongoing U.S.-China trade talks in Stockholm may provide clues on future market stability.\n"
     ]
    }
   ],
   "execution_count": 53
  },
  {
   "metadata": {
    "ExecuteTime": {
     "end_time": "2025-08-14T07:55:38.250715Z",
     "start_time": "2025-08-14T07:55:38.241160Z"
    }
   },
   "cell_type": "code",
   "source": [
    "for doc in docs:\n",
    "    with open(doc,\"x\") as f:\n",
    "        print(f.read())"
   ],
   "id": "4ef2574087b288e",
   "outputs": [
    {
     "name": "stdout",
     "output_type": "stream",
     "text": [
      "\n",
      "Stock Market Overview: August 2025\n",
      "\n",
      "Summary\n",
      "\n",
      "The U.S. stock market in August 2025 has been navigating a complex landscape shaped by macroeconomic factors and policy shifts. The S&P 500 has remained relatively stable, with minimal daily movements exceeding 1%, reflecting cautious investor sentiment amid expectations of Federal Reserve rate decisions. The Dow Jones Industrial Average experienced a slight dip, dropping 1.4% to one-month lows, while the Nasdaq 100 has shown resilience, driven by AI optimism and a potential $500 billion valuation for OpenAI. Investors are closely monitoring upcoming inflation data and the impact of proposed tariffs, which could increase costs by up to 4.5% for U.S. factories, according to recent analyses.\n",
      "\n",
      "Key Points\n",
      "\n",
      "\n",
      "\n",
      "\n",
      "\n",
      "Market Performance: The S&P 500 and Nasdaq have shown mixed performance, with the Nasdaq benefiting from tech sector strength, particularly in AI-related stocks.\n",
      "\n",
      "\n",
      "\n",
      "Policy Impact: President Trump's proposed tariffs on countries like South Korea and Brazil are raising concerns about inflation and trade disruptions.\n",
      "\n",
      "\n",
      "\n",
      "Investor Sentiment: A cautious approach prevails as investors await clarity on Federal Reserve rate policies and global trade dynamics.\n",
      "Tariff Impacts on Markets: August 2025\n",
      "\n",
      "Summary\n",
      "\n",
      "Recent proposals for steep tariffs on dozens of countries, announced by President Trump, are reshaping the U.S. trade landscape and impacting stock markets. Markets are assessing the potential for increased costs, with estimates suggesting a 4.5% rise in factory costs due to tariffs. The Dow Jones fell 1.4% in response to these developments, while the S&P 500 has remained relatively flat. Investors are concerned about inflationary pressures and potential retaliatory trade measures, particularly affecting sectors like retail and manufacturing.\n",
      "\n",
      "Key Points\n",
      "\n",
      "\n",
      "\n",
      "\n",
      "\n",
      "Tariff Effects: Proposed tariffs could increase costs, squeezing margins for U.S. manufacturers and retailers.\n",
      "\n",
      "\n",
      "\n",
      "Market Reaction: The Dow Jones has seen sharper declines compared to the broader S&P 500, reflecting sector-specific vulnerabilities.\n",
      "\n",
      "\n",
      "\n",
      "Global Trade: Ongoing U.S.-China trade talks in Stockholm may provide clues on future market stability.\n"
     ]
    }
   ],
   "execution_count": 47
  },
  {
   "metadata": {
    "ExecuteTime": {
     "end_time": "2025-08-14T07:35:50.738462Z",
     "start_time": "2025-08-14T07:35:50.727665Z"
    }
   },
   "cell_type": "code",
   "source": [
    "file= \"C:\\\\Users\\\\302sy\\\\Desktop\\\\Generative AI\\\\StockSnapAI\\\\data\\\\AI-Driven Market Rally August 2025.txt\"\n",
    "with open(file, 'a') as f:\n",
    "    f.write(\"Now the file has more content\")"
   ],
   "id": "5c5d4352e3439d4f",
   "outputs": [],
   "execution_count": 21
  },
  {
   "metadata": {
    "ExecuteTime": {
     "end_time": "2025-08-14T07:36:19.127118Z",
     "start_time": "2025-08-14T07:36:19.111822Z"
    }
   },
   "cell_type": "code",
   "source": [
    "with open(file) as f:\n",
    "    print(f.read())"
   ],
   "id": "52915a2a3be21a0f",
   "outputs": [
    {
     "name": "stdout",
     "output_type": "stream",
     "text": [
      "AI-Driven Market Rally: August 2025\n",
      "Summary\n",
      "AI optimism continues to fuel a risk-on sentiment in U.S. equity markets, particularly boosting the Nasdaq 100. Reports suggest a potential $500 billion valuation for OpenAI, which has spurred gains in AI-related stocks. The Nasdaq 100 is eyeing a new all-time high, supported by momentum indicators and a flattening U.S. Treasury yield curve. Technical analysis indicates a bullish breakout with key support at 22,945 and targets at 23,820 and 24,220. However, a break below 22,945 could signal a correction toward 22,670.\n",
      "Key Points\n",
      "\n",
      "Nasdaq 100 Performance: The index is riding a wave of AI enthusiasm, with strong technical indicators supporting further gains.\n",
      "Valuation Surge: OpenAIâ€™s potential valuation is driving investor interest in AI stocks, reinforcing tech sector dominance.\n",
      "Risk Factors: A failure to hold key support levels could lead to a deeper market correction.\n",
      "Now the file has more content\n"
     ]
    }
   ],
   "execution_count": 23
  },
  {
   "metadata": {
    "ExecuteTime": {
     "end_time": "2025-08-14T07:38:32.132960Z",
     "start_time": "2025-08-14T07:38:32.125466Z"
    }
   },
   "cell_type": "code",
   "source": [
    "with open(f\"{path}\", 'w') as f:\n",
    "    f.write(\"Now the file has more content\")\n",
    "\n",
    "with open(\"newfile.txt\") as f:\n",
    "    print(f.read())"
   ],
   "id": "b852ba91637fd014",
   "outputs": [
    {
     "name": "stdout",
     "output_type": "stream",
     "text": [
      "Now the file has more content\n"
     ]
    }
   ],
   "execution_count": 26
  },
  {
   "metadata": {
    "ExecuteTime": {
     "end_time": "2025-08-14T07:40:53.398399Z",
     "start_time": "2025-08-14T07:40:53.388544Z"
    }
   },
   "cell_type": "code",
   "source": [
    "path= \"C:\\\\Users\\\\302sy\\\\Desktop\\\\Generative AI\\\\StockSnapAI\\\\data\"\n",
    "with open(f\"{path}\\\\nes.txt\", 'w') as f:\n",
    "    f.write(\"Now the file has more content\")\n",
    "\n",
    "with open(\"newfile.txt\") as f:\n",
    "    print(f.read())"
   ],
   "id": "7adee29b736de077",
   "outputs": [
    {
     "name": "stdout",
     "output_type": "stream",
     "text": [
      "Now the file has more content\n"
     ]
    }
   ],
   "execution_count": 28
  }
 ],
 "metadata": {
  "kernelspec": {
   "display_name": "Python 3",
   "language": "python",
   "name": "python3"
  },
  "language_info": {
   "codemirror_mode": {
    "name": "ipython",
    "version": 2
   },
   "file_extension": ".py",
   "mimetype": "text/x-python",
   "name": "python",
   "nbconvert_exporter": "python",
   "pygments_lexer": "ipython2",
   "version": "2.7.6"
  }
 },
 "nbformat": 4,
 "nbformat_minor": 5
}
