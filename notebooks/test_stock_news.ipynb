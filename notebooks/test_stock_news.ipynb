{
 "cells": [
  {
   "metadata": {
    "ExecuteTime": {
     "end_time": "2025-08-10T16:17:45.365766Z",
     "start_time": "2025-08-10T16:17:45.326950Z"
    }
   },
   "cell_type": "code",
   "source": [
    "from dotenv import load_dotenv\n",
    "load_dotenv()"
   ],
   "id": "2b649203001ab93f",
   "outputs": [
    {
     "data": {
      "text/plain": [
       "True"
      ]
     },
     "execution_count": 41,
     "metadata": {},
     "output_type": "execute_result"
    }
   ],
   "execution_count": 41
  },
  {
   "metadata": {
    "ExecuteTime": {
     "end_time": "2025-08-10T17:16:09.311288Z",
     "start_time": "2025-08-10T17:16:09.289166Z"
    }
   },
   "cell_type": "code",
   "source": [
    "import requests\n",
    "import os\n",
    "NEWS_APIKEY = os.getenv(\"NEWS_API_KEY\")"
   ],
   "id": "3080354c3c7e65e5",
   "outputs": [],
   "execution_count": 137
  },
  {
   "metadata": {
    "ExecuteTime": {
     "end_time": "2025-08-10T17:16:11.149085Z",
     "start_time": "2025-08-10T17:16:11.140524Z"
    }
   },
   "cell_type": "code",
   "source": "NEWS_ENDPOINT= \"https://newsapi.org/v2/top-headlines\"\n",
   "id": "1b913df0d0adea2d",
   "outputs": [],
   "execution_count": 138
  },
  {
   "metadata": {
    "ExecuteTime": {
     "end_time": "2025-08-10T17:16:48.390923Z",
     "start_time": "2025-08-10T17:16:46.777283Z"
    }
   },
   "cell_type": "code",
   "source": [
    "# Function to fetch top 3 news articles for the company\n",
    "def stock_news(cmpy='Tesla'):\n",
    "    news_params = {\n",
    "        \"apiKey\": NEWS_APIKEY,\n",
    "        \"q\": cmpy,\n",
    "        \"sortBy\": \"popularity\"\n",
    "    }\n",
    "    response = requests.get(NEWS_ENDPOINT, params=news_params)\n",
    "    response.raise_for_status()\n",
    "    news_data = response.json()\n",
    "    return news_data\n",
    "    # # Extract headlines and descriptions for top 3 articles\n",
    "    # top_headlines = []\n",
    "    # top_description = []\n",
    "    # for i in range(min(int(news_data['totalResults']), 3)):\n",
    "    #     headlines = news_data['articles'][i]['title']\n",
    "    #     description = news_data['articles'][i]['description']\n",
    "    #     top_headlines.append(headlines)\n",
    "    #     top_description.append(description)\n",
    "    #\n",
    "    # # Return news as a list of tuples\n",
    "    # return [(top_headlines[i], top_description[i]) for i in range(len(top_headlines))]\n",
    "\n",
    "news= stock_news('Tesla')"
   ],
   "id": "1b3c9f7341c57383",
   "outputs": [],
   "execution_count": 139
  },
  {
   "metadata": {
    "ExecuteTime": {
     "end_time": "2025-08-10T17:18:24.831699Z",
     "start_time": "2025-08-10T17:18:24.814681Z"
    }
   },
   "cell_type": "code",
   "source": "news.keys()",
   "id": "5ff14b2e27a8d478",
   "outputs": [
    {
     "data": {
      "text/plain": [
       "dict_keys(['status', 'totalResults', 'articles'])"
      ]
     },
     "execution_count": 144,
     "metadata": {},
     "output_type": "execute_result"
    }
   ],
   "execution_count": 144
  },
  {
   "metadata": {
    "ExecuteTime": {
     "end_time": "2025-08-10T17:19:08.207624Z",
     "start_time": "2025-08-10T17:19:08.196446Z"
    }
   },
   "cell_type": "code",
   "source": "news['articles'][0]['url']",
   "id": "f06bf700ccc4ed68",
   "outputs": [
    {
     "data": {
      "text/plain": [
       "'https://www.nextbigfuture.com/2025/08/tesla-gets-a-texas-rideshare-network-license.html'"
      ]
     },
     "execution_count": 147,
     "metadata": {},
     "output_type": "execute_result"
    }
   ],
   "execution_count": 147
  },
  {
   "metadata": {
    "ExecuteTime": {
     "end_time": "2025-08-10T15:06:24.957005Z",
     "start_time": "2025-08-10T15:06:23.465029Z"
    }
   },
   "cell_type": "code",
   "source": [
    "news_params = {\n",
    "        \"apikey\": api_key,\n",
    "        \"tickers\": \"TSLA\",\n",
    "        \"function\": \"NEWS\",\n",
    "        \"sort\": \"LATEST\",\n",
    "        \"limit\":10\n",
    "    }\n",
    "response = requests.get(END_POINT, params=news_params)\n",
    "response.raise_for_status()\n",
    "news_data = response.json()"
   ],
   "id": "92e248a15ef02d24",
   "outputs": [],
   "execution_count": 17
  },
  {
   "metadata": {
    "ExecuteTime": {
     "end_time": "2025-08-10T15:06:27.834324Z",
     "start_time": "2025-08-10T15:06:27.824464Z"
    }
   },
   "cell_type": "code",
   "source": "news_data.keys()",
   "id": "4bf905ba4028b40e",
   "outputs": [
    {
     "data": {
      "text/plain": [
       "dict_keys(['Error Message'])"
      ]
     },
     "execution_count": 18,
     "metadata": {},
     "output_type": "execute_result"
    }
   ],
   "execution_count": 18
  },
  {
   "metadata": {
    "ExecuteTime": {
     "end_time": "2025-08-10T15:06:38.042597Z",
     "start_time": "2025-08-10T15:06:38.031483Z"
    }
   },
   "cell_type": "code",
   "source": "news_data",
   "id": "998500ab9ad14717",
   "outputs": [
    {
     "data": {
      "text/plain": [
       "{'Error Message': 'This API function (NEWS) does not exist.'}"
      ]
     },
     "execution_count": 19,
     "metadata": {},
     "output_type": "execute_result"
    }
   ],
   "execution_count": 19
  },
  {
   "metadata": {
    "ExecuteTime": {
     "end_time": "2025-08-10T15:05:39.910907Z",
     "start_time": "2025-08-10T15:05:39.896518Z"
    }
   },
   "cell_type": "code",
   "source": "news_data['feed'][0]",
   "id": "c1de87887f75d05e",
   "outputs": [
    {
     "data": {
      "text/plain": [
       "{'title': \"Consumer Tech News  ( August 4-August 8 ) : Earnings From Palantir, Uber, Shopify & More Amid Trump's Tariff Saga - Apple  ( NASDAQ:AAPL ) , Airbnb  ( NASDAQ:ABNB ) \",\n",
       " 'url': 'https://www.benzinga.com/markets/equities/25/08/47021037/consumer-tech-news-august-4-august-8-earnings-from-palantir-uber-shopify-more-amid-trumps-tariff',\n",
       " 'time_published': '20250810T123108',\n",
       " 'authors': ['Nabaparna Bhattacharya'],\n",
       " 'summary': 'Ceasefire feelers and new U.S. tariffs on gold bars, India and Switzerland drove a record gold spread; crude briefly dipped sub-$64. Earnings prints from Palantir, Uber, Shopify, Datadog and more underpinned a rebound after weak jobs data and a June inflation uptick.',\n",
       " 'banner_image': 'https://cdn.benzinga.com/files/images/story/2025/08/10/AI3d-Graphics-Concept-Big-Data-Center-Fe.jpeg?width=1200&height=800&fit=crop',\n",
       " 'source': 'Benzinga',\n",
       " 'category_within_source': 'General',\n",
       " 'source_domain': 'www.benzinga.com',\n",
       " 'topics': [{'topic': 'Economy - Monetary', 'relevance_score': '0.576289'},\n",
       "  {'topic': 'Financial Markets', 'relevance_score': '0.918141'},\n",
       "  {'topic': 'Manufacturing', 'relevance_score': '0.5'},\n",
       "  {'topic': 'Earnings', 'relevance_score': '0.999894'},\n",
       "  {'topic': 'Technology', 'relevance_score': '0.5'}],\n",
       " 'overall_sentiment_score': 0.036231,\n",
       " 'overall_sentiment_label': 'Neutral',\n",
       " 'ticker_sentiment': [{'ticker': 'APP',\n",
       "   'relevance_score': '0.074576',\n",
       "   'ticker_sentiment_score': '-0.146494',\n",
       "   'ticker_sentiment_label': 'Neutral'},\n",
       "  {'ticker': 'GOOG',\n",
       "   'relevance_score': '0.074576',\n",
       "   'ticker_sentiment_score': '-0.215566',\n",
       "   'ticker_sentiment_label': 'Somewhat-Bearish'},\n",
       "  {'ticker': 'AAPL',\n",
       "   'relevance_score': '0.074576',\n",
       "   'ticker_sentiment_score': '0.002125',\n",
       "   'ticker_sentiment_label': 'Neutral'},\n",
       "  {'ticker': 'TTD',\n",
       "   'relevance_score': '0.074576',\n",
       "   'ticker_sentiment_score': '0.110022',\n",
       "   'ticker_sentiment_label': 'Neutral'},\n",
       "  {'ticker': 'BSQKZ',\n",
       "   'relevance_score': '0.037329',\n",
       "   'ticker_sentiment_score': '0.0',\n",
       "   'ticker_sentiment_label': 'Neutral'},\n",
       "  {'ticker': 'F',\n",
       "   'relevance_score': '0.074576',\n",
       "   'ticker_sentiment_score': '0.057273',\n",
       "   'ticker_sentiment_label': 'Neutral'},\n",
       "  {'ticker': 'GM',\n",
       "   'relevance_score': '0.074576',\n",
       "   'ticker_sentiment_score': '0.059136',\n",
       "   'ticker_sentiment_label': 'Neutral'},\n",
       "  {'ticker': 'SMCI',\n",
       "   'relevance_score': '0.074576',\n",
       "   'ticker_sentiment_score': '0.0',\n",
       "   'ticker_sentiment_label': 'Neutral'},\n",
       "  {'ticker': 'DDOG',\n",
       "   'relevance_score': '0.11166',\n",
       "   'ticker_sentiment_score': '-0.159041',\n",
       "   'ticker_sentiment_label': 'Somewhat-Bearish'},\n",
       "  {'ticker': 'RIVN',\n",
       "   'relevance_score': '0.074576',\n",
       "   'ticker_sentiment_score': '0.0',\n",
       "   'ticker_sentiment_label': 'Neutral'},\n",
       "  {'ticker': 'ABNB',\n",
       "   'relevance_score': '0.074576',\n",
       "   'ticker_sentiment_score': '0.0',\n",
       "   'ticker_sentiment_label': 'Neutral'},\n",
       "  {'ticker': 'DASH',\n",
       "   'relevance_score': '0.074576',\n",
       "   'ticker_sentiment_score': '0.110022',\n",
       "   'ticker_sentiment_label': 'Neutral'},\n",
       "  {'ticker': 'DJT',\n",
       "   'relevance_score': '0.074576',\n",
       "   'ticker_sentiment_score': '0.120146',\n",
       "   'ticker_sentiment_label': 'Neutral'},\n",
       "  {'ticker': 'TSM',\n",
       "   'relevance_score': '0.074576',\n",
       "   'ticker_sentiment_score': '0.049385',\n",
       "   'ticker_sentiment_label': 'Neutral'},\n",
       "  {'ticker': 'SHOP',\n",
       "   'relevance_score': '0.11166',\n",
       "   'ticker_sentiment_score': '-0.182269',\n",
       "   'ticker_sentiment_label': 'Somewhat-Bearish'},\n",
       "  {'ticker': 'TSLA',\n",
       "   'relevance_score': '0.11166',\n",
       "   'ticker_sentiment_score': '0.108986',\n",
       "   'ticker_sentiment_label': 'Neutral'},\n",
       "  {'ticker': 'HYMLF',\n",
       "   'relevance_score': '0.037329',\n",
       "   'ticker_sentiment_score': '0.0',\n",
       "   'ticker_sentiment_label': 'Neutral'},\n",
       "  {'ticker': 'INTC',\n",
       "   'relevance_score': '0.074576',\n",
       "   'ticker_sentiment_score': '0.259657',\n",
       "   'ticker_sentiment_label': 'Somewhat-Bullish'},\n",
       "  {'ticker': 'UBER',\n",
       "   'relevance_score': '0.11166',\n",
       "   'ticker_sentiment_score': '-0.147302',\n",
       "   'ticker_sentiment_label': 'Neutral'},\n",
       "  {'ticker': 'ON',\n",
       "   'relevance_score': '0.037329',\n",
       "   'ticker_sentiment_score': '0.046748',\n",
       "   'ticker_sentiment_label': 'Neutral'},\n",
       "  {'ticker': 'PLTR',\n",
       "   'relevance_score': '0.074576',\n",
       "   'ticker_sentiment_score': '-0.041348',\n",
       "   'ticker_sentiment_label': 'Neutral'}]}"
      ]
     },
     "execution_count": 16,
     "metadata": {},
     "output_type": "execute_result"
    }
   ],
   "execution_count": 16
  },
  {
   "metadata": {
    "ExecuteTime": {
     "end_time": "2025-08-10T16:17:56.680862Z",
     "start_time": "2025-08-10T16:17:56.670692Z"
    }
   },
   "cell_type": "code",
   "source": [
    "END_POINT= \"https://api.marketaux.com/v1/news/all\"\n",
    "api_key = os.getenv(\"MARKETAUX_API_KEY\")"
   ],
   "id": "8492bc62b5cd31d",
   "outputs": [],
   "execution_count": 42
  },
  {
   "metadata": {
    "ExecuteTime": {
     "end_time": "2025-08-10T16:18:26.275748Z",
     "start_time": "2025-08-10T16:18:26.271197Z"
    }
   },
   "cell_type": "code",
   "source": "",
   "id": "ec98e21ba073a069",
   "outputs": [],
   "execution_count": null
  },
  {
   "metadata": {
    "ExecuteTime": {
     "end_time": "2025-08-10T16:14:25.843298Z",
     "start_time": "2025-08-10T16:14:25.832961Z"
    }
   },
   "cell_type": "code",
   "source": "ticker= \"AAPL\"",
   "id": "7c92195b30eb76f1",
   "outputs": [],
   "execution_count": 32
  },
  {
   "metadata": {
    "ExecuteTime": {
     "end_time": "2025-08-10T16:59:51.620559Z",
     "start_time": "2025-08-10T16:59:50.151188Z"
    }
   },
   "cell_type": "code",
   "source": [
    "import http.client, urllib.parse\n",
    "import json\n",
    "\n",
    "conn = http.client.HTTPSConnection('api.marketaux.com')\n",
    "\n",
    "params = urllib.parse.urlencode({\n",
    "    'api_token': api_key,\n",
    "    'symbols': 'AAPL',\n",
    "    'limit': 5,\n",
    "    'sort': \"published_at\",\n",
    "    'sort_order': \"desc\",\n",
    "    'group_similar': 'true',\n",
    "    'filter_entities': 'true',\n",
    "    })\n",
    "\n",
    "conn.request('GET', '/v1/news/all?{}'.format(params))\n",
    "\n",
    "res = conn.getresponse()\n",
    "data = res.read()\n",
    "\n",
    "json_data = json.loads(data.decode('utf-8'))\n",
    "print(json.dumps(json_data, indent=2))  # pretty print\n"
   ],
   "id": "d5701a41a8f4791",
   "outputs": [
    {
     "name": "stdout",
     "output_type": "stream",
     "text": [
      "{\n",
      "  \"warnings\": [\n",
      "    \"limit is higher than your plan allows\"\n",
      "  ],\n",
      "  \"meta\": {\n",
      "    \"found\": 117868,\n",
      "    \"returned\": 3,\n",
      "    \"limit\": 3,\n",
      "    \"page\": 1\n",
      "  },\n",
      "  \"data\": [\n",
      "    {\n",
      "      \"uuid\": \"b399b2f1-7835-423f-8eed-16e19aebf67e\",\n",
      "      \"title\": \"Apple is a star (again) as investors hope tariffs don't squeeze markets\",\n",
      "      \"description\": \"Here's what happened to markets last week and what to watch for.\",\n",
      "      \"keywords\": \"Russell 2000 Index, Nasdaq Composite Index, Arista Networks, Palantir Technologies, tariffs, Apple\",\n",
      "      \"snippet\": \"Apple is a star (again) as investors hope tariffs don't squeeze markets originally appeared on TheStreet.\\n\\nStocks had a nifty week last week, especially technol...\",\n",
      "      \"url\": \"https://finance.yahoo.com/news/apple-star-again-investors-hope-143929071.html\",\n",
      "      \"image_url\": \"https://media.zenfs.com/en/thestreet_881/97aa00c0b9b3ea9d60d6f22b50d8dc7c\",\n",
      "      \"language\": \"en\",\n",
      "      \"published_at\": \"2025-08-10T14:39:29.000000Z\",\n",
      "      \"source\": \"finance.yahoo.com\",\n",
      "      \"relevance_score\": null,\n",
      "      \"entities\": [\n",
      "        {\n",
      "          \"symbol\": \"AAPL\",\n",
      "          \"name\": \"Apple Inc.\",\n",
      "          \"exchange\": null,\n",
      "          \"exchange_long\": null,\n",
      "          \"country\": \"us\",\n",
      "          \"type\": \"equity\",\n",
      "          \"industry\": \"Technology\",\n",
      "          \"match_score\": 23.824091,\n",
      "          \"sentiment_score\": 0.48686,\n",
      "          \"highlights\": [\n",
      "            {\n",
      "              \"highlight\": \"<em>Apple</em> is a star (again) as inve[+294 characters]\",\n",
      "              \"sentiment\": 0.9166,\n",
      "              \"highlighted_in\": \"main_text\"\n",
      "            },\n",
      "            {\n",
      "              \"highlight\": \"Related: $243 million Tesla Autopilot la[+308 characters]\",\n",
      "              \"sentiment\": 0.7783,\n",
      "              \"highlighted_in\": \"main_text\"\n",
      "            },\n",
      "            {\n",
      "              \"highlight\": \"<em>Apple</em> doesn't have an AI produc[+297 characters]\",\n",
      "              \"sentiment\": 0.0258,\n",
      "              \"highlighted_in\": \"main_text\"\n",
      "            },\n",
      "            {\n",
      "              \"highlight\": \"In exchange, the Trump Administration ag[+73 characters]\",\n",
      "              \"sentiment\": 0.2732,\n",
      "              \"highlighted_in\": \"main_text\"\n",
      "            },\n",
      "            {\n",
      "              \"highlight\": \"<em>Apple</em> is a star (again) as investors hope tariffs don't squeeze markets\",\n",
      "              \"sentiment\": 0.4404,\n",
      "              \"highlighted_in\": \"title\"\n",
      "            }\n",
      "          ]\n",
      "        }\n",
      "      ],\n",
      "      \"similar\": []\n",
      "    },\n",
      "    {\n",
      "      \"uuid\": \"2434ee86-4766-41a1-89d6-2e9389f3a1a7\",\n",
      "      \"title\": \"1 Tech ETF to Load Up On, and 1 to Avoid Right Now\",\n",
      "      \"description\": \"The high concentration of one tech ETF brings on more risk than the other ETF.\",\n",
      "      \"keywords\": \"Vanguard Information Technology ETF, Vanguard ETF, Nasdaq Composite, Invesco QQQ, tech stocks, S&P 500\",\n",
      "      \"snippet\": \"Key Points\\n\\nThe Invesco QQQ Trust ETF has outperformed the S&P 500 in 14 of the past 20 years.\\n\\nQQQ contains more megacap tech stocks than the Vanguard Informat...\",\n",
      "      \"url\": \"https://finance.yahoo.com/news/1-tech-etf-load-1-134500170.html\",\n",
      "      \"image_url\": \"https://s.yimg.com/ny/api/res/1.2/TyZK8PNsX8Upxg0eNkIG_w--/YXBwaWQ9aGlnaGxhbmRlcjt3PTEyMDA7aD04MDA-/https://media.zenfs.com/en/motleyfool.com/1a19d570b00d6ebf16aaab15b27487e9\",\n",
      "      \"language\": \"en\",\n",
      "      \"published_at\": \"2025-08-10T13:45:00.000000Z\",\n",
      "      \"source\": \"finance.yahoo.com\",\n",
      "      \"relevance_score\": null,\n",
      "      \"entities\": [\n",
      "        {\n",
      "          \"symbol\": \"AAPL\",\n",
      "          \"name\": \"Apple Inc.\",\n",
      "          \"exchange\": null,\n",
      "          \"exchange_long\": null,\n",
      "          \"country\": \"us\",\n",
      "          \"type\": \"equity\",\n",
      "          \"industry\": \"Technology\",\n",
      "          \"match_score\": 12.706134,\n",
      "          \"sentiment_score\": -0.1779,\n",
      "          \"highlights\": [\n",
      "            {\n",
      "              \"highlight\": \"My main reason for avoiding VGT right no[+165 characters]\",\n",
      "              \"sentiment\": -0.1779,\n",
      "              \"highlighted_in\": \"main_text\"\n",
      "            }\n",
      "          ]\n",
      "        }\n",
      "      ],\n",
      "      \"similar\": []\n",
      "    },\n",
      "    {\n",
      "      \"uuid\": \"33bf01ee-2ea3-418f-bbdb-e32195d8a3fa\",\n",
      "      \"title\": \"Stock market pullbacks will be 'short-lived': Wall Street sees AI, rate-cut optimism fueling rally\",\n",
      "      \"description\": \"Stocks hovered near all-time highs this week, despite tariff rollouts.\",\n",
      "      \"keywords\": \"Federal Reserve, President Trump, Nasdaq Composite, Wall Street, stock market, Gargi Chaudhuri\",\n",
      "      \"snippet\": \"President Trump's tariffs weren't enough to derail the stock market rally last week as the S&P 500 (^GSPC) and Nasdaq Composite (^IXIC) continued to hover near ...\",\n",
      "      \"url\": \"https://finance.yahoo.com/news/stock-market-pullbacks-will-be-short-lived-wall-street-sees-ai-rate-cut-optimism-fueling-rally-133057446.html\",\n",
      "      \"image_url\": \"https://s.yimg.com/ny/api/res/1.2/SsEROgfkVeb2W7qstgzzVQ--/YXBwaWQ9aGlnaGxhbmRlcjt3PTEyMDA7aD04MDA-/https://s.yimg.com/os/creatr-uploaded-images/2025-08/f128faa0-73a8-11f0-bed4-ba6913fa378b\",\n",
      "      \"language\": \"en\",\n",
      "      \"published_at\": \"2025-08-10T13:38:55.000000Z\",\n",
      "      \"source\": \"finance.yahoo.com\",\n",
      "      \"relevance_score\": null,\n",
      "      \"entities\": [\n",
      "        {\n",
      "          \"symbol\": \"AAPL\",\n",
      "          \"name\": \"Apple Inc.\",\n",
      "          \"exchange\": null,\n",
      "          \"exchange_long\": null,\n",
      "          \"country\": \"us\",\n",
      "          \"type\": \"equity\",\n",
      "          \"industry\": \"Technology\",\n",
      "          \"match_score\": 9.315012,\n",
      "          \"sentiment_score\": 0.872,\n",
      "          \"highlights\": [\n",
      "            {\n",
      "              \"highlight\": \"Strategists also point to companies' abi[+313 characters]\",\n",
      "              \"sentiment\": 0.872,\n",
      "              \"highlighted_in\": \"main_text\"\n",
      "            }\n",
      "          ]\n",
      "        }\n",
      "      ],\n",
      "      \"similar\": []\n",
      "    }\n",
      "  ]\n",
      "}\n"
     ]
    }
   ],
   "execution_count": 115
  },
  {
   "metadata": {
    "ExecuteTime": {
     "end_time": "2025-08-10T17:09:11.779704Z",
     "start_time": "2025-08-10T17:09:10.460361Z"
    }
   },
   "cell_type": "code",
   "source": [
    "import http.client, urllib.parse\n",
    "import json\n",
    "\n",
    "conn = http.client.HTTPSConnection('api.marketaux.com')\n",
    "\n",
    "params = urllib.parse.urlencode({\n",
    "    'api_token': api_key,\n",
    "    'symbols': 'TSLA',\n",
    "    'limit': 5,\n",
    "    'sort': \"published_at\",\n",
    "    'sort_order': \"desc\",\n",
    "    'group_similar': 'true',\n",
    "    'filter_entities': 'true'\n",
    "    })\n",
    "\n",
    "conn.request('GET', '/v1/news/all?{}'.format(params))\n",
    "\n",
    "res = conn.getresponse()\n",
    "data = res.read()\n",
    "\n",
    "json_data = json.loads(data.decode('utf-8'))\n",
    "print(json.dumps(json_data, indent=2))  # pretty print"
   ],
   "id": "f7e8340895491a0",
   "outputs": [
    {
     "name": "stdout",
     "output_type": "stream",
     "text": [
      "{\n",
      "  \"warnings\": [\n",
      "    \"limit is higher than your plan allows\"\n",
      "  ],\n",
      "  \"meta\": {\n",
      "    \"found\": 0,\n",
      "    \"returned\": 0,\n",
      "    \"limit\": 3,\n",
      "    \"page\": 1\n",
      "  },\n",
      "  \"data\": []\n",
      "}\n"
     ]
    }
   ],
   "execution_count": 121
  },
  {
   "metadata": {
    "ExecuteTime": {
     "end_time": "2025-08-10T16:56:06.928151Z",
     "start_time": "2025-08-10T16:56:06.914299Z"
    }
   },
   "cell_type": "code",
   "source": "json_data['data'][0].keys()",
   "id": "f4e3299d97ea6ddd",
   "outputs": [
    {
     "data": {
      "text/plain": [
       "dict_keys(['uuid', 'title', 'description', 'keywords', 'snippet', 'url', 'image_url', 'language', 'published_at', 'source', 'relevance_score', 'entities', 'similar'])"
      ]
     },
     "execution_count": 109,
     "metadata": {},
     "output_type": "execute_result"
    }
   ],
   "execution_count": 109
  },
  {
   "metadata": {
    "ExecuteTime": {
     "end_time": "2025-08-10T16:56:59.581524Z",
     "start_time": "2025-08-10T16:56:59.549523Z"
    }
   },
   "cell_type": "code",
   "source": [
    "url= json_data['data'][0]['entities']\n",
    "url"
   ],
   "id": "4a69ee38b2c7b2a0",
   "outputs": [
    {
     "data": {
      "text/plain": [
       "[{'symbol': 'AAPL',\n",
       "  'name': 'Apple Inc.',\n",
       "  'exchange': None,\n",
       "  'exchange_long': None,\n",
       "  'country': 'us',\n",
       "  'type': 'equity',\n",
       "  'industry': 'Technology',\n",
       "  'match_score': 23.824091,\n",
       "  'sentiment_score': 0.48686,\n",
       "  'highlights': [{'highlight': '<em>Apple</em> is a star (again) as inve[+294 characters]',\n",
       "    'sentiment': 0.9166,\n",
       "    'highlighted_in': 'main_text'},\n",
       "   {'highlight': 'Related: $243 million Tesla Autopilot la[+308 characters]',\n",
       "    'sentiment': 0.7783,\n",
       "    'highlighted_in': 'main_text'},\n",
       "   {'highlight': \"<em>Apple</em> doesn't have an AI produc[+297 characters]\",\n",
       "    'sentiment': 0.0258,\n",
       "    'highlighted_in': 'main_text'},\n",
       "   {'highlight': 'In exchange, the Trump Administration ag[+73 characters]',\n",
       "    'sentiment': 0.2732,\n",
       "    'highlighted_in': 'main_text'},\n",
       "   {'highlight': \"<em>Apple</em> is a star (again) as investors hope tariffs don't squeeze markets\",\n",
       "    'sentiment': 0.4404,\n",
       "    'highlighted_in': 'title'}]},\n",
       " {'symbol': 'GOOGL',\n",
       "  'name': 'Alphabet Inc.',\n",
       "  'exchange': None,\n",
       "  'exchange_long': None,\n",
       "  'country': 'us',\n",
       "  'type': 'equity',\n",
       "  'industry': 'Communication Services',\n",
       "  'match_score': 20.302994,\n",
       "  'sentiment_score': 0.0258,\n",
       "  'highlights': [{'highlight': \"Apple doesn't have an AI product to comp[+288 characters]\",\n",
       "    'sentiment': 0.0258,\n",
       "    'highlighted_in': 'main_text'}]},\n",
       " {'symbol': 'AAXN',\n",
       "  'name': 'Axon Enterprise Inc',\n",
       "  'exchange': None,\n",
       "  'exchange_long': None,\n",
       "  'country': 'us',\n",
       "  'type': 'equity',\n",
       "  'industry': 'Industrials',\n",
       "  'match_score': 23.76675,\n",
       "  'sentiment_score': 0.5719,\n",
       "  'highlights': [{'highlight': 'Related: Analyst says popular meme stock[+189 characters]',\n",
       "    'sentiment': 0.5719,\n",
       "    'highlighted_in': 'main_text'}]},\n",
       " {'symbol': 'MSFT',\n",
       "  'name': 'Microsoft Corporation',\n",
       "  'exchange': None,\n",
       "  'exchange_long': None,\n",
       "  'country': 'us',\n",
       "  'type': 'equity',\n",
       "  'industry': 'Technology',\n",
       "  'match_score': 11.150376,\n",
       "  'sentiment_score': 0.0258,\n",
       "  'highlights': [{'highlight': \"Apple doesn't have an AI product to comp[+279 characters]\",\n",
       "    'sentiment': 0.0258,\n",
       "    'highlighted_in': 'main_text'}]},\n",
       " {'symbol': 'TSLA',\n",
       "  'name': 'Tesla, Inc.',\n",
       "  'exchange': None,\n",
       "  'exchange_long': None,\n",
       "  'country': 'us',\n",
       "  'type': 'equity',\n",
       "  'industry': 'Consumer Cyclical',\n",
       "  'match_score': 11.893214,\n",
       "  'sentiment_score': 0.7783,\n",
       "  'highlights': [{'highlight': 'Related: $243 million <em>Tesla</em> Aut[+299 characters]',\n",
       "    'sentiment': 0.7783,\n",
       "    'highlighted_in': 'main_text'}]},\n",
       " {'symbol': 'AXON',\n",
       "  'name': 'Axon Enterprise, Inc.',\n",
       "  'exchange': None,\n",
       "  'exchange_long': None,\n",
       "  'country': 'us',\n",
       "  'type': 'equity',\n",
       "  'industry': 'Industrials',\n",
       "  'match_score': 23.765953,\n",
       "  'sentiment_score': 0.5719,\n",
       "  'highlights': [{'highlight': 'Related: Analyst says popular meme stock[+189 characters]',\n",
       "    'sentiment': 0.5719,\n",
       "    'highlighted_in': 'main_text'}]},\n",
       " {'symbol': 'TTD',\n",
       "  'name': 'The Trade Desk, Inc.',\n",
       "  'exchange': None,\n",
       "  'exchange_long': None,\n",
       "  'country': 'us',\n",
       "  'type': 'equity',\n",
       "  'industry': 'Technology',\n",
       "  'match_score': 18.215834,\n",
       "  'sentiment_score': -0.34,\n",
       "  'highlights': [{'highlight': '<em>The</em> <em>Trade</em> <em>Desk</em[+302 characters]',\n",
       "    'sentiment': -0.34,\n",
       "    'highlighted_in': 'main_text'}]}]"
      ]
     },
     "execution_count": 114,
     "metadata": {},
     "output_type": "execute_result"
    }
   ],
   "execution_count": 114
  },
  {
   "metadata": {
    "ExecuteTime": {
     "end_time": "2025-08-10T16:24:21.908702Z",
     "start_time": "2025-08-10T16:24:21.894938Z"
    }
   },
   "cell_type": "code",
   "source": "data['meta']",
   "id": "e41e5e11cada7a6e",
   "outputs": [
    {
     "data": {
      "text/plain": [
       "{'found': 193647, 'returned': 1, 'limit': 1, 'page': 1}"
      ]
     },
     "execution_count": 58,
     "metadata": {},
     "output_type": "execute_result"
    }
   ],
   "execution_count": 58
  },
  {
   "metadata": {
    "ExecuteTime": {
     "end_time": "2025-08-10T16:24:39.151292Z",
     "start_time": "2025-08-10T16:24:39.142015Z"
    }
   },
   "cell_type": "code",
   "source": "type(data['data'])",
   "id": "1c232ccab9fa47fd",
   "outputs": [
    {
     "data": {
      "text/plain": [
       "list"
      ]
     },
     "execution_count": 59,
     "metadata": {},
     "output_type": "execute_result"
    }
   ],
   "execution_count": 59
  },
  {
   "metadata": {
    "ExecuteTime": {
     "end_time": "2025-08-10T16:25:16.513720Z",
     "start_time": "2025-08-10T16:25:16.504163Z"
    }
   },
   "cell_type": "code",
   "source": "data['data'][0].keys()",
   "id": "1fef133ff5a350d",
   "outputs": [
    {
     "data": {
      "text/plain": [
       "dict_keys(['uuid', 'title', 'description', 'keywords', 'snippet', 'url', 'image_url', 'language', 'published_at', 'source', 'relevance_score', 'entities', 'similar'])"
      ]
     },
     "execution_count": 64,
     "metadata": {},
     "output_type": "execute_result"
    }
   ],
   "execution_count": 64
  },
  {
   "metadata": {
    "ExecuteTime": {
     "end_time": "2025-08-10T16:28:28.083784Z",
     "start_time": "2025-08-10T16:28:28.072192Z"
    }
   },
   "cell_type": "code",
   "source": [
    "print(\"Title:\", data['data'][0]['title'])\n",
    "print(\"\\ndescription:\", data['data'][0]['description'])\n",
    "print(\"\\nkeywords:\", data['data'][0]['keywords'])\n",
    "print(\"\\n'snippet':\", data['data'][0]['snippet'])\n",
    "print(\"\\n weblink:\", data['data'][0]['url'])\n",
    "print(\"\\nscore:\", data['data'][0]['source'])\n",
    "print(\"\\nrelevance\", data['data'][0]['relevance_score'])"
   ],
   "id": "fcf127890bb6a722",
   "outputs": [
    {
     "name": "stdout",
     "output_type": "stream",
     "text": [
      "Title: Palantir’s 2,500% run has bulls scrambling to justify valuation\n",
      "\n",
      "description: Trading at 245 times forward earnings, Palantir is the most richly-valued company in the S&P 500, while Nvidia trades at 35 times forward earnings.\n",
      "\n",
      "keywords: \n",
      "\n",
      "'snippet': Palantir Technologies Inc.’s meteoric rise is pushing the company’s valuation further into record territory, forcing bullish investors to bank on increasing...\n",
      "\n",
      " weblink: https://fortune.com/2025/08/10/palantir-stock-price-valuation-forward-earnings-ai-alex-karp/\n",
      "\n",
      "score: fortune.com\n",
      "\n",
      "relevance None\n"
     ]
    }
   ],
   "execution_count": 68
  },
  {
   "metadata": {},
   "cell_type": "code",
   "outputs": [],
   "execution_count": null,
   "source": "",
   "id": "d78bca34745823df"
  },
  {
   "metadata": {},
   "cell_type": "code",
   "outputs": [],
   "execution_count": null,
   "source": "",
   "id": "b6f3f34f2cfd645b"
  },
  {
   "metadata": {},
   "cell_type": "markdown",
   "source": "## Web Scraping",
   "id": "e8e4f080d165f80e"
  },
  {
   "metadata": {
    "ExecuteTime": {
     "end_time": "2025-08-10T16:29:14.494450Z",
     "start_time": "2025-08-10T16:29:14.487360Z"
    }
   },
   "cell_type": "code",
   "source": [
    "from bs4 import BeautifulSoup\n",
    "import requests\n",
    "def souper(url = \"https://www.benzinga.com/markets/equities/25/08/47021037/consumer-tech-news-august-4-august-8-earnings-from-palantir-uber-shopify-more-amid-trumps-tariff\"):\n",
    "    response = requests.get(url)\n",
    "    html = response.text\n",
    "    soup = BeautifulSoup(html, \"html.parser\")\n",
    "    return soup\n"
   ],
   "id": "2619bf8da503a66c",
   "outputs": [],
   "execution_count": 71
  },
  {
   "metadata": {
    "ExecuteTime": {
     "end_time": "2025-08-10T16:30:11.129871Z",
     "start_time": "2025-08-10T16:30:10.685117Z"
    }
   },
   "cell_type": "code",
   "source": "soup= souper(url= data['data'][0]['url'])\n",
   "id": "e9704c401cd339ff",
   "outputs": [],
   "execution_count": 73
  },
  {
   "metadata": {
    "ExecuteTime": {
     "end_time": "2025-08-10T16:30:24.016928Z",
     "start_time": "2025-08-10T16:30:24.004021Z"
    }
   },
   "cell_type": "code",
   "source": [
    "# Headline\n",
    "\n",
    "def scrapper(soup):\n",
    "    headline = soup.find(\"h1\").get_text(strip=True)\n",
    "\n",
    "    # Zinger Key Points (bullets)\n",
    "    bullets = [li.get_text(strip=True) for li in soup.select(\"li\") if 'Key Points' in li.text or li.text.startswith('*')]\n",
    "\n",
    "    # Main paragraphs\n",
    "    paragraphs = [p.get_text(strip=True) for p in soup.find_all(\"p\")]\n",
    "\n",
    "    # Combine into one structured output\n",
    "    article_data = {\n",
    "        \"headline\": headline,\n",
    "        \"key_points\": bullets,\n",
    "        \"content\": paragraphs,\n",
    "    }\n",
    "    return article_data\n"
   ],
   "id": "a2cb6b31fb487e88",
   "outputs": [],
   "execution_count": 75
  },
  {
   "metadata": {
    "ExecuteTime": {
     "end_time": "2025-08-10T16:30:26.736350Z",
     "start_time": "2025-08-10T16:30:26.709811Z"
    }
   },
   "cell_type": "code",
   "source": "scrapper(soup)",
   "id": "631d438e1903f7e0",
   "outputs": [
    {
     "data": {
      "text/plain": [
       "{'headline': 'Palantir’s 2,500% run has bulls scrambling to justify valuation',\n",
       " 'key_points': [],\n",
       " 'content': ['Palantir TechnologiesInc.’s meteoric rise is pushing the company’s valuation further into record territory, forcing bullish investors to bank on increasingly robust future growth to justify its current level.',\n",
       "  'Shares of the defense maker closed at another all-time high Friday, bringing gains since its 2021 debut to near 2,500%. The stock is up almost 150% this year, a rally underpinned by the company’s growing use of artificial intelligence, business ties to the US government and most recently, astellarearnings report.',\n",
       "  'That surge has made Palantir eye-wateringly expensive compared to its peers: trading at 245 times forward earnings, it is the most richly-valued company in the S&P 500 Index. By comparison, chipmakerNvidiaCorp., another big gainer, trades at just 35 times forward earnings.',\n",
       "  'Palantir is “turning into a bit of a difficult valuation story to sell, but it’s a great company,” said Mark Giarelli of Morningstar Investment Service, who has sell-equivalent rating on the stock. The valuation “causes heartburn, but that’s the story right now.”',\n",
       "  'Plenty of Wall Street pros and retail investors alike are happy to hang on for now, wary of missing out on further upside. Still, it’s getting hard for them to ignore the increasingly high bar Palantir must meet to justify its performance over the longer term. Damian Reimertz of Bloomberg Intelligence estimates the company would need to generate $60 billion over the next 12 months to trade at a comparable valuation to its peers.',\n",
       "  '',\n",
       "  'That calculation — based on a comparison of the software companies’ enterprise value-to-sales ratio — is many times higher than the $4 billion in revenues Wall Street expects Palantir to earn in fiscal 2025 or the $5.7 billion analysts forecast for next year.',\n",
       "  'Valuation is also a sticking point for Gil Luria, managing director and head of technology research at DA Davidson & Co. Luria praised Palantir’s quarterly results and called it “the best story in all of software” in a recent note.',\n",
       "  'But he estimates that the company would have to grow at 50% annually for the next five years and maintain a 50% margin in order to get its forward price to earnings ratio down to 30, in line with the likes ofMicrosoftCorp. andAdvanced Micro DevicesInc. Palantir’s adjusted earnings per share are expected to grow at a 56% rate this year, falling to 31% and 33% in the next two years, respectively.',\n",
       "  'In a broader sign of Wall Street’s unease, more than twice as many analysts assign the stock sell or hold ratings than buy, according to data compiled by Bloomberg. Still, Palantir’s shares have become a must-own for portfolio managers concerned with beating performance benchmarks, said David Wagner of Aptus Capital Advisors, which holds shares of the company.',\n",
       "  '“There’s a lot of investors that just can’t ignore it,” said Wagner. “They don’t believe in the stock, but they’re tired of it just hurting them on a relative performance standpoint.”',\n",
       "  '',\n",
       "  'Palantir bulls are betting that the company’s business performance will support its stock price over the long term, a path taken by many of today’s Big Tech elite. Online streamerNetflixInc., for instance, traded north of 280 times forward earnings at a 2015 peak, and now stands at a forward P/E of 40.',\n",
       "  '“Definitely Palantir is part of that AI craze, but not everything that goes to a valuation of 200 is a bubble,” said Que Nguyen, chief investment officer of equity strategies at Research Affiliates, referring to Netflix.',\n",
       "  'Brent Bracelin atPiper Sandlerboosted his price target on shares to $182 from $170 following earnings and maintained his overweight rating. He is counting on the company to continue growing aggressively and sustain high free cash flow margins through 2030, aided by a market for defense spendingestimatedat $1 trillion in the US alone.',\n",
       "  '“You have to squint your eyes. You kind of have to believe that these audacious growth goals can be achieved,” he said.',\n",
       "  'Of course, there are numerous examples of stock rallies that cooled when companies couldn’t meet Wall Street’s elevated expectations. Shares ofTeslaInc. are down nearly 20% this year, in part because the company’s results aren’t keeping pace with its loftyvaluationof about 148 times forward earnings.',\n",
       "  '',\n",
       "  'While Palantir aced its most recent earnings report, its high valuation could exacerbate a selloff if the company stumbles in the future, said Morningstar’s Giarelli.',\n",
       "  '“Palantir is trading at such a high multiple relative to everyone else that there’s just so much gravity underneath their stock chart,” he said. \\xa0“There’s a lot of room below the stock chart for it to reprice in a negative way because it’s had such a stellar run.”',\n",
       "  'For Mark Malek, chief investment officer at Siebert Financial, valuations remain a concern. Still, Palantir’s potential for growth has kept him holding on to the stock.',\n",
       "  '“It’s uncomfortable to buy it at these levels, but we’re not afraid to buy when stocks are overvalued,” he said. “Where else are you finding 30% growth rates out there?”',\n",
       "  '',\n",
       "  '© 2025 Fortune Media IP Limited. All Rights Reserved. Use of this site constitutes acceptance of ourTerms of UseandPrivacy Policy|CA Notice at Collection and Privacy Notice|Do Not Sell/Share My Personal InformationFORTUNE is a trademark of Fortune Media IP Limited, registered in the U.S. and other countries. FORTUNE may receive compensation for some links to products and services on this website. Offers may be subject to change without notice.']}"
      ]
     },
     "execution_count": 76,
     "metadata": {},
     "output_type": "execute_result"
    }
   ],
   "execution_count": 76
  },
  {
   "metadata": {
    "ExecuteTime": {
     "end_time": "2025-08-10T15:22:30.382660Z",
     "start_time": "2025-08-10T15:22:30.223625Z"
    }
   },
   "cell_type": "code",
   "source": "headline",
   "id": "acdd6d917cdc573a",
   "outputs": [
    {
     "data": {
      "text/plain": [
       "\"Consumer Tech News (August 4–August 8): Earnings From Palantir, Uber, Shopify & More Amid Trump's Tariff Saga\""
      ]
     },
     "execution_count": 25,
     "metadata": {},
     "output_type": "execute_result"
    }
   ],
   "execution_count": 25
  },
  {
   "metadata": {},
   "cell_type": "code",
   "outputs": [],
   "execution_count": null,
   "source": "",
   "id": "a8513ed56ebcd04d"
  },
  {
   "metadata": {},
   "cell_type": "markdown",
   "source": [
    "## Let's use just NEWS API for now - it may not relevant to stock market but good for getting news\n",
    "cons:\n",
    "- 24 hours back data, not live but ok for building..\n",
    "Other alternatives\n",
    "1. Marketaux - very complicated - gives irrelevant articles\n",
    "2. Alphavantage - better at stocks sentiment but no relevant news"
   ],
   "id": "8532cc0950ff4698"
  },
  {
   "metadata": {},
   "cell_type": "code",
   "source": [
    "NEWS_APIKEY= os.getenv(\"NEWS_API_KEY\")\n",
    "NEWS_ENDPOINT= \"https://newsapi.org/v2/top-headlines\""
   ],
   "id": "38fcecfff92d5f3a",
   "outputs": [],
   "execution_count": 160
  },
  {
   "metadata": {
    "ExecuteTime": {
     "end_time": "2025-08-10T17:35:55.533068Z",
     "start_time": "2025-08-10T17:35:53.519353Z"
    }
   },
   "cell_type": "code",
   "source": [
    "# Function to fetch top 3 news articles for the company\n",
    "def stock_news(cmpy='Tesla'):\n",
    "    news_params = {\n",
    "        \"apiKey\": NEWS_APIKEY,\n",
    "        \"q\": cmpy,\n",
    "        \"sortBy\": \"popularity\"\n",
    "    }\n",
    "    response = requests.get(NEWS_ENDPOINT, params=news_params)\n",
    "    response.raise_for_status()\n",
    "    news_data = response.json()\n",
    "\n",
    "    # Extract headlines and descriptions for top 3 articles\n",
    "    top_headlines = []\n",
    "    top_description = []\n",
    "    for i in range(min(int(news_data['totalResults']), 3)):\n",
    "        headlines = news_data['articles'][i]['title']\n",
    "        description = news_data['articles'][i]['description']\n",
    "        top_headlines.append(headlines)\n",
    "        top_description.append(description)\n",
    "\n",
    "    # Return news as a list of tuples\n",
    "    return [(top_headlines[i], top_description[i]) for i in range(len(top_headlines))], news_data\n",
    "\n",
    "news, data= stock_news()"
   ],
   "id": "dec70944b1471127",
   "outputs": [],
   "execution_count": 164
  },
  {
   "metadata": {
    "ExecuteTime": {
     "end_time": "2025-08-10T17:37:53.673573Z",
     "start_time": "2025-08-10T17:37:53.663050Z"
    }
   },
   "cell_type": "code",
   "source": [
    "url_list= [data['articles'][i]['url'] for i in range (len(data['articles']))]\n",
    "url_list"
   ],
   "id": "63113e25cb033841",
   "outputs": [
    {
     "data": {
      "text/plain": [
       "['https://www.nextbigfuture.com/2025/08/tesla-gets-a-texas-rideshare-network-license.html',\n",
       " 'https://www.nextbigfuture.com/2025/08/report-that-tesla-dojo-project-disbanded.html',\n",
       " 'https://arstechnica.com/science/2024/10/covid-fraudster-pleads-guilty-faces-20-years-for-role-in-83m-testing-scam/']"
      ]
     },
     "execution_count": 167,
     "metadata": {},
     "output_type": "execute_result"
    }
   ],
   "execution_count": 167
  },
  {
   "metadata": {},
   "cell_type": "code",
   "source": [
    "from bs4 import BeautifulSoup\n",
    "import requests\n",
    "def souper(url = url_list[0]):\n",
    "    response = requests.get(url)\n",
    "    html = response.text\n",
    "    soup = BeautifulSoup(html, \"html.parser\")\n",
    "    return soup"
   ],
   "id": "e1fdaf6c40981b4b",
   "outputs": [],
   "execution_count": 168
  },
  {
   "metadata": {
    "ExecuteTime": {
     "end_time": "2025-08-10T17:39:43.777046Z",
     "start_time": "2025-08-10T17:39:43.752207Z"
    }
   },
   "cell_type": "code",
   "source": [
    "\n",
    "def scrapper(soup):\n",
    "    headline = soup.find(\"h1\").get_text(strip=True)\n",
    "\n",
    "    # Zinger Key Points (bullets)\n",
    "    bullets = [li.get_text(strip=True) for li in soup.select(\"li\") if 'Key Points' in li.text or li.text.startswith('*')]\n",
    "\n",
    "    # Main paragraphs\n",
    "    paragraphs = [p.get_text(strip=True) for p in soup.find_all(\"p\")]\n",
    "\n",
    "    # Combine into one structured output\n",
    "    article_data = {\n",
    "        \"headline\": headline,\n",
    "        \"key_points\": bullets,\n",
    "        \"content\": paragraphs,\n",
    "    }\n",
    "    return article_data"
   ],
   "id": "893a5fccf0a6a05a",
   "outputs": [],
   "execution_count": 169
  },
  {
   "metadata": {
    "ExecuteTime": {
     "end_time": "2025-08-10T17:40:07.289896Z",
     "start_time": "2025-08-10T17:40:06.461606Z"
    }
   },
   "cell_type": "code",
   "source": [
    "data= scrapper(souper(url_list[0]))\n",
    "data"
   ],
   "id": "5784e7da5cd1daca",
   "outputs": [
    {
     "data": {
      "text/plain": [
       "{'headline': 'Tesla Gets a Texas Rideshare Network License',\n",
       " 'key_points': [],\n",
       " 'content': ['Home»Artificial intelligence»Tesla Gets a Texas Rideshare Network License',\n",
       "  'Tesla obtained a rideshare license from the Texas Department of Licensing and Regulation on August 7, 2025, is a significant step toward operating its Robotaxi service statewide. This Transportation Network Company (TNC) license aligns with Senate Bill 2807 (SB 2807). This new law signed by Governor Greg Abbott in June 2025 that takes effect on September 1, 2025. The law establishes a regulatory framework for automated motor vehicles (AVs) in Texas, treating ride-sharing services using AVs similar to those with human drivers.',\n",
       "  'As of August 8, 2025, Tesla Robotaxi LLC has been officially granted a rideshare license in Texas under the new law. This classifies it as a Transportation Network Company (TNC)—the same licensing structure as Uber and Lyft.',\n",
       "  'Tesla can scale its robotaxi footprint across more of Austin and potentially to other Texas cities under the TNC structure.',\n",
       "  'Operations without monitors will require Tesla to satisfy SB 2807’s greater oversight, including emergency response plans, sensor redundancy, and possibly safety performance data.',\n",
       "  'Tesla may need to finalize DMV authorization for full compliance, the license and upcoming regulations directly support shifting to driverless operations and expanding the fleet, positioning Texas as a key launch market for Robotaxi.',\n",
       "  'Human-driven TNC trips (drivers using Teslas) –  Independent TNC drivers can continue to use their Teslas as typical rideshare drivers under local TNC rules (insurance, driver vetting, vehicle registration). Nothing in SB 2807 prevents human-driven rideshare in Teslas.',\n",
       "  'Tesla must register/authorize each vehicle that will accept AV dispatches. Tesla controls which vehicles are in its robotaxi fleet; private drivers can’t opt their cars into unsupervised robotaxi service without Tesla’s systems and TxDMV approval.',\n",
       "  'Brian Wang is a Futurist Thought Leader and a popular Science blogger with 1 million readers per month. His blog Nextbigfuture.com is ranked #1 Science News Blog. It covers many disruptive technology and trends including Space, Robotics, Artificial Intelligence, Medicine, Anti-aging Biotechnology, and Nanotechnology.',\n",
       "  'Known for identifying cutting edge technologies, he is currently a Co-Founder of a startup and fundraiser for high potential early-stage companies. He is the Head of Research for Allocations for deep technology investments and an Angel Investor at Space Angels.',\n",
       "  'A frequent speaker at corporations, he has been a TEDx speaker, a Singularity University speaker and guest at numerous interviews for radio and podcasts.\\xa0 He is open to public speaking and advising engagements.',\n",
       "  'Comment',\n",
       "  '']}"
      ]
     },
     "execution_count": 170,
     "metadata": {},
     "output_type": "execute_result"
    }
   ],
   "execution_count": 170
  },
  {
   "metadata": {
    "ExecuteTime": {
     "end_time": "2025-08-10T17:40:20.720226Z",
     "start_time": "2025-08-10T17:40:20.704996Z"
    }
   },
   "cell_type": "code",
   "source": "url_list[0]",
   "id": "943e488f9280d390",
   "outputs": [
    {
     "data": {
      "text/plain": [
       "'https://www.nextbigfuture.com/2025/08/tesla-gets-a-texas-rideshare-network-license.html'"
      ]
     },
     "execution_count": 171,
     "metadata": {},
     "output_type": "execute_result"
    }
   ],
   "execution_count": 171
  },
  {
   "metadata": {
    "ExecuteTime": {
     "end_time": "2025-08-10T17:41:18.352925Z",
     "start_time": "2025-08-10T17:41:18.309920Z"
    }
   },
   "cell_type": "code",
   "source": "data['content']",
   "id": "d63208c0ae948ed",
   "outputs": [
    {
     "data": {
      "text/plain": [
       "['Home»Artificial intelligence»Tesla Gets a Texas Rideshare Network License',\n",
       " 'Tesla obtained a rideshare license from the Texas Department of Licensing and Regulation on August 7, 2025, is a significant step toward operating its Robotaxi service statewide. This Transportation Network Company (TNC) license aligns with Senate Bill 2807 (SB 2807). This new law signed by Governor Greg Abbott in June 2025 that takes effect on September 1, 2025. The law establishes a regulatory framework for automated motor vehicles (AVs) in Texas, treating ride-sharing services using AVs similar to those with human drivers.',\n",
       " 'As of August 8, 2025, Tesla Robotaxi LLC has been officially granted a rideshare license in Texas under the new law. This classifies it as a Transportation Network Company (TNC)—the same licensing structure as Uber and Lyft.',\n",
       " 'Tesla can scale its robotaxi footprint across more of Austin and potentially to other Texas cities under the TNC structure.',\n",
       " 'Operations without monitors will require Tesla to satisfy SB 2807’s greater oversight, including emergency response plans, sensor redundancy, and possibly safety performance data.',\n",
       " 'Tesla may need to finalize DMV authorization for full compliance, the license and upcoming regulations directly support shifting to driverless operations and expanding the fleet, positioning Texas as a key launch market for Robotaxi.',\n",
       " 'Human-driven TNC trips (drivers using Teslas) –  Independent TNC drivers can continue to use their Teslas as typical rideshare drivers under local TNC rules (insurance, driver vetting, vehicle registration). Nothing in SB 2807 prevents human-driven rideshare in Teslas.',\n",
       " 'Tesla must register/authorize each vehicle that will accept AV dispatches. Tesla controls which vehicles are in its robotaxi fleet; private drivers can’t opt their cars into unsupervised robotaxi service without Tesla’s systems and TxDMV approval.',\n",
       " 'Brian Wang is a Futurist Thought Leader and a popular Science blogger with 1 million readers per month. His blog Nextbigfuture.com is ranked #1 Science News Blog. It covers many disruptive technology and trends including Space, Robotics, Artificial Intelligence, Medicine, Anti-aging Biotechnology, and Nanotechnology.',\n",
       " 'Known for identifying cutting edge technologies, he is currently a Co-Founder of a startup and fundraiser for high potential early-stage companies. He is the Head of Research for Allocations for deep technology investments and an Angel Investor at Space Angels.',\n",
       " 'A frequent speaker at corporations, he has been a TEDx speaker, a Singularity University speaker and guest at numerous interviews for radio and podcasts.\\xa0 He is open to public speaking and advising engagements.',\n",
       " 'Comment',\n",
       " '']"
      ]
     },
     "execution_count": 173,
     "metadata": {},
     "output_type": "execute_result"
    }
   ],
   "execution_count": 173
  },
  {
   "metadata": {},
   "cell_type": "markdown",
   "source": [
    "## This works great man\n",
    "NewsAPI - get data - get url - scrap content"
   ],
   "id": "b2a33d5b86210d3"
  },
  {
   "metadata": {},
   "cell_type": "code",
   "outputs": [],
   "execution_count": null,
   "source": "news",
   "id": "fdb8ce75555433ed"
  }
 ],
 "metadata": {},
 "nbformat": 4,
 "nbformat_minor": 5
}
