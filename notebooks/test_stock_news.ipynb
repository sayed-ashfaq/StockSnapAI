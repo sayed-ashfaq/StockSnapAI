{
 "cells": [
  {
   "metadata": {
    "ExecuteTime": {
     "end_time": "2025-08-10T14:58:03.473148Z",
     "start_time": "2025-08-10T14:58:03.441692Z"
    }
   },
   "cell_type": "code",
   "source": [
    "from dotenv import load_dotenv\n",
    "load_dotenv()"
   ],
   "id": "2b649203001ab93f",
   "outputs": [
    {
     "data": {
      "text/plain": [
       "True"
      ]
     },
     "execution_count": 1,
     "metadata": {},
     "output_type": "execute_result"
    }
   ],
   "execution_count": 1
  },
  {
   "metadata": {
    "ExecuteTime": {
     "end_time": "2025-08-10T14:58:47.782004Z",
     "start_time": "2025-08-10T14:58:46.952635Z"
    }
   },
   "cell_type": "code",
   "source": [
    "import requests\n",
    "import os\n",
    "api_key = os.getenv(\"ALPHAVANTAGE_API_KEY\")"
   ],
   "id": "3080354c3c7e65e5",
   "outputs": [],
   "execution_count": 2
  },
  {
   "metadata": {
    "ExecuteTime": {
     "end_time": "2025-08-10T15:03:25.716012Z",
     "start_time": "2025-08-10T15:03:25.702282Z"
    }
   },
   "cell_type": "code",
   "source": "END_POINT= \"https://www.alphavantage.co/query\"\n",
   "id": "1b913df0d0adea2d",
   "outputs": [],
   "execution_count": 6
  },
  {
   "metadata": {
    "ExecuteTime": {
     "end_time": "2025-08-10T15:03:08.457082Z",
     "start_time": "2025-08-10T15:03:08.408645Z"
    }
   },
   "cell_type": "code",
   "source": [
    "def stock_news(ticker='TSLA'):\n",
    "    news_params = {\n",
    "        \"apikey\": api_key,\n",
    "        \"tickers\": ticker,\n",
    "        \"function\": \"NEWS_SENTIMENT\",\n",
    "        \"sort\": \"LATEST\",\n",
    "        \"limit\":10\n",
    "    }\n",
    "    response = requests.get(END_POINT, params=news_params)\n",
    "    response.raise_for_status()\n",
    "    news_data = response.json()\n",
    "\n",
    "    # Extract headlines and descriptions for top 3 articles\n",
    "    top_headlines = []\n",
    "    top_description = []\n",
    "    for i in range(min(int(news_data['totalResults']), 3)):\n",
    "        headlines = news_data['articles'][i]['title']\n",
    "        description = news_data['articles'][i]['description']\n",
    "        top_headlines.append(headlines)\n",
    "        top_description.append(description)\n",
    "\n",
    "    # Return news as a list of tuples\n",
    "    return [(top_headlines[i], top_description[i]) for i in range(len(top_headlines))]"
   ],
   "id": "1b3c9f7341c57383",
   "outputs": [],
   "execution_count": 4
  },
  {
   "metadata": {
    "ExecuteTime": {
     "end_time": "2025-08-10T15:06:24.957005Z",
     "start_time": "2025-08-10T15:06:23.465029Z"
    }
   },
   "cell_type": "code",
   "source": [
    "news_params = {\n",
    "        \"apikey\": api_key,\n",
    "        \"tickers\": \"TSLA\",\n",
    "        \"function\": \"NEWS\",\n",
    "        \"sort\": \"LATEST\",\n",
    "        \"limit\":10\n",
    "    }\n",
    "response = requests.get(END_POINT, params=news_params)\n",
    "response.raise_for_status()\n",
    "news_data = response.json()"
   ],
   "id": "92e248a15ef02d24",
   "outputs": [],
   "execution_count": 17
  },
  {
   "metadata": {
    "ExecuteTime": {
     "end_time": "2025-08-10T15:06:27.834324Z",
     "start_time": "2025-08-10T15:06:27.824464Z"
    }
   },
   "cell_type": "code",
   "source": "news_data.keys()",
   "id": "4bf905ba4028b40e",
   "outputs": [
    {
     "data": {
      "text/plain": [
       "dict_keys(['Error Message'])"
      ]
     },
     "execution_count": 18,
     "metadata": {},
     "output_type": "execute_result"
    }
   ],
   "execution_count": 18
  },
  {
   "metadata": {
    "ExecuteTime": {
     "end_time": "2025-08-10T15:06:38.042597Z",
     "start_time": "2025-08-10T15:06:38.031483Z"
    }
   },
   "cell_type": "code",
   "source": "news_data",
   "id": "998500ab9ad14717",
   "outputs": [
    {
     "data": {
      "text/plain": [
       "{'Error Message': 'This API function (NEWS) does not exist.'}"
      ]
     },
     "execution_count": 19,
     "metadata": {},
     "output_type": "execute_result"
    }
   ],
   "execution_count": 19
  },
  {
   "metadata": {
    "ExecuteTime": {
     "end_time": "2025-08-10T15:05:39.910907Z",
     "start_time": "2025-08-10T15:05:39.896518Z"
    }
   },
   "cell_type": "code",
   "source": "news_data['feed'][0]",
   "id": "c1de87887f75d05e",
   "outputs": [
    {
     "data": {
      "text/plain": [
       "{'title': \"Consumer Tech News  ( August 4-August 8 ) : Earnings From Palantir, Uber, Shopify & More Amid Trump's Tariff Saga - Apple  ( NASDAQ:AAPL ) , Airbnb  ( NASDAQ:ABNB ) \",\n",
       " 'url': 'https://www.benzinga.com/markets/equities/25/08/47021037/consumer-tech-news-august-4-august-8-earnings-from-palantir-uber-shopify-more-amid-trumps-tariff',\n",
       " 'time_published': '20250810T123108',\n",
       " 'authors': ['Nabaparna Bhattacharya'],\n",
       " 'summary': 'Ceasefire feelers and new U.S. tariffs on gold bars, India and Switzerland drove a record gold spread; crude briefly dipped sub-$64. Earnings prints from Palantir, Uber, Shopify, Datadog and more underpinned a rebound after weak jobs data and a June inflation uptick.',\n",
       " 'banner_image': 'https://cdn.benzinga.com/files/images/story/2025/08/10/AI3d-Graphics-Concept-Big-Data-Center-Fe.jpeg?width=1200&height=800&fit=crop',\n",
       " 'source': 'Benzinga',\n",
       " 'category_within_source': 'General',\n",
       " 'source_domain': 'www.benzinga.com',\n",
       " 'topics': [{'topic': 'Economy - Monetary', 'relevance_score': '0.576289'},\n",
       "  {'topic': 'Financial Markets', 'relevance_score': '0.918141'},\n",
       "  {'topic': 'Manufacturing', 'relevance_score': '0.5'},\n",
       "  {'topic': 'Earnings', 'relevance_score': '0.999894'},\n",
       "  {'topic': 'Technology', 'relevance_score': '0.5'}],\n",
       " 'overall_sentiment_score': 0.036231,\n",
       " 'overall_sentiment_label': 'Neutral',\n",
       " 'ticker_sentiment': [{'ticker': 'APP',\n",
       "   'relevance_score': '0.074576',\n",
       "   'ticker_sentiment_score': '-0.146494',\n",
       "   'ticker_sentiment_label': 'Neutral'},\n",
       "  {'ticker': 'GOOG',\n",
       "   'relevance_score': '0.074576',\n",
       "   'ticker_sentiment_score': '-0.215566',\n",
       "   'ticker_sentiment_label': 'Somewhat-Bearish'},\n",
       "  {'ticker': 'AAPL',\n",
       "   'relevance_score': '0.074576',\n",
       "   'ticker_sentiment_score': '0.002125',\n",
       "   'ticker_sentiment_label': 'Neutral'},\n",
       "  {'ticker': 'TTD',\n",
       "   'relevance_score': '0.074576',\n",
       "   'ticker_sentiment_score': '0.110022',\n",
       "   'ticker_sentiment_label': 'Neutral'},\n",
       "  {'ticker': 'BSQKZ',\n",
       "   'relevance_score': '0.037329',\n",
       "   'ticker_sentiment_score': '0.0',\n",
       "   'ticker_sentiment_label': 'Neutral'},\n",
       "  {'ticker': 'F',\n",
       "   'relevance_score': '0.074576',\n",
       "   'ticker_sentiment_score': '0.057273',\n",
       "   'ticker_sentiment_label': 'Neutral'},\n",
       "  {'ticker': 'GM',\n",
       "   'relevance_score': '0.074576',\n",
       "   'ticker_sentiment_score': '0.059136',\n",
       "   'ticker_sentiment_label': 'Neutral'},\n",
       "  {'ticker': 'SMCI',\n",
       "   'relevance_score': '0.074576',\n",
       "   'ticker_sentiment_score': '0.0',\n",
       "   'ticker_sentiment_label': 'Neutral'},\n",
       "  {'ticker': 'DDOG',\n",
       "   'relevance_score': '0.11166',\n",
       "   'ticker_sentiment_score': '-0.159041',\n",
       "   'ticker_sentiment_label': 'Somewhat-Bearish'},\n",
       "  {'ticker': 'RIVN',\n",
       "   'relevance_score': '0.074576',\n",
       "   'ticker_sentiment_score': '0.0',\n",
       "   'ticker_sentiment_label': 'Neutral'},\n",
       "  {'ticker': 'ABNB',\n",
       "   'relevance_score': '0.074576',\n",
       "   'ticker_sentiment_score': '0.0',\n",
       "   'ticker_sentiment_label': 'Neutral'},\n",
       "  {'ticker': 'DASH',\n",
       "   'relevance_score': '0.074576',\n",
       "   'ticker_sentiment_score': '0.110022',\n",
       "   'ticker_sentiment_label': 'Neutral'},\n",
       "  {'ticker': 'DJT',\n",
       "   'relevance_score': '0.074576',\n",
       "   'ticker_sentiment_score': '0.120146',\n",
       "   'ticker_sentiment_label': 'Neutral'},\n",
       "  {'ticker': 'TSM',\n",
       "   'relevance_score': '0.074576',\n",
       "   'ticker_sentiment_score': '0.049385',\n",
       "   'ticker_sentiment_label': 'Neutral'},\n",
       "  {'ticker': 'SHOP',\n",
       "   'relevance_score': '0.11166',\n",
       "   'ticker_sentiment_score': '-0.182269',\n",
       "   'ticker_sentiment_label': 'Somewhat-Bearish'},\n",
       "  {'ticker': 'TSLA',\n",
       "   'relevance_score': '0.11166',\n",
       "   'ticker_sentiment_score': '0.108986',\n",
       "   'ticker_sentiment_label': 'Neutral'},\n",
       "  {'ticker': 'HYMLF',\n",
       "   'relevance_score': '0.037329',\n",
       "   'ticker_sentiment_score': '0.0',\n",
       "   'ticker_sentiment_label': 'Neutral'},\n",
       "  {'ticker': 'INTC',\n",
       "   'relevance_score': '0.074576',\n",
       "   'ticker_sentiment_score': '0.259657',\n",
       "   'ticker_sentiment_label': 'Somewhat-Bullish'},\n",
       "  {'ticker': 'UBER',\n",
       "   'relevance_score': '0.11166',\n",
       "   'ticker_sentiment_score': '-0.147302',\n",
       "   'ticker_sentiment_label': 'Neutral'},\n",
       "  {'ticker': 'ON',\n",
       "   'relevance_score': '0.037329',\n",
       "   'ticker_sentiment_score': '0.046748',\n",
       "   'ticker_sentiment_label': 'Neutral'},\n",
       "  {'ticker': 'PLTR',\n",
       "   'relevance_score': '0.074576',\n",
       "   'ticker_sentiment_score': '-0.041348',\n",
       "   'ticker_sentiment_label': 'Neutral'}]}"
      ]
     },
     "execution_count": 16,
     "metadata": {},
     "output_type": "execute_result"
    }
   ],
   "execution_count": 16
  },
  {
   "metadata": {
    "ExecuteTime": {
     "end_time": "2025-08-10T15:25:56.490201Z",
     "start_time": "2025-08-10T15:25:56.466825Z"
    }
   },
   "cell_type": "code",
   "source": [
    "END_POINT= \"https://api.marketaux.com/v1/news\"\n",
    "api_key = os.getenv(\"MARKETAUX_API_KEY\")"
   ],
   "id": "8492bc62b5cd31d",
   "outputs": [],
   "execution_count": 29
  },
  {
   "metadata": {
    "ExecuteTime": {
     "end_time": "2025-08-10T15:25:16.371776Z",
     "start_time": "2025-08-10T15:25:16.351936Z"
    }
   },
   "cell_type": "code",
   "source": "ticker= \"AAPL\"",
   "id": "7c92195b30eb76f1",
   "outputs": [],
   "execution_count": 28
  },
  {
   "metadata": {},
   "cell_type": "code",
   "outputs": [],
   "execution_count": null,
   "source": [
    "# Function to fetch top 3 news articles for the company\n",
    "def stock_news(ticker):\n",
    "    news_params = {\n",
    "        \"apiKey\": api_key,\n",
    "        \"symbols\": ticker,\n",
    "        \"sortBy\": \"popularity\"\n",
    "    }\n",
    "    response = requests.get(END_POINT, params=news_params)\n",
    "    response.raise_for_status()\n",
    "    news_data = response.json()\n",
    "\n",
    "    # Extract headlines and descriptions for top 3 articles\n",
    "    top_headlines = []\n",
    "    top_description = []\n",
    "    for i in range(min(int(news_data['totalResults']), 3)):\n",
    "        headlines = news_data['articles'][i]['title']\n",
    "        description = news_data['articles'][i]['description']\n",
    "        top_headlines.append(headlines)\n",
    "        top_description.append(description)\n",
    "\n",
    "    # Return news as a list of tuples\n",
    "    return [(top_headlines[i], top_description[i]) for i in range(len(top_headlines))]"
   ],
   "id": "d5701a41a8f4791"
  },
  {
   "metadata": {},
   "cell_type": "code",
   "outputs": [],
   "execution_count": null,
   "source": "",
   "id": "ab186bd4e175b086"
  },
  {
   "metadata": {
    "ExecuteTime": {
     "end_time": "2025-08-10T15:21:14.853883Z",
     "start_time": "2025-08-10T15:21:13.811357Z"
    }
   },
   "cell_type": "code",
   "source": [
    "from bs4 import BeautifulSoup\n",
    "import requests\n",
    "def souper(url):\n",
    "    url = \"https://www.benzinga.com/markets/equities/25/08/47021037/consumer-tech-news-august-4-august-8-earnings-from-palantir-uber-shopify-more-amid-trumps-tariff\"\n",
    "    response = requests.get(url)\n",
    "    html = response.text\n",
    "    soup = BeautifulSoup(html, \"html.parser\")\n",
    "    return soup\n"
   ],
   "id": "2619bf8da503a66c",
   "outputs": [],
   "execution_count": 21
  },
  {
   "metadata": {
    "ExecuteTime": {
     "end_time": "2025-08-10T15:24:32.250618Z",
     "start_time": "2025-08-10T15:24:32.231990Z"
    }
   },
   "cell_type": "code",
   "source": "response",
   "id": "e9704c401cd339ff",
   "outputs": [
    {
     "data": {
      "text/plain": [
       "<Response [200]>"
      ]
     },
     "execution_count": 27,
     "metadata": {},
     "output_type": "execute_result"
    }
   ],
   "execution_count": 27
  },
  {
   "metadata": {
    "ExecuteTime": {
     "end_time": "2025-08-10T15:21:35.023521Z",
     "start_time": "2025-08-10T15:21:34.957756Z"
    }
   },
   "cell_type": "code",
   "source": [
    "# Headline\n",
    "\n",
    "def scrapper(soup):\n",
    "    headline = soup.find(\"h1\").get_text(strip=True)\n",
    "\n",
    "    # Zinger Key Points (bullets)\n",
    "    bullets = [li.get_text(strip=True) for li in soup.select(\"li\") if 'Key Points' in li.text or li.text.startswith('*')]\n",
    "\n",
    "    # Main paragraphs\n",
    "    paragraphs = [p.get_text(strip=True) for p in soup.find_all(\"p\")]\n",
    "\n",
    "    # Combine into one structured output\n",
    "    article_data = {\n",
    "        \"headline\": headline,\n",
    "        \"key_points\": bullets,\n",
    "        \"content\": paragraphs,\n",
    "    }\n",
    "    return article_data\n"
   ],
   "id": "a2cb6b31fb487e88",
   "outputs": [],
   "execution_count": 23
  },
  {
   "metadata": {
    "ExecuteTime": {
     "end_time": "2025-08-10T15:21:45.050811Z",
     "start_time": "2025-08-10T15:21:45.038458Z"
    }
   },
   "cell_type": "code",
   "source": "paragraphs",
   "id": "631d438e1903f7e0",
   "outputs": [
    {
     "data": {
      "text/plain": [
       "['Benzinga Rankings give you vital metrics on any stock – anytime.',\n",
       " 'U.S.–Russia ceasefire feelers set the backdrop as PresidentDonald Trump’ssurprise gold-bar tariff and broader trade moves met resilient tech earnings, lifting Wall Street after a jobs miss and June inflation uptick, while oilpared losses .',\n",
       " 'Reports from Washington and Moscow indicate exploratory talks on a Ukraine ceasefire that could formalize some Russian territorial gains, with a Trump–Putin summit under consideration next week.',\n",
       " 'On trade, President Donald Trump announced a surprise U.S. import tariff on gold bars, a move seen pressuring Switzerland’s refining industry; the New York futures–spot spread widened to arecord $90/oz as bullion edged 0.1% higher to $3,400/oz.',\n",
       " 'Also Read:‘Zuck Poaching Effect’ Pushes OpenAI To Announce $1.5 Million Bonus For All Employees—Even New Hires, Says Tech Entrepreneur',\n",
       " 'On the tariff front, Trump\\xa0doubled duties on Indian imports to 50%, targeting New Delhi’s purchase and resaleof Russian crude.',\n",
       " 'He also confirmed a 39% tariff on Swiss imports and imposed new duties on one-kilogram gold bars, a move that could pressure Swiss gold refineries and disrupt the gold futures market.',\n",
       " 'After last week’s declines—sparked by a weaker-than-expected jobs report and a June inflation uptick—Wall Street rebounded as earnings momentum remained firm.',\n",
       " 'In commodities, oil briefly dipped below $64/bbl before paring losses, positioning to end a six-session slide.',\n",
       " 'Earnings:',\n",
       " 'Palantir Technologies Inc.PLTRreported second-quarter revenue of $1.004 billion, beating\\xa0analyst estimates of $939.71 million. The company reported second-quarter adjusted earnings of 16 cents per share,beating analyst estimates of 14 cents per share.',\n",
       " 'Uber Technologies, Inc.UBERreported second-quarter revenue growth of 18% year-on-year to $12.65 billion, beating theanalyst consensus estimate\\xa0of $12.46 billion.',\n",
       " 'Airbnb, Inc.ABNBreported $3.1 billion in revenue in second-quarter, up 13% year-over-year, and ahead of consensusestimates at $3.03 billion.',\n",
       " 'Shopify Inc.SHOPreported adjusted EPS of 35 cents in the second quarter, up 34.6% year over year, but missed the\\xa0analystconsensus\\xa0estimate\\xa0of 29 cents.',\n",
       " 'DoorDash, Inc.DASHreported second-quarter earnings of\\xa065\\xa0cents per share, which beat the analystconsensus estimate of\\xa043\\xa0cents.',\n",
       " 'Super Micro Computer, Inc.SMCIreported fourth-quarter net sales of $5.76 billion, up from $4.6 billion in the third quarter and $5.4 billionin last year’s fourth quarter.',\n",
       " 'Datadog, Inc’sDDOGfiscal second-quarter\\xa0revenue increased 28% year-over-year\\xa0to $826.76 million, beating the\\xa0analystconsensus estimate\\xa0of $790.97 million.',\n",
       " 'Block, Inc.XYZreported second-quarter earnings of 62 cents per share, whichmissed the analyst consensus estimate of 68 cents.',\n",
       " 'The Trade Desk, Inc.TTDreported second-quarter earnings of\\xa041\\xa0cents per share,which is in line with the analyst estimate.',\n",
       " 'Applovin CorporationAPPreported second-quarter revenue of $1.26 billion,missing analyst\\xa0estimates of $1.31 billion.',\n",
       " 'Rivian Automotive, Inc.RIVNreported second-quarter net sales of $1.303 billion, up 5.1% year-over-year. The revenue beat aStreet consensus estimate of $1.29 billion.',\n",
       " 'Technology:',\n",
       " 'Intel CorporationINTCCEOLip-Bu Tanhas responded to calls for his resignation by PresidentDonald Trump, asserting his loyalty to the U.S. and hiscommitment to the company’s success.',\n",
       " 'Alphabet Inc.GOOGGOOGLhas confirmed a data breach that has affected some of its customers. The breach was attributed to a hacking group known as ShinyHunters,also referred to as UNC6040.',\n",
       " 'Taiwan Semiconductor Manufacturing Company Ltd.TSMstock jumped following confirmation from Taiwanese officials that the world’s largest contract chipmaker is exempt from PresidentDonald Trump’sproposed 100%tariffs on semiconductor chips.',\n",
       " 'WedbushSecurities’Dan Iveshas warned that\\xa0Apple Inc.’sAAPLfailure to innovate in artificial intelligence could tarnish CEOTim Cook’slegacy, as other tech giantsrace ahead in the AI revolution.',\n",
       " 'Artificial Intelligence:',\n",
       " 'OpenAI, a leading artificial intelligence (AI) company, has introduced its latest AI chatbot, GPT-5, which it claims offers expertise at aPhD level in various fields.',\n",
       " 'Trump Media & Technology Group Corp.DJTrolled out public beta testing of its new AI-powered search feature\\xa0on theTruth Social platform.',\n",
       " 'The firm has partnered withPerplexityto introduceTruth Search AIin its web interface, with mobile testing on iOS and Android slated to begin soon.',\n",
       " 'Automobiles:',\n",
       " 'PresidentDonald Trumphas defendedTesla, Inc.TSLACEOElon Muskamid backlash over thebillionaire’s political activities.',\n",
       " 'Teslahas pulled the plug on itsDojo Supercomputerteam, responsible for developing in-house AI capabilities, including self-driving chipsand AI model training efforts.',\n",
       " 'Ford Motor CompanyFwill reportedly delay plans to develop an all-electric pickup truck as well as a van to push for smaller, affordable electric vehiclesamid rising competition from China.',\n",
       " 'General Motors CompanyGMwill import LFP batteries from China’sContemporary Amperex Technology Limited, orCATL, until its partner, Korea’sLG Energy Solutions, can rampup domestic battery production in the U.S.',\n",
       " 'The firm has announced a partnership with Korean automakerHyundai Motor Co., Ltd.HYMTFto develop over 5 new models amid rising competition from Chinese automakers.',\n",
       " 'Read Next:',\n",
       " 'Benzinga Rankings give you vital metrics on any stock – anytime.',\n",
       " '© 2025 Benzinga.com. Benzinga does not provide investment advice. All rights reserved.',\n",
       " 'A newsletter built for market enthusiasts by market enthusiasts. Top stories, top movers, and trade ideas delivered to your inbox every weekday before and after the market closes.']"
      ]
     },
     "execution_count": 24,
     "metadata": {},
     "output_type": "execute_result"
    }
   ],
   "execution_count": 24
  },
  {
   "metadata": {
    "ExecuteTime": {
     "end_time": "2025-08-10T15:22:30.382660Z",
     "start_time": "2025-08-10T15:22:30.223625Z"
    }
   },
   "cell_type": "code",
   "source": "headline",
   "id": "acdd6d917cdc573a",
   "outputs": [
    {
     "data": {
      "text/plain": [
       "\"Consumer Tech News (August 4–August 8): Earnings From Palantir, Uber, Shopify & More Amid Trump's Tariff Saga\""
      ]
     },
     "execution_count": 25,
     "metadata": {},
     "output_type": "execute_result"
    }
   ],
   "execution_count": 25
  },
  {
   "metadata": {},
   "cell_type": "code",
   "outputs": [],
   "execution_count": null,
   "source": "",
   "id": "a8513ed56ebcd04d"
  }
 ],
 "metadata": {},
 "nbformat": 4,
 "nbformat_minor": 5
}
